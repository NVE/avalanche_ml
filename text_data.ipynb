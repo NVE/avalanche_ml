{
 "cells": [
  {
   "cell_type": "code",
   "execution_count": 1,
   "id": "eight-harvey",
   "metadata": {},
   "outputs": [],
   "source": [
    "from collections import Counter\n",
    "import nltk\n",
    "import string\n",
    "import numpy as np\n",
    "import pandas as pd\n",
    "\n",
    "import matplotlib.pyplot as plt\n",
    "%matplotlib inline\n",
    "import seaborn as sns\n",
    "\n",
    "from avaml.aggregatedata import download\n",
    "from avaml import Error, varsomdata, setenvironment as se, _NONE, CSV_VERSION, REGIONS, merge\n",
    "from avaml.get_text_data import TextDataset\n",
    "from avaml.aggregatedata import ForecastDataset, LabeledData, REG_ENG, CsvMissingError\n",
    "\n",
    "from utils.preprocess import preprocess"
   ]
  },
  {
   "cell_type": "markdown",
   "id": "resistant-rubber",
   "metadata": {},
   "source": [
    "Varsom data has class in API, class Avalanche Warning, avalanche danger message is here:\n",
    "https://github.com/NVE/varsomdata/blob/471a0e368e3f69352f27d73cb19ce8efa82d9467/varsomdata/getforecastapi.py"
   ]
  },
  {
   "cell_type": "code",
   "execution_count": 2,
   "id": "happy-collect",
   "metadata": {},
   "outputs": [
    {
     "name": "stdout",
     "output_type": "stream",
     "text": [
      "Fetching online data. (This may take a long time.)\n",
      "    Getting data for season: 2017-18\n",
      "    Getting data for season: 2018-19\n",
      "    Getting data for season: 2019-20\n",
      "Done!\n",
      "\n",
      "Creating labeled dataset.\n",
      "Done!\n"
     ]
    }
   ],
   "source": [
    "model_prefix = ''\n",
    "days = 1\n",
    "regobs_types = list(REG_ENG.keys())\n",
    "text_data = TextDataset(regobs_types=regobs_types).label(days, with_varsom=True)"
   ]
  },
  {
   "cell_type": "code",
   "execution_count": 3,
   "id": "rough-packing",
   "metadata": {},
   "outputs": [
    {
     "data": {
      "text/plain": [
       "dict_keys(['data', 'danger_text', 'row_weight', 'label', 'pred', 'days', 'with_varsom', 'regobs_types', 'single', 'seasons', 'with_regions'])"
      ]
     },
     "execution_count": 3,
     "metadata": {},
     "output_type": "execute_result"
    }
   ],
   "source": [
    "vars(text_data).keys()"
   ]
  },
  {
   "cell_type": "code",
   "execution_count": 4,
   "id": "electrical-guitar",
   "metadata": {},
   "outputs": [],
   "source": [
    "# flatten and encode columns\n",
    "text_data = preprocess(text_data)\n",
    "\n",
    "# reorder indices so that regions are first\n",
    "text_data.data = text_data.data.reorder_levels([1, 0])\n",
    "text_data.label = text_data.label.reorder_levels([1, 0])\n",
    "text_data.danger_text = text_data.danger_text.reorder_levels([1, 0])\n",
    "\n",
    "# extract different keys from dictionary\n",
    "data = text_data.data\n",
    "labels = text_data.label\n",
    "text = text_data.danger_text"
   ]
  },
  {
   "cell_type": "code",
   "execution_count": 5,
   "id": "existing-bottle",
   "metadata": {},
   "outputs": [
    {
     "data": {
      "text/html": [
       "<div>\n",
       "<style scoped>\n",
       "    .dataframe tbody tr th:only-of-type {\n",
       "        vertical-align: middle;\n",
       "    }\n",
       "\n",
       "    .dataframe tbody tr th {\n",
       "        vertical-align: top;\n",
       "    }\n",
       "\n",
       "    .dataframe thead th {\n",
       "        text-align: right;\n",
       "    }\n",
       "</style>\n",
       "<table border=\"1\" class=\"dataframe\">\n",
       "  <thead>\n",
       "    <tr style=\"text-align: right;\">\n",
       "      <th></th>\n",
       "      <th></th>\n",
       "      <th>danger_text</th>\n",
       "    </tr>\n",
       "  </thead>\n",
       "  <tbody>\n",
       "    <tr>\n",
       "      <th>3031</th>\n",
       "      <th>2017-11-22</th>\n",
       "      <td>Vurderingen av snøskredfaren baseres hovedsake...</td>\n",
       "    </tr>\n",
       "    <tr>\n",
       "      <th>3034</th>\n",
       "      <th>2017-11-22</th>\n",
       "      <td>Vurderingen av snøskredfaren baseres hovedsake...</td>\n",
       "    </tr>\n",
       "    <tr>\n",
       "      <th>3031</th>\n",
       "      <th>2017-11-23</th>\n",
       "      <td>Vurderingen av snøskredfaren baseres hovedsake...</td>\n",
       "    </tr>\n",
       "    <tr>\n",
       "      <th>3034</th>\n",
       "      <th>2017-11-23</th>\n",
       "      <td>Vurderingen av snøskredfaren baseres hovedsake...</td>\n",
       "    </tr>\n",
       "    <tr>\n",
       "      <th>3007</th>\n",
       "      <th>2017-11-29</th>\n",
       "      <td>Et polart lavtrykk gir kraftig vind og enkelte...</td>\n",
       "    </tr>\n",
       "    <tr>\n",
       "      <th>...</th>\n",
       "      <th>...</th>\n",
       "      <td>...</td>\n",
       "    </tr>\n",
       "    <tr>\n",
       "      <th>3031</th>\n",
       "      <th>2021-01-12</th>\n",
       "      <td>Vinden øker på igjen tirsdag, men fra nord, og...</td>\n",
       "    </tr>\n",
       "    <tr>\n",
       "      <th>3032</th>\n",
       "      <th>2021-01-12</th>\n",
       "      <td>Vinden øker på igjen tirsdag, men fra nord, og...</td>\n",
       "    </tr>\n",
       "    <tr>\n",
       "      <th>3034</th>\n",
       "      <th>2021-01-12</th>\n",
       "      <td>Vinden øker på igjen tirsdag, men fra nord, og...</td>\n",
       "    </tr>\n",
       "    <tr>\n",
       "      <th>3035</th>\n",
       "      <th>2021-01-12</th>\n",
       "      <td>Vinden øker på igjen tirsdag, men fra nord, og...</td>\n",
       "    </tr>\n",
       "    <tr>\n",
       "      <th>3037</th>\n",
       "      <th>2021-01-12</th>\n",
       "      <td>Vinden øker på igjen tirsdag, men fra nord, og...</td>\n",
       "    </tr>\n",
       "  </tbody>\n",
       "</table>\n",
       "<p>13213 rows × 1 columns</p>\n",
       "</div>"
      ],
      "text/plain": [
       "                                                       danger_text\n",
       "3031 2017-11-22  Vurderingen av snøskredfaren baseres hovedsake...\n",
       "3034 2017-11-22  Vurderingen av snøskredfaren baseres hovedsake...\n",
       "3031 2017-11-23  Vurderingen av snøskredfaren baseres hovedsake...\n",
       "3034 2017-11-23  Vurderingen av snøskredfaren baseres hovedsake...\n",
       "3007 2017-11-29  Et polart lavtrykk gir kraftig vind og enkelte...\n",
       "...                                                            ...\n",
       "3031 2021-01-12  Vinden øker på igjen tirsdag, men fra nord, og...\n",
       "3032 2021-01-12  Vinden øker på igjen tirsdag, men fra nord, og...\n",
       "3034 2021-01-12  Vinden øker på igjen tirsdag, men fra nord, og...\n",
       "3035 2021-01-12  Vinden øker på igjen tirsdag, men fra nord, og...\n",
       "3037 2021-01-12  Vinden øker på igjen tirsdag, men fra nord, og...\n",
       "\n",
       "[13213 rows x 1 columns]"
      ]
     },
     "execution_count": 5,
     "metadata": {},
     "output_type": "execute_result"
    }
   ],
   "source": [
    "text"
   ]
  },
  {
   "cell_type": "markdown",
   "id": "serial-mirror",
   "metadata": {},
   "source": [
    "# Clustering text by danger level, avalanche problem 1 and 2\n",
    "\n",
    "## Danger level"
   ]
  },
  {
   "cell_type": "code",
   "execution_count": 6,
   "id": "personal-consultation",
   "metadata": {},
   "outputs": [
    {
     "data": {
      "text/plain": [
       "array([1, 2, 3, 4])"
      ]
     },
     "execution_count": 6,
     "metadata": {},
     "output_type": "execute_result"
    }
   ],
   "source": [
    "np.unique(labels['CLASS_danger_level'])"
   ]
  },
  {
   "cell_type": "code",
   "execution_count": 7,
   "id": "desirable-norman",
   "metadata": {},
   "outputs": [
    {
     "data": {
      "image/png": "[encoded data removed]",
      "text/plain": [
       "<Figure size 504x504 with 1 Axes>"
      ]
     },
     "metadata": {
      "needs_background": "light"
     },
     "output_type": "display_data"
    }
   ],
   "source": [
    "fig, ax = plt.subplots(figsize=(7, 7))\n",
    "\n",
    "ax.hist(labels['CLASS_danger_level'].values, edgecolor='k')\n",
    "\n",
    "ax.set_xlabel('Danger level')\n",
    "ax.set_ylabel('Frequency')\n",
    "ax.set_title('Frequency of danger levels, 2017-2020')\n",
    "plt.show()"
   ]
  },
  {
   "cell_type": "markdown",
   "id": "meaning-memory",
   "metadata": {},
   "source": [
    "So most of the time the danger level is 1 or 2, although 3 is not uncommon. A danger level of 4 is rare.\n",
    "\n",
    "Next, we can isolate where the danger level is either 1, 2, 3, or 4 and then use that to select text on those days."
   ]
  },
  {
   "cell_type": "code",
   "execution_count": 8,
   "id": "bizarre-nicaragua",
   "metadata": {},
   "outputs": [],
   "source": [
    "dlevel1_idx = labels.index[np.where(labels['CLASS_danger_level'] == 1)[0]]\n",
    "dlevel2_idx = labels.index[np.where(labels['CLASS_danger_level'] == 2)[0]]\n",
    "dlevel3_idx = labels.index[np.where(labels['CLASS_danger_level'] == 3)[0]]\n",
    "dlevel4_idx = labels.index[np.where(labels['CLASS_danger_level'] == 4)[0]]"
   ]
  },
  {
   "cell_type": "code",
   "execution_count": 9,
   "id": "persistent-being",
   "metadata": {},
   "outputs": [
    {
     "data": {
      "text/plain": [
       "MultiIndex([(3003, '2017-12-02'),\n",
       "            (3003, '2017-12-03'),\n",
       "            (3035, '2017-12-03'),\n",
       "            (3003, '2017-12-04'),\n",
       "            (3035, '2017-12-04'),\n",
       "            (3003, '2017-12-05'),\n",
       "            (3003, '2017-12-06'),\n",
       "            (3014, '2017-12-12'),\n",
       "            (3013, '2017-12-14'),\n",
       "            (3013, '2017-12-15'),\n",
       "            ...\n",
       "            (3017, '2021-01-11'),\n",
       "            (3006, '2021-01-12'),\n",
       "            (3009, '2021-01-12'),\n",
       "            (3010, '2021-01-12'),\n",
       "            (3011, '2021-01-12'),\n",
       "            (3012, '2021-01-12'),\n",
       "            (3013, '2021-01-12'),\n",
       "            (3014, '2021-01-12'),\n",
       "            (3015, '2021-01-12'),\n",
       "            (3017, '2021-01-12')],\n",
       "           names=['region', 'date'], length=2525)"
      ]
     },
     "execution_count": 9,
     "metadata": {},
     "output_type": "execute_result"
    }
   ],
   "source": [
    "# make sure these dates show up in the indexed labels and main text messages\n",
    "dlevel1_idx"
   ]
  },
  {
   "cell_type": "code",
   "execution_count": 10,
   "id": "first-cotton",
   "metadata": {},
   "outputs": [
    {
     "data": {
      "text/html": [
       "<div>\n",
       "<style scoped>\n",
       "    .dataframe tbody tr th:only-of-type {\n",
       "        vertical-align: middle;\n",
       "    }\n",
       "\n",
       "    .dataframe tbody tr th {\n",
       "        vertical-align: top;\n",
       "    }\n",
       "\n",
       "    .dataframe thead th {\n",
       "        text-align: right;\n",
       "    }\n",
       "</style>\n",
       "<table border=\"1\" class=\"dataframe\">\n",
       "  <thead>\n",
       "    <tr style=\"text-align: right;\">\n",
       "      <th></th>\n",
       "      <th></th>\n",
       "      <th>CLASS_danger_level</th>\n",
       "      <th>CLASS_emergency_warning</th>\n",
       "      <th>CLASS_problem_1</th>\n",
       "      <th>CLASS_problem_2</th>\n",
       "      <th>CLASS_problem_3</th>\n",
       "      <th>CLASS_problem_amount</th>\n",
       "      <th>CLASS_drift_slab_cause</th>\n",
       "      <th>CLASS_drift_slab_dist</th>\n",
       "      <th>CLASS_drift_slab_dsize</th>\n",
       "      <th>CLASS_drift_slab_lev_fill</th>\n",
       "      <th>...</th>\n",
       "      <th>REAL_new_loose_lev_max</th>\n",
       "      <th>REAL_new_loose_lev_min</th>\n",
       "      <th>REAL_new_slab_lev_max</th>\n",
       "      <th>REAL_new_slab_lev_min</th>\n",
       "      <th>REAL_pwl_slab_lev_max</th>\n",
       "      <th>REAL_pwl_slab_lev_min</th>\n",
       "      <th>REAL_wet_loose_lev_max</th>\n",
       "      <th>REAL_wet_loose_lev_min</th>\n",
       "      <th>REAL_wet_slab_lev_max</th>\n",
       "      <th>REAL_wet_slab_lev_min</th>\n",
       "    </tr>\n",
       "    <tr>\n",
       "      <th>region</th>\n",
       "      <th>date</th>\n",
       "      <th></th>\n",
       "      <th></th>\n",
       "      <th></th>\n",
       "      <th></th>\n",
       "      <th></th>\n",
       "      <th></th>\n",
       "      <th></th>\n",
       "      <th></th>\n",
       "      <th></th>\n",
       "      <th></th>\n",
       "      <th></th>\n",
       "      <th></th>\n",
       "      <th></th>\n",
       "      <th></th>\n",
       "      <th></th>\n",
       "      <th></th>\n",
       "      <th></th>\n",
       "      <th></th>\n",
       "      <th></th>\n",
       "      <th></th>\n",
       "      <th></th>\n",
       "    </tr>\n",
       "  </thead>\n",
       "  <tbody>\n",
       "    <tr>\n",
       "      <th rowspan=\"2\" valign=\"top\">3003</th>\n",
       "      <th>2017-12-02</th>\n",
       "      <td>1</td>\n",
       "      <td>0</td>\n",
       "      <td>1</td>\n",
       "      <td>0</td>\n",
       "      <td>0</td>\n",
       "      <td>1</td>\n",
       "      <td>snowdrift</td>\n",
       "      <td>1</td>\n",
       "      <td>2</td>\n",
       "      <td>1</td>\n",
       "      <td>...</td>\n",
       "      <td>0.0</td>\n",
       "      <td>0.0</td>\n",
       "      <td>0.0</td>\n",
       "      <td>0.0</td>\n",
       "      <td>0.0</td>\n",
       "      <td>0.0</td>\n",
       "      <td>0.0</td>\n",
       "      <td>0.0</td>\n",
       "      <td>0.0</td>\n",
       "      <td>0.0</td>\n",
       "    </tr>\n",
       "    <tr>\n",
       "      <th>2017-12-03</th>\n",
       "      <td>1</td>\n",
       "      <td>0</td>\n",
       "      <td>1</td>\n",
       "      <td>0</td>\n",
       "      <td>0</td>\n",
       "      <td>1</td>\n",
       "      <td>snowdrift</td>\n",
       "      <td>1</td>\n",
       "      <td>2</td>\n",
       "      <td>1</td>\n",
       "      <td>...</td>\n",
       "      <td>0.0</td>\n",
       "      <td>0.0</td>\n",
       "      <td>0.0</td>\n",
       "      <td>0.0</td>\n",
       "      <td>0.0</td>\n",
       "      <td>0.0</td>\n",
       "      <td>0.0</td>\n",
       "      <td>0.0</td>\n",
       "      <td>0.0</td>\n",
       "      <td>0.0</td>\n",
       "    </tr>\n",
       "    <tr>\n",
       "      <th>3035</th>\n",
       "      <th>2017-12-03</th>\n",
       "      <td>1</td>\n",
       "      <td>0</td>\n",
       "      <td>1</td>\n",
       "      <td>0</td>\n",
       "      <td>0</td>\n",
       "      <td>1</td>\n",
       "      <td>new-snow</td>\n",
       "      <td>2</td>\n",
       "      <td>1</td>\n",
       "      <td>1</td>\n",
       "      <td>...</td>\n",
       "      <td>0.0</td>\n",
       "      <td>0.0</td>\n",
       "      <td>0.0</td>\n",
       "      <td>0.0</td>\n",
       "      <td>0.0</td>\n",
       "      <td>0.0</td>\n",
       "      <td>0.0</td>\n",
       "      <td>0.0</td>\n",
       "      <td>0.0</td>\n",
       "      <td>0.0</td>\n",
       "    </tr>\n",
       "    <tr>\n",
       "      <th>3003</th>\n",
       "      <th>2017-12-04</th>\n",
       "      <td>1</td>\n",
       "      <td>0</td>\n",
       "      <td>1</td>\n",
       "      <td>0</td>\n",
       "      <td>0</td>\n",
       "      <td>1</td>\n",
       "      <td>snowdrift</td>\n",
       "      <td>1</td>\n",
       "      <td>2</td>\n",
       "      <td>1</td>\n",
       "      <td>...</td>\n",
       "      <td>0.0</td>\n",
       "      <td>0.0</td>\n",
       "      <td>0.0</td>\n",
       "      <td>0.0</td>\n",
       "      <td>0.0</td>\n",
       "      <td>0.0</td>\n",
       "      <td>0.0</td>\n",
       "      <td>0.0</td>\n",
       "      <td>0.0</td>\n",
       "      <td>0.0</td>\n",
       "    </tr>\n",
       "    <tr>\n",
       "      <th>3035</th>\n",
       "      <th>2017-12-04</th>\n",
       "      <td>1</td>\n",
       "      <td>0</td>\n",
       "      <td>1</td>\n",
       "      <td>0</td>\n",
       "      <td>0</td>\n",
       "      <td>1</td>\n",
       "      <td>new-snow</td>\n",
       "      <td>2</td>\n",
       "      <td>1</td>\n",
       "      <td>1</td>\n",
       "      <td>...</td>\n",
       "      <td>0.0</td>\n",
       "      <td>0.0</td>\n",
       "      <td>0.0</td>\n",
       "      <td>0.0</td>\n",
       "      <td>0.0</td>\n",
       "      <td>0.0</td>\n",
       "      <td>0.0</td>\n",
       "      <td>0.0</td>\n",
       "      <td>0.0</td>\n",
       "      <td>0.0</td>\n",
       "    </tr>\n",
       "    <tr>\n",
       "      <th>...</th>\n",
       "      <th>...</th>\n",
       "      <td>...</td>\n",
       "      <td>...</td>\n",
       "      <td>...</td>\n",
       "      <td>...</td>\n",
       "      <td>...</td>\n",
       "      <td>...</td>\n",
       "      <td>...</td>\n",
       "      <td>...</td>\n",
       "      <td>...</td>\n",
       "      <td>...</td>\n",
       "      <td>...</td>\n",
       "      <td>...</td>\n",
       "      <td>...</td>\n",
       "      <td>...</td>\n",
       "      <td>...</td>\n",
       "      <td>...</td>\n",
       "      <td>...</td>\n",
       "      <td>...</td>\n",
       "      <td>...</td>\n",
       "      <td>...</td>\n",
       "      <td>...</td>\n",
       "    </tr>\n",
       "    <tr>\n",
       "      <th>3012</th>\n",
       "      <th>2021-01-12</th>\n",
       "      <td>1</td>\n",
       "      <td>0</td>\n",
       "      <td>5</td>\n",
       "      <td>0</td>\n",
       "      <td>0</td>\n",
       "      <td>1</td>\n",
       "      <td>0</td>\n",
       "      <td>0</td>\n",
       "      <td>0</td>\n",
       "      <td>0</td>\n",
       "      <td>...</td>\n",
       "      <td>0.0</td>\n",
       "      <td>0.0</td>\n",
       "      <td>0.0</td>\n",
       "      <td>0.0</td>\n",
       "      <td>700.0</td>\n",
       "      <td>700.0</td>\n",
       "      <td>0.0</td>\n",
       "      <td>0.0</td>\n",
       "      <td>0.0</td>\n",
       "      <td>0.0</td>\n",
       "    </tr>\n",
       "    <tr>\n",
       "      <th>3013</th>\n",
       "      <th>2021-01-12</th>\n",
       "      <td>1</td>\n",
       "      <td>0</td>\n",
       "      <td>5</td>\n",
       "      <td>0</td>\n",
       "      <td>0</td>\n",
       "      <td>1</td>\n",
       "      <td>0</td>\n",
       "      <td>0</td>\n",
       "      <td>0</td>\n",
       "      <td>0</td>\n",
       "      <td>...</td>\n",
       "      <td>0.0</td>\n",
       "      <td>0.0</td>\n",
       "      <td>0.0</td>\n",
       "      <td>0.0</td>\n",
       "      <td>500.0</td>\n",
       "      <td>500.0</td>\n",
       "      <td>0.0</td>\n",
       "      <td>0.0</td>\n",
       "      <td>0.0</td>\n",
       "      <td>0.0</td>\n",
       "    </tr>\n",
       "    <tr>\n",
       "      <th>3014</th>\n",
       "      <th>2021-01-12</th>\n",
       "      <td>1</td>\n",
       "      <td>0</td>\n",
       "      <td>5</td>\n",
       "      <td>0</td>\n",
       "      <td>0</td>\n",
       "      <td>1</td>\n",
       "      <td>0</td>\n",
       "      <td>0</td>\n",
       "      <td>0</td>\n",
       "      <td>0</td>\n",
       "      <td>...</td>\n",
       "      <td>0.0</td>\n",
       "      <td>0.0</td>\n",
       "      <td>0.0</td>\n",
       "      <td>0.0</td>\n",
       "      <td>700.0</td>\n",
       "      <td>700.0</td>\n",
       "      <td>0.0</td>\n",
       "      <td>0.0</td>\n",
       "      <td>0.0</td>\n",
       "      <td>0.0</td>\n",
       "    </tr>\n",
       "    <tr>\n",
       "      <th>3015</th>\n",
       "      <th>2021-01-12</th>\n",
       "      <td>1</td>\n",
       "      <td>0</td>\n",
       "      <td>5</td>\n",
       "      <td>0</td>\n",
       "      <td>0</td>\n",
       "      <td>1</td>\n",
       "      <td>0</td>\n",
       "      <td>0</td>\n",
       "      <td>0</td>\n",
       "      <td>0</td>\n",
       "      <td>...</td>\n",
       "      <td>0.0</td>\n",
       "      <td>0.0</td>\n",
       "      <td>0.0</td>\n",
       "      <td>0.0</td>\n",
       "      <td>600.0</td>\n",
       "      <td>600.0</td>\n",
       "      <td>0.0</td>\n",
       "      <td>0.0</td>\n",
       "      <td>0.0</td>\n",
       "      <td>0.0</td>\n",
       "    </tr>\n",
       "    <tr>\n",
       "      <th>3017</th>\n",
       "      <th>2021-01-12</th>\n",
       "      <td>1</td>\n",
       "      <td>0</td>\n",
       "      <td>5</td>\n",
       "      <td>0</td>\n",
       "      <td>0</td>\n",
       "      <td>1</td>\n",
       "      <td>0</td>\n",
       "      <td>0</td>\n",
       "      <td>0</td>\n",
       "      <td>0</td>\n",
       "      <td>...</td>\n",
       "      <td>0.0</td>\n",
       "      <td>0.0</td>\n",
       "      <td>0.0</td>\n",
       "      <td>0.0</td>\n",
       "      <td>600.0</td>\n",
       "      <td>600.0</td>\n",
       "      <td>0.0</td>\n",
       "      <td>0.0</td>\n",
       "      <td>0.0</td>\n",
       "      <td>0.0</td>\n",
       "    </tr>\n",
       "  </tbody>\n",
       "</table>\n",
       "<p>2525 rows × 69 columns</p>\n",
       "</div>"
      ],
      "text/plain": [
       "                   CLASS_danger_level  CLASS_emergency_warning  \\\n",
       "region date                                                      \n",
       "3003   2017-12-02                   1                        0   \n",
       "       2017-12-03                   1                        0   \n",
       "3035   2017-12-03                   1                        0   \n",
       "3003   2017-12-04                   1                        0   \n",
       "3035   2017-12-04                   1                        0   \n",
       "...                               ...                      ...   \n",
       "3012   2021-01-12                   1                        0   \n",
       "3013   2021-01-12                   1                        0   \n",
       "3014   2021-01-12                   1                        0   \n",
       "3015   2021-01-12                   1                        0   \n",
       "3017   2021-01-12                   1                        0   \n",
       "\n",
       "                   CLASS_problem_1  CLASS_problem_2  CLASS_problem_3  \\\n",
       "region date                                                            \n",
       "3003   2017-12-02                1                0                0   \n",
       "       2017-12-03                1                0                0   \n",
       "3035   2017-12-03                1                0                0   \n",
       "3003   2017-12-04                1                0                0   \n",
       "3035   2017-12-04                1                0                0   \n",
       "...                            ...              ...              ...   \n",
       "3012   2021-01-12                5                0                0   \n",
       "3013   2021-01-12                5                0                0   \n",
       "3014   2021-01-12                5                0                0   \n",
       "3015   2021-01-12                5                0                0   \n",
       "3017   2021-01-12                5                0                0   \n",
       "\n",
       "                   CLASS_problem_amount CLASS_drift_slab_cause  \\\n",
       "region date                                                      \n",
       "3003   2017-12-02                     1              snowdrift   \n",
       "       2017-12-03                     1              snowdrift   \n",
       "3035   2017-12-03                     1               new-snow   \n",
       "3003   2017-12-04                     1              snowdrift   \n",
       "3035   2017-12-04                     1               new-snow   \n",
       "...                                 ...                    ...   \n",
       "3012   2021-01-12                     1                      0   \n",
       "3013   2021-01-12                     1                      0   \n",
       "3014   2021-01-12                     1                      0   \n",
       "3015   2021-01-12                     1                      0   \n",
       "3017   2021-01-12                     1                      0   \n",
       "\n",
       "                   CLASS_drift_slab_dist  CLASS_drift_slab_dsize  \\\n",
       "region date                                                        \n",
       "3003   2017-12-02                      1                       2   \n",
       "       2017-12-03                      1                       2   \n",
       "3035   2017-12-03                      2                       1   \n",
       "3003   2017-12-04                      1                       2   \n",
       "3035   2017-12-04                      2                       1   \n",
       "...                                  ...                     ...   \n",
       "3012   2021-01-12                      0                       0   \n",
       "3013   2021-01-12                      0                       0   \n",
       "3014   2021-01-12                      0                       0   \n",
       "3015   2021-01-12                      0                       0   \n",
       "3017   2021-01-12                      0                       0   \n",
       "\n",
       "                   CLASS_drift_slab_lev_fill  ...  REAL_new_loose_lev_max  \\\n",
       "region date                                   ...                           \n",
       "3003   2017-12-02                          1  ...                     0.0   \n",
       "       2017-12-03                          1  ...                     0.0   \n",
       "3035   2017-12-03                          1  ...                     0.0   \n",
       "3003   2017-12-04                          1  ...                     0.0   \n",
       "3035   2017-12-04                          1  ...                     0.0   \n",
       "...                                      ...  ...                     ...   \n",
       "3012   2021-01-12                          0  ...                     0.0   \n",
       "3013   2021-01-12                          0  ...                     0.0   \n",
       "3014   2021-01-12                          0  ...                     0.0   \n",
       "3015   2021-01-12                          0  ...                     0.0   \n",
       "3017   2021-01-12                          0  ...                     0.0   \n",
       "\n",
       "                   REAL_new_loose_lev_min REAL_new_slab_lev_max  \\\n",
       "region date                                                       \n",
       "3003   2017-12-02                     0.0                   0.0   \n",
       "       2017-12-03                     0.0                   0.0   \n",
       "3035   2017-12-03                     0.0                   0.0   \n",
       "3003   2017-12-04                     0.0                   0.0   \n",
       "3035   2017-12-04                     0.0                   0.0   \n",
       "...                                   ...                   ...   \n",
       "3012   2021-01-12                     0.0                   0.0   \n",
       "3013   2021-01-12                     0.0                   0.0   \n",
       "3014   2021-01-12                     0.0                   0.0   \n",
       "3015   2021-01-12                     0.0                   0.0   \n",
       "3017   2021-01-12                     0.0                   0.0   \n",
       "\n",
       "                   REAL_new_slab_lev_min  REAL_pwl_slab_lev_max  \\\n",
       "region date                                                       \n",
       "3003   2017-12-02                    0.0                    0.0   \n",
       "       2017-12-03                    0.0                    0.0   \n",
       "3035   2017-12-03                    0.0                    0.0   \n",
       "3003   2017-12-04                    0.0                    0.0   \n",
       "3035   2017-12-04                    0.0                    0.0   \n",
       "...                                  ...                    ...   \n",
       "3012   2021-01-12                    0.0                  700.0   \n",
       "3013   2021-01-12                    0.0                  500.0   \n",
       "3014   2021-01-12                    0.0                  700.0   \n",
       "3015   2021-01-12                    0.0                  600.0   \n",
       "3017   2021-01-12                    0.0                  600.0   \n",
       "\n",
       "                   REAL_pwl_slab_lev_min  REAL_wet_loose_lev_max  \\\n",
       "region date                                                        \n",
       "3003   2017-12-02                    0.0                     0.0   \n",
       "       2017-12-03                    0.0                     0.0   \n",
       "3035   2017-12-03                    0.0                     0.0   \n",
       "3003   2017-12-04                    0.0                     0.0   \n",
       "3035   2017-12-04                    0.0                     0.0   \n",
       "...                                  ...                     ...   \n",
       "3012   2021-01-12                  700.0                     0.0   \n",
       "3013   2021-01-12                  500.0                     0.0   \n",
       "3014   2021-01-12                  700.0                     0.0   \n",
       "3015   2021-01-12                  600.0                     0.0   \n",
       "3017   2021-01-12                  600.0                     0.0   \n",
       "\n",
       "                   REAL_wet_loose_lev_min REAL_wet_slab_lev_max  \\\n",
       "region date                                                       \n",
       "3003   2017-12-02                     0.0                   0.0   \n",
       "       2017-12-03                     0.0                   0.0   \n",
       "3035   2017-12-03                     0.0                   0.0   \n",
       "3003   2017-12-04                     0.0                   0.0   \n",
       "3035   2017-12-04                     0.0                   0.0   \n",
       "...                                   ...                   ...   \n",
       "3012   2021-01-12                     0.0                   0.0   \n",
       "3013   2021-01-12                     0.0                   0.0   \n",
       "3014   2021-01-12                     0.0                   0.0   \n",
       "3015   2021-01-12                     0.0                   0.0   \n",
       "3017   2021-01-12                     0.0                   0.0   \n",
       "\n",
       "                   REAL_wet_slab_lev_min  \n",
       "region date                               \n",
       "3003   2017-12-02                    0.0  \n",
       "       2017-12-03                    0.0  \n",
       "3035   2017-12-03                    0.0  \n",
       "3003   2017-12-04                    0.0  \n",
       "3035   2017-12-04                    0.0  \n",
       "...                                  ...  \n",
       "3012   2021-01-12                    0.0  \n",
       "3013   2021-01-12                    0.0  \n",
       "3014   2021-01-12                    0.0  \n",
       "3015   2021-01-12                    0.0  \n",
       "3017   2021-01-12                    0.0  \n",
       "\n",
       "[2525 rows x 69 columns]"
      ]
     },
     "execution_count": 10,
     "metadata": {},
     "output_type": "execute_result"
    }
   ],
   "source": [
    "labels.loc[dlevel1_idx]"
   ]
  },
  {
   "cell_type": "code",
   "execution_count": 11,
   "id": "turkish-mineral",
   "metadata": {},
   "outputs": [
    {
     "data": {
      "text/plain": [
       "array([1])"
      ]
     },
     "execution_count": 11,
     "metadata": {},
     "output_type": "execute_result"
    }
   ],
   "source": [
    "# this should only contain one value, in this case '1'\n",
    "np.unique(labels.loc[dlevel1_idx]['CLASS_danger_level'])"
   ]
  },
  {
   "cell_type": "code",
   "execution_count": 12,
   "id": "mobile-former",
   "metadata": {},
   "outputs": [
    {
     "data": {
      "text/html": [
       "<div>\n",
       "<style scoped>\n",
       "    .dataframe tbody tr th:only-of-type {\n",
       "        vertical-align: middle;\n",
       "    }\n",
       "\n",
       "    .dataframe tbody tr th {\n",
       "        vertical-align: top;\n",
       "    }\n",
       "\n",
       "    .dataframe thead th {\n",
       "        text-align: right;\n",
       "    }\n",
       "</style>\n",
       "<table border=\"1\" class=\"dataframe\">\n",
       "  <thead>\n",
       "    <tr style=\"text-align: right;\">\n",
       "      <th></th>\n",
       "      <th></th>\n",
       "      <th>danger_text</th>\n",
       "    </tr>\n",
       "    <tr>\n",
       "      <th>region</th>\n",
       "      <th>date</th>\n",
       "      <th></th>\n",
       "    </tr>\n",
       "  </thead>\n",
       "  <tbody>\n",
       "    <tr>\n",
       "      <th rowspan=\"2\" valign=\"top\">3003</th>\n",
       "      <th>2017-12-02</th>\n",
       "      <td>Det er lite snø og generelt stabile forhold i ...</td>\n",
       "    </tr>\n",
       "    <tr>\n",
       "      <th>2017-12-03</th>\n",
       "      <td>Det er lite snø og generelt stabile forhold i ...</td>\n",
       "    </tr>\n",
       "    <tr>\n",
       "      <th>3035</th>\n",
       "      <th>2017-12-03</th>\n",
       "      <td>Det ventes kaldere temperatur. Det ligger fort...</td>\n",
       "    </tr>\n",
       "    <tr>\n",
       "      <th>3003</th>\n",
       "      <th>2017-12-04</th>\n",
       "      <td>Det er lite snø og generelt stabile forhold i ...</td>\n",
       "    </tr>\n",
       "    <tr>\n",
       "      <th>3035</th>\n",
       "      <th>2017-12-04</th>\n",
       "      <td>Det ventes kalde temperaturer. Det kan fortsat...</td>\n",
       "    </tr>\n",
       "    <tr>\n",
       "      <th>...</th>\n",
       "      <th>...</th>\n",
       "      <td>...</td>\n",
       "    </tr>\n",
       "    <tr>\n",
       "      <th>3012</th>\n",
       "      <th>2021-01-12</th>\n",
       "      <td>Det er generelt stabile forhold, men vær varso...</td>\n",
       "    </tr>\n",
       "    <tr>\n",
       "      <th>3013</th>\n",
       "      <th>2021-01-12</th>\n",
       "      <td>Under ca 500 moh er svært stabile forhold.\\nMe...</td>\n",
       "    </tr>\n",
       "    <tr>\n",
       "      <th>3014</th>\n",
       "      <th>2021-01-12</th>\n",
       "      <td>Det er svært lite snø i regionen nå og på værf...</td>\n",
       "    </tr>\n",
       "    <tr>\n",
       "      <th>3015</th>\n",
       "      <th>2021-01-12</th>\n",
       "      <td>Vinden fortsetter, men det er nå svært lite lø...</td>\n",
       "    </tr>\n",
       "    <tr>\n",
       "      <th>3017</th>\n",
       "      <th>2021-01-12</th>\n",
       "      <td>Vinden øker igjen, men det er lite løs snø til...</td>\n",
       "    </tr>\n",
       "  </tbody>\n",
       "</table>\n",
       "<p>2525 rows × 1 columns</p>\n",
       "</div>"
      ],
      "text/plain": [
       "                                                         danger_text\n",
       "region date                                                         \n",
       "3003   2017-12-02  Det er lite snø og generelt stabile forhold i ...\n",
       "       2017-12-03  Det er lite snø og generelt stabile forhold i ...\n",
       "3035   2017-12-03  Det ventes kaldere temperatur. Det ligger fort...\n",
       "3003   2017-12-04  Det er lite snø og generelt stabile forhold i ...\n",
       "3035   2017-12-04  Det ventes kalde temperaturer. Det kan fortsat...\n",
       "...                                                              ...\n",
       "3012   2021-01-12  Det er generelt stabile forhold, men vær varso...\n",
       "3013   2021-01-12  Under ca 500 moh er svært stabile forhold.\\nMe...\n",
       "3014   2021-01-12  Det er svært lite snø i regionen nå og på værf...\n",
       "3015   2021-01-12  Vinden fortsetter, men det er nå svært lite lø...\n",
       "3017   2021-01-12  Vinden øker igjen, men det er lite løs snø til...\n",
       "\n",
       "[2525 rows x 1 columns]"
      ]
     },
     "execution_count": 12,
     "metadata": {},
     "output_type": "execute_result"
    }
   ],
   "source": [
    "text_dlevel1 = text.loc[dlevel1_idx]\n",
    "text_dlevel1"
   ]
  },
  {
   "cell_type": "code",
   "execution_count": 13,
   "id": "modified-sustainability",
   "metadata": {},
   "outputs": [
    {
     "data": {
      "text/html": [
       "<div>\n",
       "<style scoped>\n",
       "    .dataframe tbody tr th:only-of-type {\n",
       "        vertical-align: middle;\n",
       "    }\n",
       "\n",
       "    .dataframe tbody tr th {\n",
       "        vertical-align: top;\n",
       "    }\n",
       "\n",
       "    .dataframe thead th {\n",
       "        text-align: right;\n",
       "    }\n",
       "</style>\n",
       "<table border=\"1\" class=\"dataframe\">\n",
       "  <thead>\n",
       "    <tr style=\"text-align: right;\">\n",
       "      <th></th>\n",
       "      <th></th>\n",
       "      <th>danger_text</th>\n",
       "    </tr>\n",
       "    <tr>\n",
       "      <th>region</th>\n",
       "      <th>date</th>\n",
       "      <th></th>\n",
       "    </tr>\n",
       "  </thead>\n",
       "  <tbody>\n",
       "    <tr>\n",
       "      <th>3007</th>\n",
       "      <th>2017-12-02</th>\n",
       "      <td>Skredfaren styres av utbredelsen av et vedvare...</td>\n",
       "    </tr>\n",
       "    <tr>\n",
       "      <th>3009</th>\n",
       "      <th>2017-12-02</th>\n",
       "      <td>Skredfaren styres av utbredelsen av et vedvare...</td>\n",
       "    </tr>\n",
       "    <tr>\n",
       "      <th>3010</th>\n",
       "      <th>2017-12-02</th>\n",
       "      <td>Skredfaren styres av tilstedeværelse av vedvar...</td>\n",
       "    </tr>\n",
       "    <tr>\n",
       "      <th>3011</th>\n",
       "      <th>2017-12-02</th>\n",
       "      <td>Skredfaren styres av tilstedeværelse av vedvar...</td>\n",
       "    </tr>\n",
       "    <tr>\n",
       "      <th>3012</th>\n",
       "      <th>2017-12-02</th>\n",
       "      <td>Skredfaren styres av tilstedeværelse av vedvar...</td>\n",
       "    </tr>\n",
       "    <tr>\n",
       "      <th>...</th>\n",
       "      <th>...</th>\n",
       "      <td>...</td>\n",
       "    </tr>\n",
       "    <tr>\n",
       "      <th>3003</th>\n",
       "      <th>2021-01-12</th>\n",
       "      <td>Litt nedbør i kombinasjon med vind kan legge o...</td>\n",
       "    </tr>\n",
       "    <tr>\n",
       "      <th>3007</th>\n",
       "      <th>2021-01-12</th>\n",
       "      <td>Det er lite løs snø tilgjengelig for transport...</td>\n",
       "    </tr>\n",
       "    <tr>\n",
       "      <th>3016</th>\n",
       "      <th>2021-01-12</th>\n",
       "      <td>Fortsatt sterk vind i fjellet, men det er lite...</td>\n",
       "    </tr>\n",
       "    <tr>\n",
       "      <th>3022</th>\n",
       "      <th>2021-01-12</th>\n",
       "      <td>Snø og vind tirsdag kan gi noen ustabile nysnø...</td>\n",
       "    </tr>\n",
       "    <tr>\n",
       "      <th>3023</th>\n",
       "      <th>2021-01-12</th>\n",
       "      <td>Snø og vind tirsdag kan gi noen ustabile nysnø...</td>\n",
       "    </tr>\n",
       "  </tbody>\n",
       "</table>\n",
       "<p>6876 rows × 1 columns</p>\n",
       "</div>"
      ],
      "text/plain": [
       "                                                         danger_text\n",
       "region date                                                         \n",
       "3007   2017-12-02  Skredfaren styres av utbredelsen av et vedvare...\n",
       "3009   2017-12-02  Skredfaren styres av utbredelsen av et vedvare...\n",
       "3010   2017-12-02  Skredfaren styres av tilstedeværelse av vedvar...\n",
       "3011   2017-12-02  Skredfaren styres av tilstedeværelse av vedvar...\n",
       "3012   2017-12-02  Skredfaren styres av tilstedeværelse av vedvar...\n",
       "...                                                              ...\n",
       "3003   2021-01-12  Litt nedbør i kombinasjon med vind kan legge o...\n",
       "3007   2021-01-12  Det er lite løs snø tilgjengelig for transport...\n",
       "3016   2021-01-12  Fortsatt sterk vind i fjellet, men det er lite...\n",
       "3022   2021-01-12  Snø og vind tirsdag kan gi noen ustabile nysnø...\n",
       "3023   2021-01-12  Snø og vind tirsdag kan gi noen ustabile nysnø...\n",
       "\n",
       "[6876 rows x 1 columns]"
      ]
     },
     "execution_count": 13,
     "metadata": {},
     "output_type": "execute_result"
    }
   ],
   "source": [
    "text_dlevel2 = text.loc[dlevel2_idx]\n",
    "text_dlevel2"
   ]
  },
  {
   "cell_type": "code",
   "execution_count": 14,
   "id": "unavailable-fluid",
   "metadata": {},
   "outputs": [
    {
     "data": {
      "text/html": [
       "<div>\n",
       "<style scoped>\n",
       "    .dataframe tbody tr th:only-of-type {\n",
       "        vertical-align: middle;\n",
       "    }\n",
       "\n",
       "    .dataframe tbody tr th {\n",
       "        vertical-align: top;\n",
       "    }\n",
       "\n",
       "    .dataframe thead th {\n",
       "        text-align: right;\n",
       "    }\n",
       "</style>\n",
       "<table border=\"1\" class=\"dataframe\">\n",
       "  <thead>\n",
       "    <tr style=\"text-align: right;\">\n",
       "      <th></th>\n",
       "      <th></th>\n",
       "      <th>danger_text</th>\n",
       "    </tr>\n",
       "    <tr>\n",
       "      <th>region</th>\n",
       "      <th>date</th>\n",
       "      <th></th>\n",
       "    </tr>\n",
       "  </thead>\n",
       "  <tbody>\n",
       "    <tr>\n",
       "      <th>3016</th>\n",
       "      <th>2017-12-02</th>\n",
       "      <td>Fredagens og lødagens nysnø kombinert med vind...</td>\n",
       "    </tr>\n",
       "    <tr>\n",
       "      <th>3017</th>\n",
       "      <th>2017-12-02</th>\n",
       "      <td>Det ventes lokalt mye nysnø på lørdag. På vind...</td>\n",
       "    </tr>\n",
       "    <tr>\n",
       "      <th>3031</th>\n",
       "      <th>2017-12-02</th>\n",
       "      <td>Det forventes en del skredaktivitet i alle him...</td>\n",
       "    </tr>\n",
       "    <tr>\n",
       "      <th>3034</th>\n",
       "      <th>2017-12-02</th>\n",
       "      <td>Det forventes en del skredaktivitet i alle him...</td>\n",
       "    </tr>\n",
       "    <tr>\n",
       "      <th>3014</th>\n",
       "      <th>2017-12-03</th>\n",
       "      <td>Kraftig vind og siste dagers nysnø vil øke utb...</td>\n",
       "    </tr>\n",
       "    <tr>\n",
       "      <th>...</th>\n",
       "      <th>...</th>\n",
       "      <td>...</td>\n",
       "    </tr>\n",
       "    <tr>\n",
       "      <th>3031</th>\n",
       "      <th>2021-01-12</th>\n",
       "      <td>Vinden øker på igjen tirsdag, men fra nord, og...</td>\n",
       "    </tr>\n",
       "    <tr>\n",
       "      <th>3032</th>\n",
       "      <th>2021-01-12</th>\n",
       "      <td>Vinden øker på igjen tirsdag, men fra nord, og...</td>\n",
       "    </tr>\n",
       "    <tr>\n",
       "      <th>3034</th>\n",
       "      <th>2021-01-12</th>\n",
       "      <td>Vinden øker på igjen tirsdag, men fra nord, og...</td>\n",
       "    </tr>\n",
       "    <tr>\n",
       "      <th>3035</th>\n",
       "      <th>2021-01-12</th>\n",
       "      <td>Vinden øker på igjen tirsdag, men fra nord, og...</td>\n",
       "    </tr>\n",
       "    <tr>\n",
       "      <th>3037</th>\n",
       "      <th>2021-01-12</th>\n",
       "      <td>Vinden øker på igjen tirsdag, men fra nord, og...</td>\n",
       "    </tr>\n",
       "  </tbody>\n",
       "</table>\n",
       "<p>3441 rows × 1 columns</p>\n",
       "</div>"
      ],
      "text/plain": [
       "                                                         danger_text\n",
       "region date                                                         \n",
       "3016   2017-12-02  Fredagens og lødagens nysnø kombinert med vind...\n",
       "3017   2017-12-02  Det ventes lokalt mye nysnø på lørdag. På vind...\n",
       "3031   2017-12-02  Det forventes en del skredaktivitet i alle him...\n",
       "3034   2017-12-02  Det forventes en del skredaktivitet i alle him...\n",
       "3014   2017-12-03  Kraftig vind og siste dagers nysnø vil øke utb...\n",
       "...                                                              ...\n",
       "3031   2021-01-12  Vinden øker på igjen tirsdag, men fra nord, og...\n",
       "3032   2021-01-12  Vinden øker på igjen tirsdag, men fra nord, og...\n",
       "3034   2021-01-12  Vinden øker på igjen tirsdag, men fra nord, og...\n",
       "3035   2021-01-12  Vinden øker på igjen tirsdag, men fra nord, og...\n",
       "3037   2021-01-12  Vinden øker på igjen tirsdag, men fra nord, og...\n",
       "\n",
       "[3441 rows x 1 columns]"
      ]
     },
     "execution_count": 14,
     "metadata": {},
     "output_type": "execute_result"
    }
   ],
   "source": [
    "text_dlevel3 = text.loc[dlevel3_idx]\n",
    "text_dlevel3"
   ]
  },
  {
   "cell_type": "code",
   "execution_count": 15,
   "id": "recorded-assessment",
   "metadata": {},
   "outputs": [
    {
     "data": {
      "text/html": [
       "<div>\n",
       "<style scoped>\n",
       "    .dataframe tbody tr th:only-of-type {\n",
       "        vertical-align: middle;\n",
       "    }\n",
       "\n",
       "    .dataframe tbody tr th {\n",
       "        vertical-align: top;\n",
       "    }\n",
       "\n",
       "    .dataframe thead th {\n",
       "        text-align: right;\n",
       "    }\n",
       "</style>\n",
       "<table border=\"1\" class=\"dataframe\">\n",
       "  <thead>\n",
       "    <tr style=\"text-align: right;\">\n",
       "      <th></th>\n",
       "      <th></th>\n",
       "      <th>danger_text</th>\n",
       "    </tr>\n",
       "    <tr>\n",
       "      <th>region</th>\n",
       "      <th>date</th>\n",
       "      <th></th>\n",
       "    </tr>\n",
       "  </thead>\n",
       "  <tbody>\n",
       "    <tr>\n",
       "      <th>3031</th>\n",
       "      <th>2017-11-23</th>\n",
       "      <td>Vurderingen av snøskredfaren baseres hovedsake...</td>\n",
       "    </tr>\n",
       "    <tr>\n",
       "      <th rowspan=\"2\" valign=\"top\">3034</th>\n",
       "      <th>2017-11-23</th>\n",
       "      <td>Vurderingen av snøskredfaren baseres hovedsake...</td>\n",
       "    </tr>\n",
       "    <tr>\n",
       "      <th>2017-12-05</th>\n",
       "      <td>Svært store mengder nedbør kombinert med kraft...</td>\n",
       "    </tr>\n",
       "    <tr>\n",
       "      <th>3022</th>\n",
       "      <th>2017-12-23</th>\n",
       "      <td>NB! Lokalt store nedbørsmengder og vind natt t...</td>\n",
       "    </tr>\n",
       "    <tr>\n",
       "      <th rowspan=\"3\" valign=\"top\">3023</th>\n",
       "      <th>2017-12-23</th>\n",
       "      <td>NB. Lokalt store nedbørsmengder og vind natt t...</td>\n",
       "    </tr>\n",
       "    <tr>\n",
       "      <th>...</th>\n",
       "      <td>...</td>\n",
       "    </tr>\n",
       "    <tr>\n",
       "      <th>2020-04-15</th>\n",
       "      <td>Stigende temperatur, kraftig vind og nedbør ve...</td>\n",
       "    </tr>\n",
       "    <tr>\n",
       "      <th>3024</th>\n",
       "      <th>2020-04-15</th>\n",
       "      <td>Stigende temperatur, kraftig vind og nedbør ve...</td>\n",
       "    </tr>\n",
       "    <tr>\n",
       "      <th>3027</th>\n",
       "      <th>2020-04-15</th>\n",
       "      <td>Stigende temperatur, kraftig vind og nedbør ve...</td>\n",
       "    </tr>\n",
       "    <tr>\n",
       "      <th>3022</th>\n",
       "      <th>2020-05-20</th>\n",
       "      <td>Stigende temperatur og kraftig solinnstråling ...</td>\n",
       "    </tr>\n",
       "    <tr>\n",
       "      <th>3023</th>\n",
       "      <th>2020-05-20</th>\n",
       "      <td>Stigende temperatur og kraftig solinnstråling ...</td>\n",
       "    </tr>\n",
       "  </tbody>\n",
       "</table>\n",
       "<p>268 rows × 1 columns</p>\n",
       "</div>"
      ],
      "text/plain": [
       "                                                         danger_text\n",
       "region date                                                         \n",
       "3031   2017-11-23  Vurderingen av snøskredfaren baseres hovedsake...\n",
       "3034   2017-11-23  Vurderingen av snøskredfaren baseres hovedsake...\n",
       "       2017-12-05  Svært store mengder nedbør kombinert med kraft...\n",
       "3022   2017-12-23  NB! Lokalt store nedbørsmengder og vind natt t...\n",
       "3023   2017-12-23  NB. Lokalt store nedbørsmengder og vind natt t...\n",
       "...                                                              ...\n",
       "       2020-04-15  Stigende temperatur, kraftig vind og nedbør ve...\n",
       "3024   2020-04-15  Stigende temperatur, kraftig vind og nedbør ve...\n",
       "3027   2020-04-15  Stigende temperatur, kraftig vind og nedbør ve...\n",
       "3022   2020-05-20  Stigende temperatur og kraftig solinnstråling ...\n",
       "3023   2020-05-20  Stigende temperatur og kraftig solinnstråling ...\n",
       "\n",
       "[268 rows x 1 columns]"
      ]
     },
     "execution_count": 15,
     "metadata": {},
     "output_type": "execute_result"
    }
   ],
   "source": [
    "text_dlevel4 = text.loc[dlevel4_idx]\n",
    "text_dlevel4"
   ]
  },
  {
   "cell_type": "markdown",
   "id": "natural-function",
   "metadata": {},
   "source": [
    "Checking the shapes of each dataframe and comparing it to the values in the histogram, these seem correct."
   ]
  },
  {
   "cell_type": "code",
   "execution_count": 16,
   "id": "swedish-personal",
   "metadata": {},
   "outputs": [
    {
     "name": "stdout",
     "output_type": "stream",
     "text": [
      "There are 2525 main messages in danger level 1, and 1903 of them are unique.\n",
      "There are 6876 main messages in danger level 2, and 6097 of them are unique.\n",
      "There are 3441 main messages in danger level 3, and 3005 of them are unique.\n",
      "There are 268 main messages in danger level 4, and 226 of them are unique.\n"
     ]
    }
   ],
   "source": [
    "print('There are {} main messages in danger level 1, and {} of them are unique.'.format(len(text_dlevel1), len(np.unique(text_dlevel1))))\n",
    "print('There are {} main messages in danger level 2, and {} of them are unique.'.format(len(text_dlevel2), len(np.unique(text_dlevel2))))\n",
    "print('There are {} main messages in danger level 3, and {} of them are unique.'.format(len(text_dlevel3), len(np.unique(text_dlevel3))))\n",
    "print('There are {} main messages in danger level 4, and {} of them are unique.'.format(len(text_dlevel4), len(np.unique(text_dlevel4))))"
   ]
  },
  {
   "cell_type": "markdown",
   "id": "sublime-chocolate",
   "metadata": {},
   "source": [
    "We can already see some patterns in how the main text message is written depending on what the danger level is. Interestingly, some of the avalanche danger text messages seem to be used word-for-word more than once, but this is probably due to people filling out the bulletin copy and pasting a given message for similar conditions on back-to-back days, for instance. I am also guessing that there are many similar messages, many fewer types than the unique number of messages implies (word order is changed, or a few words are different but the meaning is the same).\n",
    "\n",
    "### Data processing\n",
    "Some processing steps we might want to take for computing correlations between danger levels and word usage are:\n",
    "- tokenize long strings into individual words\n",
    "- lowercase each token\n",
    "- remove stopwords\n",
    "- tokenize by word\n",
    "- remove semantic information\n",
    "- split contractions for removal\n",
    "- remove punctuation\n",
    "- remove stop words\n",
    "- remove non-alphabetic characters"
   ]
  },
  {
   "cell_type": "code",
   "execution_count": 17,
   "id": "breeding-gibraltar",
   "metadata": {},
   "outputs": [
    {
     "name": "stderr",
     "output_type": "stream",
     "text": [
      "[nltk_data] Downloading package stopwords to\n",
      "[nltk_data]     /home/jakidxav/nltk_data...\n",
      "[nltk_data]   Package stopwords is already up-to-date!\n"
     ]
    },
    {
     "data": {
      "text/plain": [
       "True"
      ]
     },
     "execution_count": 17,
     "metadata": {},
     "output_type": "execute_result"
    }
   ],
   "source": [
    "# you will need to download the stopwords corpora from nltk \n",
    "# before moving on in this Notebook\n",
    "nltk.download('stopwords')"
   ]
  },
  {
   "cell_type": "code",
   "execution_count": 18,
   "id": "threatened-lemon",
   "metadata": {},
   "outputs": [
    {
     "name": "stdout",
     "output_type": "stream",
     "text": [
      "['og', 'i', 'jeg', 'det', 'at', 'en', 'et', 'den', 'til', 'er', 'som', 'på', 'de', 'med', 'han', 'av', 'ikke', 'ikkje', 'der', 'så', 'var', 'meg', 'seg', 'men', 'ett', 'har', 'om', 'vi', 'min', 'mitt', 'ha', 'hadde', 'hun', 'nå', 'over', 'da', 'ved', 'fra', 'du', 'ut', 'sin', 'dem', 'oss', 'opp', 'man', 'kan', 'hans', 'hvor', 'eller', 'hva', 'skal', 'selv', 'sjøl', 'her', 'alle', 'vil', 'bli', 'ble', 'blei', 'blitt', 'kunne', 'inn', 'når', 'være', 'kom', 'noen', 'noe', 'ville', 'dere', 'som', 'deres', 'kun', 'ja', 'etter', 'ned', 'skulle', 'denne', 'for', 'deg', 'si', 'sine', 'sitt', 'mot', 'å', 'meget', 'hvorfor', 'dette', 'disse', 'uten', 'hvordan', 'ingen', 'din', 'ditt', 'blir', 'samme', 'hvilken', 'hvilke', 'sånn', 'inni', 'mellom', 'vår', 'hver', 'hvem', 'vors', 'hvis', 'både', 'bare', 'enn', 'fordi', 'før', 'mange', 'også', 'slik', 'vært', 'være', 'båe', 'begge', 'siden', 'dykk', 'dykkar', 'dei', 'deira', 'deires', 'deim', 'di', 'då', 'eg', 'ein', 'eit', 'eitt', 'elles', 'honom', 'hjå', 'ho', 'hoe', 'henne', 'hennar', 'hennes', 'hoss', 'hossen', 'ikkje', 'ingi', 'inkje', 'korleis', 'korso', 'kva', 'kvar', 'kvarhelst', 'kven', 'kvi', 'kvifor', 'me', 'medan', 'mi', 'mine', 'mykje', 'no', 'nokon', 'noka', 'nokor', 'noko', 'nokre', 'si', 'sia', 'sidan', 'so', 'somt', 'somme', 'um', 'upp', 'vere', 'vore', 'verte', 'vort', 'varte', 'vart']\n"
     ]
    }
   ],
   "source": [
    "stopwords = nltk.corpus.stopwords.words('norwegian')\n",
    "print(stopwords)"
   ]
  },
  {
   "cell_type": "code",
   "execution_count": 19,
   "id": "collected-replacement",
   "metadata": {},
   "outputs": [
    {
     "name": "stdout",
     "output_type": "stream",
     "text": [
      "!\"#$%&'()*+,-./:;<=>?@[\\]^_`{|}~\n"
     ]
    }
   ],
   "source": [
    "punctuation = string.punctuation\n",
    "print(punctuation)"
   ]
  },
  {
   "cell_type": "code",
   "execution_count": 20,
   "id": "danish-decade",
   "metadata": {},
   "outputs": [],
   "source": [
    "def lower_case(tokens):\n",
    "    \"\"\"\n",
    "    Convert all tokens to lowercase. Assumes that tokenizing has already occurred.\n",
    "    \"\"\"\n",
    "    return [token.lower() for token in tokens]"
   ]
  },
  {
   "cell_type": "code",
   "execution_count": 21,
   "id": "optimum-franklin",
   "metadata": {},
   "outputs": [],
   "source": [
    "def remove_stopwords(tokens):\n",
    "    \"\"\"\n",
    "    This method removes NLTK stopwords. Currently, this method works for Norwegian stopwords.\n",
    "    More work can be done to input a \"language\" parameter to make it more customizable by language.\n",
    "    \"\"\"\n",
    "    # create stopwords set for Norwegian.\n",
    "    # this list can be modified in the norwegian.txt file for NLTK, or use this syntax:\n",
    "    # stopwords.extend(your_list_here)\n",
    "    stopwords = nltk.corpus.stopwords.words('norwegian')\n",
    "    return [token for token in tokens if token not in stopwords]"
   ]
  },
  {
   "cell_type": "code",
   "execution_count": 22,
   "id": "applicable-nylon",
   "metadata": {},
   "outputs": [],
   "source": [
    "def strip_punctuation(tokens):\n",
    "    \"\"\"\n",
    "    Remove punctuation and replace it with an empty string character.\n",
    "    Example: can't --> cant, okay? --> okay\n",
    "    \"\"\"\n",
    "    # create punctuation list: !\"#$%&'()*+,-./:;<=>?@[\\]^_`{|}~\n",
    "    punctuation = string.punctuation\n",
    "\n",
    "    # see docs: str.maketrans() will make a table to pass to str.translate()\n",
    "    table = str.maketrans('', '', string.punctuation)\n",
    "    return [token.translate(table) for token in tokens]"
   ]
  },
  {
   "cell_type": "code",
   "execution_count": 23,
   "id": "industrial-conference",
   "metadata": {},
   "outputs": [],
   "source": [
    "def remove_numbers(tokens):\n",
    "    \"\"\"\n",
    "    Strip any non-alphabetic characters from a list of tokens.\n",
    "    \"\"\"\n",
    "    return [token for token in tokens if token.isalpha()]"
   ]
  },
  {
   "cell_type": "markdown",
   "id": "formed-advocacy",
   "metadata": {},
   "source": [
    "Now we should begin splitting apart the main messages into individual characters for processing. It will be easier to do so if each `avalanche_danger` text message data frame were split into a list."
   ]
  },
  {
   "cell_type": "code",
   "execution_count": 24,
   "id": "russian-roulette",
   "metadata": {},
   "outputs": [],
   "source": [
    "def process(word_list):\n",
    "    \"\"\"\n",
    "    Customizable method for processing strings, returns list of processed tokens.\n",
    "    \"\"\"\n",
    "    # first, extract string values from an array of strings\n",
    "    # then create a list of split tokens for each main text string\n",
    "    # this is the tokenizing step\n",
    "    token_list = [string[0] for string in word_list]\n",
    "    token_list = [string.split() for string in token_list]\n",
    "    to_lowercase = [lower_case(token) for token in token_list]\n",
    "    no_stopwords = [remove_stopwords(token) for token in to_lowercase]\n",
    "    no_punctuation = [strip_punctuation(token) for token in no_stopwords]\n",
    "    no_numbers = [remove_numbers(token) for token in no_punctuation]\n",
    "    \n",
    "    return token_list, no_numbers"
   ]
  },
  {
   "cell_type": "code",
   "execution_count": 25,
   "id": "alien-bobby",
   "metadata": {},
   "outputs": [],
   "source": [
    "dlevel1_raw, dlevel1_processed = process(text_dlevel1.values)\n",
    "dlevel2_raw, dlevel2_processed = process(text_dlevel2.values)\n",
    "dlevel3_raw, dlevel3_processed = process(text_dlevel3.values)\n",
    "dlevel4_raw, dlevel4_processed = process(text_dlevel4.values)"
   ]
  },
  {
   "cell_type": "code",
   "execution_count": 26,
   "id": "objective-superintendent",
   "metadata": {},
   "outputs": [
    {
     "data": {
      "text/plain": [
       "['Det',\n",
       " 'er',\n",
       " 'lite',\n",
       " 'snø',\n",
       " 'og',\n",
       " 'generelt',\n",
       " 'stabile',\n",
       " 'forhold',\n",
       " 'i',\n",
       " 'regionen.',\n",
       " 'Det',\n",
       " 'er',\n",
       " 'kun',\n",
       " 'i',\n",
       " 'enkelte',\n",
       " 'bratte',\n",
       " 'leformasjoner',\n",
       " 'som',\n",
       " 'har',\n",
       " 'samlet',\n",
       " 'mye',\n",
       " 'snø',\n",
       " 'at',\n",
       " 'det',\n",
       " 'er',\n",
       " 'mulig',\n",
       " 'å',\n",
       " 'løse',\n",
       " 'ut',\n",
       " 'snøskred.']"
      ]
     },
     "execution_count": 26,
     "metadata": {},
     "output_type": "execute_result"
    }
   ],
   "source": [
    "dlevel1_raw[0]"
   ]
  },
  {
   "cell_type": "code",
   "execution_count": 27,
   "id": "latest-subscription",
   "metadata": {},
   "outputs": [
    {
     "data": {
      "text/plain": [
       "['lite',\n",
       " 'snø',\n",
       " 'generelt',\n",
       " 'stabile',\n",
       " 'forhold',\n",
       " 'regionen',\n",
       " 'enkelte',\n",
       " 'bratte',\n",
       " 'leformasjoner',\n",
       " 'samlet',\n",
       " 'mye',\n",
       " 'snø',\n",
       " 'mulig',\n",
       " 'løse',\n",
       " 'snøskred']"
      ]
     },
     "execution_count": 27,
     "metadata": {},
     "output_type": "execute_result"
    }
   ],
   "source": [
    "dlevel1_processed[0]"
   ]
  },
  {
   "cell_type": "markdown",
   "id": "affiliated-poster",
   "metadata": {},
   "source": [
    "Now we could count the top *n* words, say 25 or some other value of our choosing, for each danger level and then plot that as a histogram."
   ]
  },
  {
   "cell_type": "code",
   "execution_count": 28,
   "id": "controversial-failure",
   "metadata": {},
   "outputs": [],
   "source": [
    "def create_lookup_tables(text):\n",
    "    \"\"\"\n",
    "    Create lookup tables for vocabulary\n",
    "    :param text: The text of tv scripts split into words\n",
    "    :return: A tuple of dicts (vocab_to_int, int_to_vocab)\n",
    "    \"\"\"\n",
    "    # nested list to flattened list\n",
    "    flatten_list = [word for list_ in text for word in list_]\n",
    "    \n",
    "    # count words\n",
    "    word_count = Counter(flatten_list)\n",
    "    \n",
    "    # sort words by count\n",
    "    vocab = sorted(word_count, key=word_count.get, reverse=True)\n",
    "    \n",
    "    # create dictionary with unique words as keys, counts as values\n",
    "    vocab_to_int = {word: ii for ii, word in enumerate(vocab, 1)}\n",
    "    \n",
    "    # now invert the key, value mapping \n",
    "    int_to_vocab = {ii:word for word, ii in vocab_to_int.items()}\n",
    "\n",
    "    # return tuple\n",
    "    return (vocab, word_count, vocab_to_int, int_to_vocab)"
   ]
  },
  {
   "cell_type": "code",
   "execution_count": 29,
   "id": "driving-active",
   "metadata": {},
   "outputs": [],
   "source": [
    "vocab1, word_count1, _, _ = create_lookup_tables(dlevel1_processed)\n",
    "vocab2, word_count2, _, _ = create_lookup_tables(dlevel2_processed)\n",
    "vocab3, word_count3, _, _ = create_lookup_tables(dlevel3_processed)\n",
    "vocab4, word_count4, _, _ = create_lookup_tables(dlevel4_processed)"
   ]
  },
  {
   "cell_type": "code",
   "execution_count": 30,
   "id": "amazing-mounting",
   "metadata": {},
   "outputs": [
    {
     "data": {
      "text/plain": [
       "['snødekket',\n",
       " 'små',\n",
       " 'snø',\n",
       " 'skred',\n",
       " 'generelt',\n",
       " 'vær',\n",
       " 'våte',\n",
       " 'fokksnøflak',\n",
       " 'forhold',\n",
       " 'enkelte']"
      ]
     },
     "execution_count": 30,
     "metadata": {},
     "output_type": "execute_result"
    }
   ],
   "source": [
    "to_print = 10\n",
    "vocab1[:to_print]"
   ]
  },
  {
   "cell_type": "code",
   "execution_count": 31,
   "id": "adjacent-composite",
   "metadata": {},
   "outputs": [
    {
     "data": {
      "text/plain": [
       "[['snødekket', 1728],\n",
       " ['små', 1403],\n",
       " ['snø', 1337],\n",
       " ['skred', 1308],\n",
       " ['generelt', 1085],\n",
       " ['vær', 1068],\n",
       " ['våte', 953],\n",
       " ['fokksnøflak', 912],\n",
       " ['forhold', 908],\n",
       " ['enkelte', 809]]"
      ]
     },
     "execution_count": 31,
     "metadata": {},
     "output_type": "execute_result"
    }
   ],
   "source": [
    "[[word, word_count1[word]] for word in vocab1[:to_print]]"
   ]
  },
  {
   "cell_type": "code",
   "execution_count": 32,
   "id": "wanted-pathology",
   "metadata": {},
   "outputs": [],
   "source": [
    "def top_n_words(vocab, word_count, n):\n",
    "    \"\"\"\n",
    "    Return the top *n* words given a list of words and their \n",
    "    frequencies as a dictionary.\n",
    "    \"\"\"\n",
    "    top_words = vocab[:n]\n",
    "    top_counts = [word_count[word] for word in top_words]\n",
    "    return top_words, top_counts"
   ]
  },
  {
   "cell_type": "code",
   "execution_count": 33,
   "id": "joint-teaching",
   "metadata": {},
   "outputs": [],
   "source": [
    "n = 25\n",
    "top_words1, top_counts1 = top_n_words(vocab1, word_count1, n)\n",
    "top_words2, top_counts2 = top_n_words(vocab2, word_count2, n)\n",
    "top_words3, top_counts3 = top_n_words(vocab3, word_count3, n)\n",
    "top_words4, top_counts4 = top_n_words(vocab4, word_count4, n)"
   ]
  },
  {
   "cell_type": "code",
   "execution_count": 34,
   "id": "lesbian-occasions",
   "metadata": {},
   "outputs": [],
   "source": [
    "def plot_top_word_counts(top_words, top_counts, danger_level, title='danger level'):\n",
    "    fig, ax = plt.subplots(figsize=(7, 7))\n",
    "\n",
    "    ax.barh(top_words[::-1], top_counts[::-1])\n",
    "\n",
    "    ax.set_xlabel('Frequency')\n",
    "    ax.set_ylabel('Word')\n",
    "    ax.set_title('Top word counts for {} {}, 2017-2020'.format(title, danger_level))\n",
    "\n",
    "    plt.show()"
   ]
  },
  {
   "cell_type": "code",
   "execution_count": 35,
   "id": "occupational-saturn",
   "metadata": {},
   "outputs": [
    {
     "data": {
      "image/png": "[encoded data removed]",
      "text/plain": [
       "<Figure size 504x504 with 1 Axes>"
      ]
     },
     "metadata": {
      "needs_background": "light"
     },
     "output_type": "display_data"
    }
   ],
   "source": [
    "plot_top_word_counts(top_words1, top_counts1, 1)"
   ]
  },
  {
   "cell_type": "code",
   "execution_count": 36,
   "id": "severe-travel",
   "metadata": {},
   "outputs": [
    {
     "data": {
      "image/png": "[encoded data removed]",
      "text/plain": [
       "<Figure size 504x504 with 1 Axes>"
      ]
     },
     "metadata": {
      "needs_background": "light"
     },
     "output_type": "display_data"
    }
   ],
   "source": [
    "plot_top_word_counts(top_words2, top_counts2, 2)"
   ]
  },
  {
   "cell_type": "code",
   "execution_count": 37,
   "id": "geological-damage",
   "metadata": {},
   "outputs": [
    {
     "data": {
      "image/png": "[encoded data removed]",
      "text/plain": [
       "<Figure size 504x504 with 1 Axes>"
      ]
     },
     "metadata": {
      "needs_background": "light"
     },
     "output_type": "display_data"
    }
   ],
   "source": [
    "plot_top_word_counts(top_words3, top_counts3, 3)"
   ]
  },
  {
   "cell_type": "code",
   "execution_count": 38,
   "id": "helpful-woman",
   "metadata": {},
   "outputs": [
    {
     "data": {
      "image/png": "[encoded data removed]",
      "text/plain": [
       "<Figure size 504x504 with 1 Axes>"
      ]
     },
     "metadata": {
      "needs_background": "light"
     },
     "output_type": "display_data"
    }
   ],
   "source": [
    "plot_top_word_counts(top_words4, top_counts4, 4)"
   ]
  },
  {
   "cell_type": "markdown",
   "id": "likely-sense",
   "metadata": {},
   "source": [
    "**I will need to look at how to reduce which words are included here. For example, vær is included as is skred, both of which you might expect from something written on an avalanche bulletin. Maybe running correlations will yield better results, but I suspect I will have to do more reduce the types of words in each danger level list.**\n",
    "\n",
    "However, it is encouraging that as we progress up in danger level, words like:\n",
    "- skred\n",
    "- ustabile\n",
    "- kraftig\n",
    "- store\n",
    "- utløste\n",
    "- forsiktig\n",
    "- etc.\n",
    "\n",
    "also increase in frequency."
   ]
  },
  {
   "cell_type": "markdown",
   "id": "protective-elizabeth",
   "metadata": {},
   "source": [
    "## Avalanche problem 1"
   ]
  },
  {
   "cell_type": "code",
   "execution_count": 39,
   "id": "increased-baseline",
   "metadata": {},
   "outputs": [
    {
     "data": {
      "text/plain": [
       "array([0, 1, 2, 3, 4, 5, 6, 7])"
      ]
     },
     "execution_count": 39,
     "metadata": {},
     "output_type": "execute_result"
    }
   ],
   "source": [
    "np.unique(labels['CLASS_problem_1'])"
   ]
  },
  {
   "cell_type": "code",
   "execution_count": 40,
   "id": "threaded-allah",
   "metadata": {},
   "outputs": [],
   "source": [
    "prob0_idx = labels.index[np.where(labels['CLASS_problem_1'] == 0)[0]]\n",
    "prob1_idx = labels.index[np.where(labels['CLASS_problem_1'] == 1)[0]]\n",
    "prob2_idx = labels.index[np.where(labels['CLASS_problem_1'] == 2)[0]]\n",
    "prob3_idx = labels.index[np.where(labels['CLASS_problem_1'] == 3)[0]]\n",
    "prob4_idx = labels.index[np.where(labels['CLASS_problem_1'] == 4)[0]]\n",
    "prob5_idx = labels.index[np.where(labels['CLASS_problem_1'] == 5)[0]]\n",
    "prob6_idx = labels.index[np.where(labels['CLASS_problem_1'] == 6)[0]]\n",
    "prob7_idx = labels.index[np.where(labels['CLASS_problem_1'] == 7)[0]]"
   ]
  },
  {
   "cell_type": "code",
   "execution_count": 41,
   "id": "oriental-blast",
   "metadata": {},
   "outputs": [
    {
     "data": {
      "text/plain": [
       "MultiIndex([(3016, '2017-12-15'),\n",
       "            (3017, '2017-12-16'),\n",
       "            (3014, '2018-02-02'),\n",
       "            (3017, '2018-02-02'),\n",
       "            (3014, '2018-02-03'),\n",
       "            (3014, '2018-02-04'),\n",
       "            (3037, '2018-02-12'),\n",
       "            (3006, '2018-03-02'),\n",
       "            (3014, '2018-05-17'),\n",
       "            (3014, '2018-05-18'),\n",
       "            (3014, '2018-05-19'),\n",
       "            (3014, '2018-05-20'),\n",
       "            (3022, '2018-12-02'),\n",
       "            (3023, '2018-12-02'),\n",
       "            (3031, '2018-12-23'),\n",
       "            (3024, '2019-02-27'),\n",
       "            (3037, '2019-05-17'),\n",
       "            (3037, '2019-05-18'),\n",
       "            (3037, '2019-05-19'),\n",
       "            (3037, '2019-05-20'),\n",
       "            (3037, '2019-05-21'),\n",
       "            (3037, '2019-05-22'),\n",
       "            (3037, '2019-05-23'),\n",
       "            (3037, '2019-05-24'),\n",
       "            (3037, '2019-05-25')],\n",
       "           names=['region', 'date'])"
      ]
     },
     "execution_count": 41,
     "metadata": {},
     "output_type": "execute_result"
    }
   ],
   "source": [
    "prob0_idx"
   ]
  },
  {
   "cell_type": "code",
   "execution_count": 42,
   "id": "indie-heater",
   "metadata": {},
   "outputs": [
    {
     "data": {
      "text/plain": [
       "array([0])"
      ]
     },
     "execution_count": 42,
     "metadata": {},
     "output_type": "execute_result"
    }
   ],
   "source": [
    "# this should only contain one value, in this case '0'\n",
    "np.unique(labels.loc[prob0_idx]['CLASS_problem_1'])"
   ]
  },
  {
   "cell_type": "code",
   "execution_count": 43,
   "id": "handed-image",
   "metadata": {},
   "outputs": [
    {
     "data": {
      "text/html": [
       "<div>\n",
       "<style scoped>\n",
       "    .dataframe tbody tr th:only-of-type {\n",
       "        vertical-align: middle;\n",
       "    }\n",
       "\n",
       "    .dataframe tbody tr th {\n",
       "        vertical-align: top;\n",
       "    }\n",
       "\n",
       "    .dataframe thead th {\n",
       "        text-align: right;\n",
       "    }\n",
       "</style>\n",
       "<table border=\"1\" class=\"dataframe\">\n",
       "  <thead>\n",
       "    <tr style=\"text-align: right;\">\n",
       "      <th></th>\n",
       "      <th></th>\n",
       "      <th>danger_text</th>\n",
       "    </tr>\n",
       "    <tr>\n",
       "      <th>region</th>\n",
       "      <th>date</th>\n",
       "      <th></th>\n",
       "    </tr>\n",
       "  </thead>\n",
       "  <tbody>\n",
       "    <tr>\n",
       "      <th>3016</th>\n",
       "      <th>2017-12-15</th>\n",
       "      <td>Snøbyger og litt vind onsdag/torsdag kan ha sk...</td>\n",
       "    </tr>\n",
       "    <tr>\n",
       "      <th>3017</th>\n",
       "      <th>2017-12-16</th>\n",
       "      <td>Bygenedbør og tidvis en del vind fra vestlig k...</td>\n",
       "    </tr>\n",
       "    <tr>\n",
       "      <th>3014</th>\n",
       "      <th>2018-02-02</th>\n",
       "      <td>Vinden fra igår har tatt knekken på mye av ove...</td>\n",
       "    </tr>\n",
       "    <tr>\n",
       "      <th>3017</th>\n",
       "      <th>2018-02-02</th>\n",
       "      <td>Østavinden fortsetter, men det er lite løs snø...</td>\n",
       "    </tr>\n",
       "    <tr>\n",
       "      <th rowspan=\"2\" valign=\"top\">3014</th>\n",
       "      <th>2018-02-03</th>\n",
       "      <td>Snødekket er generelt sett stabilt til tross f...</td>\n",
       "    </tr>\n",
       "    <tr>\n",
       "      <th>2018-02-04</th>\n",
       "      <td>Snødekket er generelt sett stabilt til tross f...</td>\n",
       "    </tr>\n",
       "    <tr>\n",
       "      <th>3037</th>\n",
       "      <th>2018-02-12</th>\n",
       "      <td>Roligere vindforhold er gunstig for skredfares...</td>\n",
       "    </tr>\n",
       "    <tr>\n",
       "      <th>3006</th>\n",
       "      <th>2018-03-02</th>\n",
       "      <td>Det vil ta noe tid før fokksnøflakene stabilis...</td>\n",
       "    </tr>\n",
       "    <tr>\n",
       "      <th rowspan=\"4\" valign=\"top\">3014</th>\n",
       "      <th>2018-05-17</th>\n",
       "      <td>Det er nå få steder hvor det kan gå skred. Der...</td>\n",
       "    </tr>\n",
       "    <tr>\n",
       "      <th>2018-05-18</th>\n",
       "      <td>Det er nå få steder hvor det kan gå skred. Der...</td>\n",
       "    </tr>\n",
       "    <tr>\n",
       "      <th>2018-05-19</th>\n",
       "      <td>Det er nå få steder hvor det kan gå skred. Snø...</td>\n",
       "    </tr>\n",
       "    <tr>\n",
       "      <th>2018-05-20</th>\n",
       "      <td>Det er nå få steder hvor det kan gå skred. Der...</td>\n",
       "    </tr>\n",
       "    <tr>\n",
       "      <th>3022</th>\n",
       "      <th>2018-12-02</th>\n",
       "      <td>De få snøflekkene som ligger igjen høyt til fj...</td>\n",
       "    </tr>\n",
       "    <tr>\n",
       "      <th>3023</th>\n",
       "      <th>2018-12-02</th>\n",
       "      <td>De få snøflekkene som ligger igjen høyt til fj...</td>\n",
       "    </tr>\n",
       "    <tr>\n",
       "      <th>3031</th>\n",
       "      <th>2018-12-23</th>\n",
       "      <td>Det finnes et svakt lag av nedføyket overflate...</td>\n",
       "    </tr>\n",
       "    <tr>\n",
       "      <th>3024</th>\n",
       "      <th>2019-02-27</th>\n",
       "      <td>Ny nedbør som snø i kombinasjon med vind vil s...</td>\n",
       "    </tr>\n",
       "    <tr>\n",
       "      <th rowspan=\"9\" valign=\"top\">3037</th>\n",
       "      <th>2019-05-17</th>\n",
       "      <td>Det er no venta at snødekket et omdanna i alle...</td>\n",
       "    </tr>\n",
       "    <tr>\n",
       "      <th>2019-05-18</th>\n",
       "      <td>Det er no venta at snødekket et omdanna i alle...</td>\n",
       "    </tr>\n",
       "    <tr>\n",
       "      <th>2019-05-19</th>\n",
       "      <td>Det er no venta at snødekket er omdanna i alle...</td>\n",
       "    </tr>\n",
       "    <tr>\n",
       "      <th>2019-05-20</th>\n",
       "      <td>Det er no venta at snødekket et omdanna og sta...</td>\n",
       "    </tr>\n",
       "    <tr>\n",
       "      <th>2019-05-21</th>\n",
       "      <td>Det er no venta at snødekket et omdanna og sta...</td>\n",
       "    </tr>\n",
       "    <tr>\n",
       "      <th>2019-05-22</th>\n",
       "      <td>Det er no venta at snødekket er omdanna og sta...</td>\n",
       "    </tr>\n",
       "    <tr>\n",
       "      <th>2019-05-23</th>\n",
       "      <td>Det er no venta at snødekket er omdanna og sta...</td>\n",
       "    </tr>\n",
       "    <tr>\n",
       "      <th>2019-05-24</th>\n",
       "      <td>Snødekket er trolig smelteomvandlet og stabilt...</td>\n",
       "    </tr>\n",
       "    <tr>\n",
       "      <th>2019-05-25</th>\n",
       "      <td>Det som er igjen av snø ventes å tåle regnvære...</td>\n",
       "    </tr>\n",
       "  </tbody>\n",
       "</table>\n",
       "</div>"
      ],
      "text/plain": [
       "                                                         danger_text\n",
       "region date                                                         \n",
       "3016   2017-12-15  Snøbyger og litt vind onsdag/torsdag kan ha sk...\n",
       "3017   2017-12-16  Bygenedbør og tidvis en del vind fra vestlig k...\n",
       "3014   2018-02-02  Vinden fra igår har tatt knekken på mye av ove...\n",
       "3017   2018-02-02  Østavinden fortsetter, men det er lite løs snø...\n",
       "3014   2018-02-03  Snødekket er generelt sett stabilt til tross f...\n",
       "       2018-02-04  Snødekket er generelt sett stabilt til tross f...\n",
       "3037   2018-02-12  Roligere vindforhold er gunstig for skredfares...\n",
       "3006   2018-03-02  Det vil ta noe tid før fokksnøflakene stabilis...\n",
       "3014   2018-05-17  Det er nå få steder hvor det kan gå skred. Der...\n",
       "       2018-05-18  Det er nå få steder hvor det kan gå skred. Der...\n",
       "       2018-05-19  Det er nå få steder hvor det kan gå skred. Snø...\n",
       "       2018-05-20  Det er nå få steder hvor det kan gå skred. Der...\n",
       "3022   2018-12-02  De få snøflekkene som ligger igjen høyt til fj...\n",
       "3023   2018-12-02  De få snøflekkene som ligger igjen høyt til fj...\n",
       "3031   2018-12-23  Det finnes et svakt lag av nedføyket overflate...\n",
       "3024   2019-02-27  Ny nedbør som snø i kombinasjon med vind vil s...\n",
       "3037   2019-05-17  Det er no venta at snødekket et omdanna i alle...\n",
       "       2019-05-18  Det er no venta at snødekket et omdanna i alle...\n",
       "       2019-05-19  Det er no venta at snødekket er omdanna i alle...\n",
       "       2019-05-20  Det er no venta at snødekket et omdanna og sta...\n",
       "       2019-05-21  Det er no venta at snødekket et omdanna og sta...\n",
       "       2019-05-22  Det er no venta at snødekket er omdanna og sta...\n",
       "       2019-05-23  Det er no venta at snødekket er omdanna og sta...\n",
       "       2019-05-24  Snødekket er trolig smelteomvandlet og stabilt...\n",
       "       2019-05-25  Det som er igjen av snø ventes å tåle regnvære..."
      ]
     },
     "execution_count": 43,
     "metadata": {},
     "output_type": "execute_result"
    }
   ],
   "source": [
    "text.loc[prob0_idx]"
   ]
  },
  {
   "cell_type": "code",
   "execution_count": 44,
   "id": "canadian-helena",
   "metadata": {},
   "outputs": [],
   "source": [
    "text_prob0 = text.loc[prob0_idx]\n",
    "text_prob1 = text.loc[prob1_idx]\n",
    "text_prob2 = text.loc[prob2_idx]\n",
    "text_prob3 = text.loc[prob3_idx]\n",
    "text_prob4 = text.loc[prob4_idx]\n",
    "text_prob5 = text.loc[prob5_idx]\n",
    "text_prob6 = text.loc[prob6_idx]\n",
    "text_prob7 = text.loc[prob7_idx]"
   ]
  },
  {
   "cell_type": "code",
   "execution_count": 45,
   "id": "wired-technician",
   "metadata": {},
   "outputs": [
    {
     "name": "stdout",
     "output_type": "stream",
     "text": [
      "There are 25 main messages for avalanche problem 0, and 23 of them are unique.\n",
      "There are 6525 main messages for avalanche problem 1, and 5808 of them are unique.\n",
      "There are 214 main messages for avalanche problem 2, and 134 of them are unique.\n",
      "There are 16 main messages for avalanche problem 3, and 16 of them are unique.\n",
      "There are 1715 main messages for avalanche problem 4, and 1503 of them are unique.\n",
      "There are 1748 main messages for avalanche problem 5, and 1587 of them are unique.\n",
      "There are 2169 main messages for avalanche problem 6, and 1637 of them are unique.\n",
      "There are 698 main messages for avalanche problem 7, and 539 of them are unique.\n"
     ]
    }
   ],
   "source": [
    "print('There are {} main messages for avalanche problem 0, and {} of them are unique.'.format(len(text_prob0), len(np.unique(text_prob0))))\n",
    "print('There are {} main messages for avalanche problem 1, and {} of them are unique.'.format(len(text_prob1), len(np.unique(text_prob1))))\n",
    "print('There are {} main messages for avalanche problem 2, and {} of them are unique.'.format(len(text_prob2), len(np.unique(text_prob2))))\n",
    "print('There are {} main messages for avalanche problem 3, and {} of them are unique.'.format(len(text_prob3), len(np.unique(text_prob3))))\n",
    "print('There are {} main messages for avalanche problem 4, and {} of them are unique.'.format(len(text_prob4), len(np.unique(text_prob4))))\n",
    "print('There are {} main messages for avalanche problem 5, and {} of them are unique.'.format(len(text_prob5), len(np.unique(text_prob5))))\n",
    "print('There are {} main messages for avalanche problem 6, and {} of them are unique.'.format(len(text_prob6), len(np.unique(text_prob6))))\n",
    "print('There are {} main messages for avalanche problem 7, and {} of them are unique.'.format(len(text_prob7), len(np.unique(text_prob7))))"
   ]
  },
  {
   "cell_type": "markdown",
   "id": "floral-africa",
   "metadata": {},
   "source": [
    "So there is an imbalance in how many times each avalanche problem occurs in `CLASS_problem_1` in the avalanche bulletin. Still, in each case, the number of unique messages is << than the total number of messages written. We can see this better in the plot below.\n",
    "\n",
    "As a reminder, the avalanche problems are encoding like:\n",
    "- 0: `not given`\n",
    "- 1: `drift-slab`\n",
    "- 2: `glide`\n",
    "- 3: `new-loose`\n",
    "- 4: `new-slab`\n",
    "- 5: `pwl-slab`\n",
    "- 6: `wet-loose`\n",
    "- 7: `wet-slab`"
   ]
  },
  {
   "cell_type": "code",
   "execution_count": 46,
   "id": "common-excuse",
   "metadata": {},
   "outputs": [
    {
     "data": {
      "image/png": "[encoded data removed]",
      "text/plain": [
       "<Figure size 504x504 with 1 Axes>"
      ]
     },
     "metadata": {
      "needs_background": "light"
     },
     "output_type": "display_data"
    }
   ],
   "source": [
    "fig, ax = plt.subplots(figsize=(7, 7))\n",
    "\n",
    "ax.hist(labels['CLASS_problem_1'].values, edgecolor='k', rwidth=0.7)\n",
    "\n",
    "ax.set_xlabel('Avalanche problem 1')\n",
    "ax.set_ylabel('Frequency')\n",
    "ax.set_title('Frequency of different avalanche problems, problem 1, 2017-2020')\n",
    "plt.show()"
   ]
  },
  {
   "cell_type": "code",
   "execution_count": 47,
   "id": "extraordinary-sunset",
   "metadata": {},
   "outputs": [],
   "source": [
    "# tokenize and clean text data\n",
    "prob0_raw, prob0_processed = process(text_prob0.values)\n",
    "prob1_raw, prob1_processed = process(text_prob1.values)\n",
    "prob2_raw, prob2_processed = process(text_prob2.values)\n",
    "prob3_raw, prob3_processed = process(text_prob3.values)\n",
    "prob4_raw, prob4_processed = process(text_prob4.values)\n",
    "prob5_raw, prob5_processed = process(text_prob5.values)\n",
    "prob6_raw, prob6_processed = process(text_prob6.values)\n",
    "prob7_raw, prob7_processed = process(text_prob7.values)"
   ]
  },
  {
   "cell_type": "code",
   "execution_count": 48,
   "id": "linear-bangladesh",
   "metadata": {},
   "outputs": [
    {
     "data": {
      "text/plain": [
       "['Snøbyger',\n",
       " 'og',\n",
       " 'litt',\n",
       " 'vind',\n",
       " 'onsdag/torsdag',\n",
       " 'kan',\n",
       " 'ha',\n",
       " 'skapt',\n",
       " 'mindre',\n",
       " 'nysnøflak',\n",
       " 'på',\n",
       " 'vindutsatte',\n",
       " 'steder,',\n",
       " 'disse',\n",
       " 'kan',\n",
       " 'være',\n",
       " 'ustabile.',\n",
       " 'Nysnøen',\n",
       " 'kan',\n",
       " 'ligge',\n",
       " 'over',\n",
       " 'nedsnødd',\n",
       " 'overflaterim,',\n",
       " 'hvilket',\n",
       " 'øker',\n",
       " 'risikoen',\n",
       " 'for',\n",
       " 'skred',\n",
       " 'i',\n",
       " 'nysnøen.',\n",
       " 'Utbredelsen',\n",
       " 'av',\n",
       " 'overflaterim',\n",
       " 'er',\n",
       " 'usikker.',\n",
       " 'Det',\n",
       " 'er',\n",
       " 'først',\n",
       " 'og',\n",
       " 'fremst',\n",
       " 'i',\n",
       " 'nordlige',\n",
       " 'og',\n",
       " 'ytre',\n",
       " 'del',\n",
       " 'av',\n",
       " 'regionen',\n",
       " 'det',\n",
       " 'har',\n",
       " 'kommet',\n",
       " 'nysnø.',\n",
       " 'Kantkornlag',\n",
       " 'vil',\n",
       " 'de',\n",
       " 'fleste',\n",
       " 'steder',\n",
       " 'ligge',\n",
       " 'under',\n",
       " 'hard',\n",
       " 'fokksnø',\n",
       " 'og',\n",
       " 'være',\n",
       " 'vanskelig',\n",
       " 'å',\n",
       " 'påvirke,',\n",
       " 'og',\n",
       " 'det',\n",
       " 'er',\n",
       " 'ikke',\n",
       " 'observert',\n",
       " 'skredaktivitet',\n",
       " 'i',\n",
       " 'dette',\n",
       " 'laget',\n",
       " 'i',\n",
       " 'det',\n",
       " 'siste.',\n",
       " 'Skredfaren',\n",
       " 'forventes',\n",
       " 'å',\n",
       " 'være',\n",
       " '2-moderat,',\n",
       " 'og',\n",
       " '1-liten',\n",
       " 'i',\n",
       " 'områdene',\n",
       " 'som',\n",
       " 'ikke',\n",
       " 'har',\n",
       " 'fått',\n",
       " 'nysnø',\n",
       " 'av',\n",
       " 'betydning.']"
      ]
     },
     "execution_count": 48,
     "metadata": {},
     "output_type": "execute_result"
    }
   ],
   "source": [
    "prob0_raw[0]"
   ]
  },
  {
   "cell_type": "code",
   "execution_count": 49,
   "id": "massive-minimum",
   "metadata": {},
   "outputs": [
    {
     "data": {
      "text/plain": [
       "['snøbyger',\n",
       " 'litt',\n",
       " 'vind',\n",
       " 'onsdagtorsdag',\n",
       " 'skapt',\n",
       " 'mindre',\n",
       " 'nysnøflak',\n",
       " 'vindutsatte',\n",
       " 'steder',\n",
       " 'ustabile',\n",
       " 'nysnøen',\n",
       " 'ligge',\n",
       " 'nedsnødd',\n",
       " 'overflaterim',\n",
       " 'hvilket',\n",
       " 'øker',\n",
       " 'risikoen',\n",
       " 'skred',\n",
       " 'nysnøen',\n",
       " 'utbredelsen',\n",
       " 'overflaterim',\n",
       " 'usikker',\n",
       " 'først',\n",
       " 'fremst',\n",
       " 'nordlige',\n",
       " 'ytre',\n",
       " 'del',\n",
       " 'regionen',\n",
       " 'kommet',\n",
       " 'nysnø',\n",
       " 'kantkornlag',\n",
       " 'fleste',\n",
       " 'steder',\n",
       " 'ligge',\n",
       " 'under',\n",
       " 'hard',\n",
       " 'fokksnø',\n",
       " 'vanskelig',\n",
       " 'påvirke',\n",
       " 'observert',\n",
       " 'skredaktivitet',\n",
       " 'laget',\n",
       " 'siste',\n",
       " 'skredfaren',\n",
       " 'forventes',\n",
       " 'områdene',\n",
       " 'fått',\n",
       " 'nysnø',\n",
       " 'betydning']"
      ]
     },
     "execution_count": 49,
     "metadata": {},
     "output_type": "execute_result"
    }
   ],
   "source": [
    "prob0_processed[0]"
   ]
  },
  {
   "cell_type": "code",
   "execution_count": 50,
   "id": "several-africa",
   "metadata": {},
   "outputs": [],
   "source": [
    "# create lookup tables\n",
    "vocab0, word_count0, _, _ = create_lookup_tables(prob0_processed)\n",
    "vocab1, word_count1, _, _ = create_lookup_tables(prob1_processed)\n",
    "vocab2, word_count2, _, _ = create_lookup_tables(prob2_processed)\n",
    "vocab3, word_count3, _, _ = create_lookup_tables(prob3_processed)\n",
    "vocab4, word_count4, _, _ = create_lookup_tables(prob4_processed)\n",
    "vocab5, word_count5, _, _ = create_lookup_tables(prob5_processed)\n",
    "vocab6, word_count6, _, _ = create_lookup_tables(prob6_processed)\n",
    "vocab7, word_count7, _, _ = create_lookup_tables(prob7_processed)"
   ]
  },
  {
   "cell_type": "code",
   "execution_count": 51,
   "id": "determined-fitting",
   "metadata": {},
   "outputs": [
    {
     "data": {
      "text/plain": [
       "['skred',\n",
       " 'snødekket',\n",
       " 'snø',\n",
       " 'steder',\n",
       " 'stabilt',\n",
       " 'lag',\n",
       " 'lite',\n",
       " 'ligger',\n",
       " 'få',\n",
       " 'venta']"
      ]
     },
     "execution_count": 51,
     "metadata": {},
     "output_type": "execute_result"
    }
   ],
   "source": [
    "vocab0[:to_print]"
   ]
  },
  {
   "cell_type": "code",
   "execution_count": 52,
   "id": "pursuant-formation",
   "metadata": {},
   "outputs": [
    {
     "data": {
      "text/plain": [
       "[['skred', 5918],\n",
       " ['snødekket', 4265],\n",
       " ['snø', 4439],\n",
       " ['steder', 1682],\n",
       " ['stabilt', 447],\n",
       " ['lag', 3247],\n",
       " ['lite', 1162],\n",
       " ['ligger', 1021],\n",
       " ['få', 617],\n",
       " ['venta', 66]]"
      ]
     },
     "execution_count": 52,
     "metadata": {},
     "output_type": "execute_result"
    }
   ],
   "source": [
    "[[word, word_count1[word]] for word in vocab0[:to_print]]"
   ]
  },
  {
   "cell_type": "code",
   "execution_count": 54,
   "id": "sustainable-drill",
   "metadata": {},
   "outputs": [],
   "source": [
    "# top n words\n",
    "top_words0, top_counts0 = top_n_words(vocab0, word_count0, n)\n",
    "top_words1, top_counts1 = top_n_words(vocab1, word_count1, n)\n",
    "top_words2, top_counts2 = top_n_words(vocab2, word_count2, n)\n",
    "top_words3, top_counts3 = top_n_words(vocab3, word_count3, n)\n",
    "top_words4, top_counts4 = top_n_words(vocab4, word_count4, n)\n",
    "top_words5, top_counts5 = top_n_words(vocab5, word_count5, n)\n",
    "top_words6, top_counts6 = top_n_words(vocab6, word_count6, n)\n",
    "top_words7, top_counts7 = top_n_words(vocab7, word_count7, n)"
   ]
  },
  {
   "cell_type": "code",
   "execution_count": 56,
   "id": "advanced-flower",
   "metadata": {},
   "outputs": [
    {
     "data": {
      "image/png": "[encoded data removed]",
      "text/plain": [
       "<Figure size 504x504 with 1 Axes>"
      ]
     },
     "metadata": {
      "needs_background": "light"
     },
     "output_type": "display_data"
    }
   ],
   "source": [
    "plot_top_word_counts(top_words0, top_counts0, 0, 'avalanche problem 1, problem')"
   ]
  },
  {
   "cell_type": "code",
   "execution_count": 57,
   "id": "disturbed-louis",
   "metadata": {},
   "outputs": [
    {
     "data": {
      "image/png": "[encoded data removed]",
      "text/plain": [
       "<Figure size 504x504 with 1 Axes>"
      ]
     },
     "metadata": {
      "needs_background": "light"
     },
     "output_type": "display_data"
    }
   ],
   "source": [
    "plot_top_word_counts(top_words1, top_counts1, 1, 'avalanche problem 1, problem')"
   ]
  },
  {
   "cell_type": "code",
   "execution_count": 58,
   "id": "entire-advisory",
   "metadata": {},
   "outputs": [
    {
     "data": {
      "image/png": "[encoded data removed]",
      "text/plain": [
       "<Figure size 504x504 with 1 Axes>"
      ]
     },
     "metadata": {
      "needs_background": "light"
     },
     "output_type": "display_data"
    }
   ],
   "source": [
    "plot_top_word_counts(top_words2, top_counts2, 2, 'avalanche problem 1, problem')"
   ]
  },
  {
   "cell_type": "code",
   "execution_count": 59,
   "id": "clean-encyclopedia",
   "metadata": {},
   "outputs": [
    {
     "data": {
      "image/png": "[encoded data removed]",
      "text/plain": [
       "<Figure size 504x504 with 1 Axes>"
      ]
     },
     "metadata": {
      "needs_background": "light"
     },
     "output_type": "display_data"
    }
   ],
   "source": [
    "plot_top_word_counts(top_words3, top_counts3, 3, 'avalanche problem 1, problem')"
   ]
  },
  {
   "cell_type": "code",
   "execution_count": 60,
   "id": "blessed-artwork",
   "metadata": {},
   "outputs": [
    {
     "data": {
      "image/png": "[encoded data removed]",
      "text/plain": [
       "<Figure size 504x504 with 1 Axes>"
      ]
     },
     "metadata": {
      "needs_background": "light"
     },
     "output_type": "display_data"
    }
   ],
   "source": [
    "plot_top_word_counts(top_words4, top_counts4, 4, 'avalanche problem 1, problem')"
   ]
  },
  {
   "cell_type": "code",
   "execution_count": 61,
   "id": "complimentary-signature",
   "metadata": {},
   "outputs": [
    {
     "data": {
      "image/png": "[encoded data removed]",
      "text/plain": [
       "<Figure size 504x504 with 1 Axes>"
      ]
     },
     "metadata": {
      "needs_background": "light"
     },
     "output_type": "display_data"
    }
   ],
   "source": [
    "plot_top_word_counts(top_words5, top_counts5, 5, 'avalanche problem 1, problem')"
   ]
  },
  {
   "cell_type": "code",
   "execution_count": 62,
   "id": "velvet-alaska",
   "metadata": {},
   "outputs": [
    {
     "data": {
      "image/png": "[encoded data removed]",
      "text/plain": [
       "<Figure size 504x504 with 1 Axes>"
      ]
     },
     "metadata": {
      "needs_background": "light"
     },
     "output_type": "display_data"
    }
   ],
   "source": [
    "plot_top_word_counts(top_words6, top_counts6, 6, 'avalanche problem 1, problem')"
   ]
  },
  {
   "cell_type": "code",
   "execution_count": 63,
   "id": "damaged-barrier",
   "metadata": {},
   "outputs": [
    {
     "data": {
      "image/png": "[encoded data removed]",
      "text/plain": [
       "<Figure size 504x504 with 1 Axes>"
      ]
     },
     "metadata": {
      "needs_background": "light"
     },
     "output_type": "display_data"
    }
   ],
   "source": [
    "plot_top_word_counts(top_words7, top_counts7, 7, 'avalanche problem 1, problem')"
   ]
  },
  {
   "cell_type": "code",
   "execution_count": null,
   "id": "breeding-purchase",
   "metadata": {},
   "outputs": [],
   "source": []
  }
 ],
 "metadata": {
  "kernelspec": {
   "display_name": "Python 3",
   "language": "python",
   "name": "python3"
  },
  "language_info": {
   "codemirror_mode": {
    "name": "ipython",
    "version": 3
   },
   "file_extension": ".py",
   "mimetype": "text/x-python",
   "name": "python",
   "nbconvert_exporter": "python",
   "pygments_lexer": "ipython3",
   "version": "3.7.9"
  }
 },
 "nbformat": 4,
 "nbformat_minor": 5
}
