{
 "cells": [
  {
   "cell_type": "markdown",
   "metadata": {
    "collapsed": true,
    "pycharm": {
     "name": "#%% md\n"
    }
   },
   "source": [
    "# Feature reduction\n",
    "We will sum up the findings from the feature distribution and feature reduction analysis by combining features and selecting which features to use.\n",
    "We go through each data source: APS-weather, regobs and varsom-forecasts. From there, we built a base of features, before we look into if it is necessary to vary the amount and combination of features for certain models.\n",
    "\n",
    "The most important labels for the avalanche_ml project are the components of the first avalanche problem wit the following priority.\n",
    "\n",
    "- dsize (destructive_size_ext_id): size 1-5\n",
    "- sensitivity to triggers: is a combination of prob and trig e.g., \"easy to trigger\"\n",
    "\t- prob (aval_probability_id): mulig/sannsynlig\n",
    "\t- trig (aval_trigger_simple_id): stor/liten tilleggsbelastning/naturlig\n",
    "- dist (aval_distribution_id): få/noen/mange\n",
    "- problem: new-loose/wet-loose/drift-slab/...\n",
    "- [lev_min, lev_max] (exposed_height_1/2):\n",
    "- aspect_* (valid_expositions):\n",
    "\n",
    "From that we can derive the danger level and emergency warning. The main message, travel advice, and large parts of the bulletin text are probably very correlated to the main avalanche problem, too.\n",
    "\n",
    "Next on the list would be to know if and what type avalanche problem 2 is.\n",
    "Here we can just repeat the above list for the main problem."
   ]
  },
  {
   "cell_type": "markdown",
   "source": [
    "## APS-weather\n",
    "\n",
    "- wind_speed_# and wind_change_speed_# should be combined into a new feature wind_speed_max_# = max(wind_speed_#, wind_change_speed_#) and then dropped\n",
    "- wind_speed_max_0, wind_speed_max_1, wind_speed_max_2 should be summed to wind_speed_max_72h and then dropped\n",
    "\n",
    "- wind_dir_# we can drop for now\n",
    "\n",
    "- precip_0, precip_1, precip_2 should be summed to new feature precip_72h and precip_1 and _2 should be dropped\n",
    "- (we cannot do that for precip_most_exposed since it might not be valid for the same area)\n",
    "\n",
    "- temp_freeze_#: can we combine these? Aron's approach to take min, max and average over a given time did not seem to improve the performance.\n",
    "\n",
    "## Regobs\n",
    "\n",
    "We should consider avalanche activity and here either very recent (_2) activity of all sizes or the release of size-3+ avalanches within the last (2-4 days). The tricky part is how to treat not-observed avalanche activity.\n",
    "\n",
    "Create a feature regobs_problem_1_dsize_#\n",
    "\n",
    "- regobs_problem_dsize\n",
    "\n",
    "\n"
   ],
   "metadata": {
    "collapsed": false,
    "pycharm": {
     "name": "#%% md\n"
    }
   }
  },
  {
   "cell_type": "code",
   "execution_count": 4,
   "outputs": [],
   "source": [
    "from avaml.aggregatedata import ForecastDataset, LabeledData, REG_ENG, CsvMissingError"
   ],
   "metadata": {
    "collapsed": false,
    "pycharm": {
     "name": "#%%\n"
    }
   }
  },
  {
   "cell_type": "code",
   "execution_count": 5,
   "outputs": [
    {
     "name": "stdout",
     "output_type": "stream",
     "text": [
      "Reading csv\n",
      "Csv missing. Fetching online data. (This takes a long time.)\n"
     ]
    }
   ],
   "source": [
    "model_prefix = ''\n",
    "days = 7\n",
    "regobs_types = list(REG_ENG.keys())\n",
    "labeled_data = None\n",
    "try:\n",
    "    print(\"Reading csv\")\n",
    "    labeled_data = LabeledData.from_csv(days=days, regobs_types=regobs_types, with_varsom=False)\n",
    "except CsvMissingError:\n",
    "    print(\"Csv missing. Fetching online data. (This takes a long time.)\")\n",
    "    labeled_data = ForecastDataset(regobs_types=regobs_types).label(days=days, with_varsom=False)\n",
    "    labeled_data.to_csv()\n"
   ],
   "metadata": {
    "collapsed": false,
    "pycharm": {
     "name": "#%%\n"
    }
   }
  },
  {
   "cell_type": "code",
   "execution_count": null,
   "outputs": [],
   "source": [],
   "metadata": {
    "collapsed": false,
    "pycharm": {
     "name": "#%%\n"
    }
   }
  }
 ],
 "metadata": {
  "kernelspec": {
   "display_name": "Python 3",
   "language": "python",
   "name": "python3"
  },
  "language_info": {
   "codemirror_mode": {
    "name": "ipython",
    "version": 2
   },
   "file_extension": ".py",
   "mimetype": "text/x-python",
   "name": "python",
   "nbconvert_exporter": "python",
   "pygments_lexer": "ipython2",
   "version": "2.7.6"
  }
 },
 "nbformat": 4,
 "nbformat_minor": 0
}