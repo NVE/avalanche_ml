{
 "cells": [
  {
   "cell_type": "code",
   "execution_count": 1,
   "id": "quick-nightlife",
   "metadata": {},
   "outputs": [],
   "source": [
    "import os\n",
    "import pickle\n",
    "import time\n",
    "import numpy as np\n",
    "import pandas as pd\n",
    "\n",
    "import matplotlib as mpl\n",
    "import matplotlib.pyplot as plt\n",
    "import matplotlib.patheffects as PathEffects\n",
    "from mpl_toolkits.mplot3d import Axes3D\n",
    "%matplotlib inline\n",
    "import seaborn as sns\n",
    "\n",
    "import tensorflow as tf\n",
    "from tensorflow.keras.models import Sequential\n",
    "from tensorflow.keras.layers import Dense, Dropout, Flatten, LSTM\n",
    "from tensorflow.keras.optimizers import SGD, Adam\n",
    "\n",
    "from avaml.aggregatedata import ForecastDataset, LabeledData, REG_ENG, CsvMissingError\n",
    "from utils.preprocess import *"
   ]
  },
  {
   "cell_type": "code",
   "execution_count": 2,
   "id": "forced-dispute",
   "metadata": {},
   "outputs": [
    {
     "data": {
      "text/plain": [
       "'2.2.0'"
      ]
     },
     "execution_count": 2,
     "metadata": {},
     "output_type": "execute_result"
    }
   ],
   "source": [
    "tf.__version__"
   ]
  },
  {
   "cell_type": "markdown",
   "id": "provincial-standard",
   "metadata": {},
   "source": [
    "# Download, read in, preprocess data"
   ]
  },
  {
   "cell_type": "code",
   "execution_count": 3,
   "id": "attractive-creativity",
   "metadata": {},
   "outputs": [
    {
     "name": "stdout",
     "output_type": "stream",
     "text": [
      "Reading csv\n"
     ]
    }
   ],
   "source": [
    "model_prefix = ''\n",
    "days = 7\n",
    "regobs_types = list(REG_ENG.keys())\n",
    "labeled_data = None\n",
    "try:\n",
    "    print(\"Reading csv\")\n",
    "    labeled_data = LabeledData.from_csv(days=days, regobs_types=regobs_types, with_varsom=False)\n",
    "except CsvMissingError:\n",
    "    print(\"Csv missing. Fetching online data. (This takes a long time.)\")\n",
    "    labeled_data = ForecastDataset(regobs_types=regobs_types).label(days=days, with_varsom=False)\n",
    "    labeled_data.to_csv()"
   ]
  },
  {
   "cell_type": "code",
   "execution_count": 4,
   "id": "wrapped-reward",
   "metadata": {},
   "outputs": [],
   "source": [
    "# read in data, extract data and labels\n",
    "labeled_data = preprocess(labeled_data)\n",
    "regions = labeled_data.data.reorder_levels([1, 0])\n",
    "labels = labeled_data.label.reorder_levels([1, 0])"
   ]
  },
  {
   "cell_type": "code",
   "execution_count": 5,
   "id": "fitted-shape",
   "metadata": {},
   "outputs": [],
   "source": [
    "# encode cause and aspect columns in labels\n",
    "labels = encode_causes(labels)\n",
    "labels = encode_aspects(labels)"
   ]
  },
  {
   "cell_type": "code",
   "execution_count": 6,
   "id": "innovative-living",
   "metadata": {},
   "outputs": [],
   "source": [
    "def wind_speed_max(df, col_list):\n",
    "    \"\"\"\n",
    "    Create wind_speed_max_# columns from wind_speed_# and wind_change_speed_#\n",
    "    input columns. This will drop the wind_speed_# and wind_change_speed_# columns.\n",
    "    \n",
    "    Arguments:\n",
    "        df(DataFrame): the input dataframe containing our RegObs observations\n",
    "        col_list(list): a list of columns for the wind_speed_# and wind_change_speed_# features\n",
    "    \n",
    "    Returns:\n",
    "        df(DataFrame): same input data frame with new wind_speed_max_# columns\n",
    "    \"\"\"\n",
    "    # so there is a wind_speed and wind_change_speed column for each day\n",
    "    # that means that there are len(col_list) / 2 unique days\n",
    "    for day in range(int(len(col_list) / 2)):\n",
    "        speed_col = 'wind_speed_' + str(day)\n",
    "        change_col = 'wind_change_speed_' + str(day)\n",
    "        max_col = 'wind_speed_max_' +str(day)\n",
    "        \n",
    "        # take the max over rows\n",
    "        df[max_col] = df.loc[:, [speed_col, change_col]].max(axis=1)\n",
    "        \n",
    "    # drop unwanted wind columns\n",
    "    df.drop(col_list, axis=1, inplace=True)\n",
    "    return df"
   ]
  },
  {
   "cell_type": "code",
   "execution_count": 7,
   "id": "broadband-worth",
   "metadata": {},
   "outputs": [],
   "source": [
    "def sum_over_features(df, col_list, new_name, drop=False):\n",
    "    \"\"\"\n",
    "    Create column for maximum wind speed over the past 72 hours.\n",
    "    \n",
    "    Arguments:\n",
    "        df(DataFrame): the input dataframe containing our RegObs observations\n",
    "        col_list(list): a list of columns for a set of features; this could be wind, precip, etc.\n",
    "        new_name(str): what you want the new column name to be\n",
    "        drop(bool): whether to drop the columns in col_list before returning df\n",
    "        \n",
    "    NOTE: You need to make sure you pass in intelligible columns. For instance, it may not make sense to\n",
    "          sum over certain columns. Additionally, all of the input columns should follow the same\n",
    "          naming convection, i.e., `precip_0`, `precip_`, `precip_3`\n",
    "    \n",
    "    Returns:\n",
    "        df(DataFrame): same input dataframe with summed column, after dropping input columns\n",
    "    \"\"\"\n",
    "    # sum over rows, or each day\n",
    "    df[new_name] = df.loc[:, col_list].sum(axis=1)\n",
    "    \n",
    "    # drop unwanted columns\n",
    "    if drop == True:\n",
    "        df.drop(col_list, axis=1, inplace=True)\n",
    "    \n",
    "    return df"
   ]
  },
  {
   "cell_type": "code",
   "execution_count": 8,
   "id": "hungry-newspaper",
   "metadata": {},
   "outputs": [],
   "source": [
    "def take_max(df, col_list, new_name, drop=False):\n",
    "    \"\"\"\n",
    "    Create a column for the max value given over the past 3 days (72 hours).\n",
    "    This will drop the input columns in col_list if drop is set to True.\n",
    "    \n",
    "    Arguments:\n",
    "        df(DataFrame): the input dataframe containing our RegObs observations\n",
    "        col_list(list): a list of columns for creating the max value\n",
    "        new_name(str): what you want the new column name to be\n",
    "        drop(bool): whether to drop the columns in col_list before returning df\n",
    "    \n",
    "    Returns:\n",
    "        df(DataFrame): same input data frame with new max value column\n",
    "    \"\"\"\n",
    "    # take the max over rows\n",
    "    df[new_name] = df.loc[:, col_list].max(axis=1)\n",
    "    \n",
    "    # drop unwanted columns\n",
    "    if drop == True:\n",
    "        df.drop(col_list, axis=1, inplace=True)\n",
    "    \n",
    "    return df"
   ]
  },
  {
   "cell_type": "code",
   "execution_count": 9,
   "id": "taken-reasoning",
   "metadata": {},
   "outputs": [],
   "source": [
    "# drop wind speed columns\n",
    "wind_dir_cols = [col for col in regions.columns if 'wind_dir' in col]\n",
    "regions.drop(wind_dir_cols, axis=1, inplace=True)\n",
    "\n",
    "# create 72 hour sum or max of wind speed, precip, and max temp\n",
    "wind_speed_cols = [col for col in regions.columns if 'wind' in col and 'speed' in col]\n",
    "regions = wind_speed_max(regions, wind_speed_cols)\n",
    "to_sum = ['wind_speed_max_0', 'wind_speed_max_1', 'wind_speed_max_2']\n",
    "regions = sum_over_features(regions, to_sum, 'wind_speed_72hr')\n",
    "\n",
    "to_sum = ['precip_0', 'precip_1', 'precip_2']\n",
    "regions = sum_over_features(regions, to_sum, 'precip_72hr')\n",
    "\n",
    "to_sum = ['temp_max_0', 'temp_max_1', 'temp_max_2']\n",
    "regions = take_max(regions, to_sum, 'temp_max_72hr')"
   ]
  },
  {
   "cell_type": "code",
   "execution_count": 10,
   "id": "painful-fleece",
   "metadata": {},
   "outputs": [
    {
     "data": {
      "text/html": [
       "<div>\n",
       "<style scoped>\n",
       "    .dataframe tbody tr th:only-of-type {\n",
       "        vertical-align: middle;\n",
       "    }\n",
       "\n",
       "    .dataframe tbody tr th {\n",
       "        vertical-align: top;\n",
       "    }\n",
       "\n",
       "    .dataframe thead th {\n",
       "        text-align: right;\n",
       "    }\n",
       "</style>\n",
       "<table border=\"1\" class=\"dataframe\">\n",
       "  <thead>\n",
       "    <tr style=\"text-align: right;\">\n",
       "      <th></th>\n",
       "      <th></th>\n",
       "      <th>wind_speed_72hr</th>\n",
       "      <th>precip_72hr</th>\n",
       "      <th>temp_max_72hr</th>\n",
       "    </tr>\n",
       "    <tr>\n",
       "      <th>region</th>\n",
       "      <th>date</th>\n",
       "      <th></th>\n",
       "      <th></th>\n",
       "      <th></th>\n",
       "    </tr>\n",
       "  </thead>\n",
       "  <tbody>\n",
       "    <tr>\n",
       "      <th>3031</th>\n",
       "      <th>2017-11-22</th>\n",
       "      <td>24.0</td>\n",
       "      <td>26.3</td>\n",
       "      <td>-3.5</td>\n",
       "    </tr>\n",
       "    <tr>\n",
       "      <th>3034</th>\n",
       "      <th>2017-11-22</th>\n",
       "      <td>33.0</td>\n",
       "      <td>50.0</td>\n",
       "      <td>-2.0</td>\n",
       "    </tr>\n",
       "    <tr>\n",
       "      <th>3031</th>\n",
       "      <th>2017-11-23</th>\n",
       "      <td>39.5</td>\n",
       "      <td>81.1</td>\n",
       "      <td>3.0</td>\n",
       "    </tr>\n",
       "    <tr>\n",
       "      <th>3034</th>\n",
       "      <th>2017-11-23</th>\n",
       "      <td>46.0</td>\n",
       "      <td>103.1</td>\n",
       "      <td>3.0</td>\n",
       "    </tr>\n",
       "    <tr>\n",
       "      <th>3007</th>\n",
       "      <th>2017-11-29</th>\n",
       "      <td>29.5</td>\n",
       "      <td>29.4</td>\n",
       "      <td>-4.1</td>\n",
       "    </tr>\n",
       "    <tr>\n",
       "      <th>...</th>\n",
       "      <th>...</th>\n",
       "      <td>...</td>\n",
       "      <td>...</td>\n",
       "      <td>...</td>\n",
       "    </tr>\n",
       "    <tr>\n",
       "      <th>3031</th>\n",
       "      <th>2021-01-12</th>\n",
       "      <td>20.0</td>\n",
       "      <td>15.0</td>\n",
       "      <td>-5.0</td>\n",
       "    </tr>\n",
       "    <tr>\n",
       "      <th>3032</th>\n",
       "      <th>2021-01-12</th>\n",
       "      <td>26.5</td>\n",
       "      <td>3.0</td>\n",
       "      <td>-9.0</td>\n",
       "    </tr>\n",
       "    <tr>\n",
       "      <th>3034</th>\n",
       "      <th>2021-01-12</th>\n",
       "      <td>23.5</td>\n",
       "      <td>16.0</td>\n",
       "      <td>-7.0</td>\n",
       "    </tr>\n",
       "    <tr>\n",
       "      <th>3035</th>\n",
       "      <th>2021-01-12</th>\n",
       "      <td>26.5</td>\n",
       "      <td>3.0</td>\n",
       "      <td>-5.0</td>\n",
       "    </tr>\n",
       "    <tr>\n",
       "      <th>3037</th>\n",
       "      <th>2021-01-12</th>\n",
       "      <td>23.5</td>\n",
       "      <td>16.0</td>\n",
       "      <td>-1.0</td>\n",
       "    </tr>\n",
       "  </tbody>\n",
       "</table>\n",
       "<p>13102 rows × 3 columns</p>\n",
       "</div>"
      ],
      "text/plain": [
       "                   wind_speed_72hr  precip_72hr  temp_max_72hr\n",
       "region date                                                   \n",
       "3031   2017-11-22             24.0         26.3           -3.5\n",
       "3034   2017-11-22             33.0         50.0           -2.0\n",
       "3031   2017-11-23             39.5         81.1            3.0\n",
       "3034   2017-11-23             46.0        103.1            3.0\n",
       "3007   2017-11-29             29.5         29.4           -4.1\n",
       "...                            ...          ...            ...\n",
       "3031   2021-01-12             20.0         15.0           -5.0\n",
       "3032   2021-01-12             26.5          3.0           -9.0\n",
       "3034   2021-01-12             23.5         16.0           -7.0\n",
       "3035   2021-01-12             26.5          3.0           -5.0\n",
       "3037   2021-01-12             23.5         16.0           -1.0\n",
       "\n",
       "[13102 rows x 3 columns]"
      ]
     },
     "execution_count": 10,
     "metadata": {},
     "output_type": "execute_result"
    }
   ],
   "source": [
    "max_sum_cols = [col for col in regions.columns if '72hr' in col]\n",
    "train = regions.loc[:, max_sum_cols]\n",
    "#train = regions.loc[:, 'precip_72hr']\n",
    "train"
   ]
  },
  {
   "cell_type": "code",
   "execution_count": 11,
   "id": "finished-chair",
   "metadata": {},
   "outputs": [
    {
     "data": {
      "text/html": [
       "<div>\n",
       "<style scoped>\n",
       "    .dataframe tbody tr th:only-of-type {\n",
       "        vertical-align: middle;\n",
       "    }\n",
       "\n",
       "    .dataframe tbody tr th {\n",
       "        vertical-align: top;\n",
       "    }\n",
       "\n",
       "    .dataframe thead th {\n",
       "        text-align: right;\n",
       "    }\n",
       "</style>\n",
       "<table border=\"1\" class=\"dataframe\">\n",
       "  <thead>\n",
       "    <tr style=\"text-align: right;\">\n",
       "      <th></th>\n",
       "      <th></th>\n",
       "      <th>CLASS_danger_level</th>\n",
       "    </tr>\n",
       "    <tr>\n",
       "      <th>region</th>\n",
       "      <th>date</th>\n",
       "      <th></th>\n",
       "    </tr>\n",
       "  </thead>\n",
       "  <tbody>\n",
       "    <tr>\n",
       "      <th>3031</th>\n",
       "      <th>2017-11-22</th>\n",
       "      <td>4</td>\n",
       "    </tr>\n",
       "    <tr>\n",
       "      <th>3034</th>\n",
       "      <th>2017-11-22</th>\n",
       "      <td>4</td>\n",
       "    </tr>\n",
       "    <tr>\n",
       "      <th>3031</th>\n",
       "      <th>2017-11-23</th>\n",
       "      <td>4</td>\n",
       "    </tr>\n",
       "    <tr>\n",
       "      <th>3034</th>\n",
       "      <th>2017-11-23</th>\n",
       "      <td>4</td>\n",
       "    </tr>\n",
       "    <tr>\n",
       "      <th>3007</th>\n",
       "      <th>2017-11-29</th>\n",
       "      <td>3</td>\n",
       "    </tr>\n",
       "    <tr>\n",
       "      <th>...</th>\n",
       "      <th>...</th>\n",
       "      <td>...</td>\n",
       "    </tr>\n",
       "    <tr>\n",
       "      <th>3031</th>\n",
       "      <th>2021-01-12</th>\n",
       "      <td>3</td>\n",
       "    </tr>\n",
       "    <tr>\n",
       "      <th>3032</th>\n",
       "      <th>2021-01-12</th>\n",
       "      <td>3</td>\n",
       "    </tr>\n",
       "    <tr>\n",
       "      <th>3034</th>\n",
       "      <th>2021-01-12</th>\n",
       "      <td>3</td>\n",
       "    </tr>\n",
       "    <tr>\n",
       "      <th>3035</th>\n",
       "      <th>2021-01-12</th>\n",
       "      <td>3</td>\n",
       "    </tr>\n",
       "    <tr>\n",
       "      <th>3037</th>\n",
       "      <th>2021-01-12</th>\n",
       "      <td>3</td>\n",
       "    </tr>\n",
       "  </tbody>\n",
       "</table>\n",
       "<p>13102 rows × 1 columns</p>\n",
       "</div>"
      ],
      "text/plain": [
       "                   CLASS_danger_level\n",
       "region date                          \n",
       "3031   2017-11-22                   4\n",
       "3034   2017-11-22                   4\n",
       "3031   2017-11-23                   4\n",
       "3034   2017-11-23                   4\n",
       "3007   2017-11-29                   3\n",
       "...                               ...\n",
       "3031   2021-01-12                   3\n",
       "3032   2021-01-12                   3\n",
       "3034   2021-01-12                   3\n",
       "3035   2021-01-12                   3\n",
       "3037   2021-01-12                   3\n",
       "\n",
       "[13102 rows x 1 columns]"
      ]
     },
     "execution_count": 11,
     "metadata": {},
     "output_type": "execute_result"
    }
   ],
   "source": [
    "# could use CLASS_danger_level or CLASS_problem_1\n",
    "train_labels = labels.loc[:, ['CLASS_danger_level']]\n",
    "train_labels"
   ]
  },
  {
   "cell_type": "markdown",
   "id": "welcome-mediterranean",
   "metadata": {},
   "source": [
    "# Split data"
   ]
  },
  {
   "cell_type": "code",
   "execution_count": 12,
   "id": "hearing-russell",
   "metadata": {},
   "outputs": [],
   "source": [
    "train_idx = [3007, 3012, 3010, 3009, 3013, 3017, 3014, 3032, \n",
    "             3027, 3029, 3022, 3031, 3023, 3037, 3024, 3028]\n",
    "val_idx =   [3011, 3016, 3035]\n",
    "test_idx =  [3006, 3015, 3034]\n",
    "\n",
    "X_train = [train.loc[idx].values for idx in train_idx]\n",
    "y_train = [train_labels.loc[idx].values for idx in train_idx]\n",
    "\n",
    "X_val = [train.loc[idx].values for idx in val_idx]\n",
    "y_val = [train_labels.loc[idx].values for idx in val_idx]\n",
    "\n",
    "X_test = [train.loc[idx].values for idx in test_idx]\n",
    "y_test = [train_labels.loc[idx].values for idx in test_idx]"
   ]
  },
  {
   "cell_type": "code",
   "execution_count": 13,
   "id": "classical-interval",
   "metadata": {},
   "outputs": [],
   "source": [
    "plotx = X_train[0]\n",
    "ploty = y_train[0]\n",
    "wind = plotx[:, 0] / np.max(plotx[:, 0])\n",
    "temp = plotx[:, 2] / np.max(plotx[:, 2])\n",
    "\n",
    "# precip has outiers in it\n",
    "precip = plotx[:, 1]\n",
    "precip_outliers = np.where(precip > 100)[0]\n",
    "precip[precip_outliers] = np.nan\n",
    "precip = precip / np.nanmax(precip)"
   ]
  },
  {
   "cell_type": "code",
   "execution_count": 14,
   "id": "experimental-london",
   "metadata": {},
   "outputs": [
    {
     "data": {
      "image/png": "[encoded data removed]",
      "text/plain": [
       "<Figure size 1008x504 with 1 Axes>"
      ]
     },
     "metadata": {
      "needs_background": "light"
     },
     "output_type": "display_data"
    }
   ],
   "source": [
    "fig, ax = plt.subplots(figsize=(14, 7))\n",
    "\n",
    "ax.plot(wind, color='lightgrey', label='wind_speed_72hr')\n",
    "ax.plot(precip, color='lightblue', label='precip_72hr')\n",
    "ax.plot(temp, color='orange', label='temp_max_72hr')\n",
    "ax.plot(ploty, color='r', label='danger level')\n",
    "\n",
    "ax.legend()\n",
    "plt.show()"
   ]
  },
  {
   "cell_type": "markdown",
   "id": "sonic-front",
   "metadata": {},
   "source": [
    "I should generalize the normalization process for input variables for X_train, X_val, and X_test (over each column)."
   ]
  },
  {
   "cell_type": "code",
   "execution_count": 15,
   "id": "pregnant-burden",
   "metadata": {},
   "outputs": [
    {
     "name": "stdout",
     "output_type": "stream",
     "text": [
      "(600, 3) (600, 1)\n",
      "(600, 3) (600, 1)\n",
      "(600, 3) (600, 1)\n",
      "(600, 3) (600, 1)\n",
      "(599, 3) (599, 1)\n",
      "(599, 3) (599, 1)\n",
      "(599, 3) (599, 1)\n",
      "(599, 3) (599, 1)\n",
      "(599, 3) (599, 1)\n",
      "(599, 3) (599, 1)\n",
      "(599, 3) (599, 1)\n",
      "(601, 3) (601, 1)\n",
      "(599, 3) (599, 1)\n",
      "(347, 3) (347, 1)\n",
      "(599, 3) (599, 1)\n",
      "(599, 3) (599, 1)\n"
     ]
    }
   ],
   "source": [
    "for (arr, label) in zip(X_train, y_train):\n",
    "    print(arr.shape, label.shape)"
   ]
  },
  {
   "cell_type": "code",
   "execution_count": 16,
   "id": "mechanical-disco",
   "metadata": {},
   "outputs": [
    {
     "name": "stdout",
     "output_type": "stream",
     "text": [
      "(600, 3) (600, 1)\n",
      "(599, 3) (599, 1)\n",
      "(599, 3) (599, 1)\n"
     ]
    }
   ],
   "source": [
    "for (arr, label) in zip(X_val, y_val):\n",
    "    print(arr.shape, label.shape)"
   ]
  },
  {
   "cell_type": "code",
   "execution_count": 17,
   "id": "boring-diameter",
   "metadata": {},
   "outputs": [
    {
     "name": "stdout",
     "output_type": "stream",
     "text": [
      "(180, 3) (180, 1)\n",
      "(598, 3) (598, 1)\n",
      "(601, 3) (601, 1)\n"
     ]
    }
   ],
   "source": [
    "for (arr, label) in zip(X_test, y_test):\n",
    "    print(arr.shape, label.shape)"
   ]
  },
  {
   "cell_type": "code",
   "execution_count": 18,
   "id": "conscious-least",
   "metadata": {},
   "outputs": [],
   "source": [
    "def pad_sequence(arr, length):\n",
    "    \"\"\"\n",
    "    This method will pad a m x n array so that m is perfectly\n",
    "    divisible by length. That is, m % length == 0.\n",
    "    \n",
    "    Arguments:\n",
    "        arr(array): m x n array where there are n input features of length m\n",
    "        length(int): what we want the length of of arr to be divisible by\n",
    "        \n",
    "    Returns:\n",
    "        padded(array): new padded array\n",
    "    \"\"\"\n",
    "    n_features = arr.shape[1]\n",
    "    remainder = arr.shape[0] % length\n",
    "    if remainder == 0: # then nothing to pad\n",
    "        return arr\n",
    "    \n",
    "    pad_length = length - remainder\n",
    "    to_add = np.zeros((pad_length, n_features))\n",
    "    padded = np.concatenate([arr, to_add])\n",
    "    return padded"
   ]
  },
  {
   "cell_type": "code",
   "execution_count": 19,
   "id": "introductory-needle",
   "metadata": {},
   "outputs": [],
   "source": [
    "sequence_length = 8\n",
    "X_train = [pad_sequence(arr, sequence_length) for arr in X_train]\n",
    "y_train = [pad_sequence(arr, sequence_length) for arr in y_train]\n",
    "\n",
    "X_val = [pad_sequence(arr, sequence_length) for arr in X_val]\n",
    "y_val = [pad_sequence(arr, sequence_length) for arr in y_val]\n",
    "\n",
    "X_test = [pad_sequence(arr, sequence_length) for arr in X_test]\n",
    "y_test = [pad_sequence(arr, sequence_length) for arr in y_test]"
   ]
  },
  {
   "cell_type": "code",
   "execution_count": 20,
   "id": "requested-uniform",
   "metadata": {},
   "outputs": [
    {
     "name": "stdout",
     "output_type": "stream",
     "text": [
      "(600, 3) (600, 1)\n",
      "(600, 3) (600, 1)\n",
      "(600, 3) (600, 1)\n",
      "(600, 3) (600, 1)\n",
      "(600, 3) (600, 1)\n",
      "(600, 3) (600, 1)\n",
      "(600, 3) (600, 1)\n",
      "(600, 3) (600, 1)\n",
      "(600, 3) (600, 1)\n",
      "(600, 3) (600, 1)\n",
      "(600, 3) (600, 1)\n",
      "(608, 3) (608, 1)\n",
      "(600, 3) (600, 1)\n",
      "(352, 3) (352, 1)\n",
      "(600, 3) (600, 1)\n",
      "(600, 3) (600, 1)\n"
     ]
    }
   ],
   "source": [
    "for (arr, label) in zip(X_train, y_train):\n",
    "    print(arr.shape, label.shape)"
   ]
  },
  {
   "cell_type": "code",
   "execution_count": 21,
   "id": "satisfactory-jimmy",
   "metadata": {},
   "outputs": [
    {
     "name": "stdout",
     "output_type": "stream",
     "text": [
      "(1170, 8, 3)\n",
      "(75, 8, 1)\n"
     ]
    }
   ],
   "source": [
    "X_concat = np.concatenate(X_train)\n",
    "X_concat = X_concat.reshape(-1, sequence_length, X_concat.shape[1])\n",
    "\n",
    "y_concat = y_train[0].reshape(-1, sequence_length, 1)\n",
    "\n",
    "print(X_concat.shape)\n",
    "print(y_concat.shape)"
   ]
  },
  {
   "cell_type": "code",
   "execution_count": 23,
   "id": "unlikely-roads",
   "metadata": {},
   "outputs": [
    {
     "name": "stdout",
     "output_type": "stream",
     "text": [
      "(1170, 8, 3)\n",
      "(1170, 8, 1)\n"
     ]
    }
   ],
   "source": [
    "# reshape data into (samples, timesteps, features)\n",
    "# https://machinelearningmastery.com/prepare-univariate-time-series-data-long-short-term-memory-networks/\n",
    "X_concat = np.concatenate(X_train)\n",
    "y_concat = np.concatenate(y_train)\n",
    "\n",
    "n_features = X_concat.shape[1]\n",
    "n_labels = y_concat.shape[1]\n",
    "\n",
    "X_concat = X_concat.reshape(-1, sequence_length, n_features)\n",
    "y_concat = y_concat.reshape(-1, sequence_length, n_labels)\n",
    "\n",
    "print(X_concat.shape)\n",
    "print(y_concat.shape)"
   ]
  },
  {
   "cell_type": "markdown",
   "id": "ordered-shipping",
   "metadata": {},
   "source": [
    "## Tensorflow datasets\n",
    "\n",
    "Look at these examples:\n",
    "- https://machinelearningmastery.com/multivariate-time-series-forecasting-lstms-keras/\n",
    "- https://stackoverflow.com/questions/42532386/how-to-work-with-multiple-inputs-for-lstm-in-keras\n",
    "- https://discuss.pytorch.org/t/please-help-lstm-input-output-dimensions/89353/8\n",
    "- Windowed dataset Notebook # 11 from Tensorflow Coursera course\n",
    "\n",
    "- https://github.com/ageron/handson-ml2/blob/master/15_processing_sequences_using_rnns_and_cnns.ipynb\n",
    "- https://github.com/ageron/handson-ml2/blob/master/16_nlp_with_rnns_and_attention.ipynb\n",
    "- https://github.com/Jakidxav/udacity_deep_learning/blob/master/rnn_tv_script_generation/rnn_tv_script_generation.ipynb\n",
    "\n",
    "Below, I still need to find a way to standardize the input shape for each time series."
   ]
  },
  {
   "cell_type": "code",
   "execution_count": 24,
   "id": "variable-compound",
   "metadata": {},
   "outputs": [
    {
     "name": "stdout",
     "output_type": "stream",
     "text": [
      "Model: \"sequential\"\n",
      "_________________________________________________________________\n",
      "Layer (type)                 Output Shape              Param #   \n",
      "=================================================================\n",
      "lstm (LSTM)                  (8, 50)                   10800     \n",
      "_________________________________________________________________\n",
      "dense (Dense)                (8, 50)                   2550      \n",
      "_________________________________________________________________\n",
      "dense_1 (Dense)              (8, 1)                    51        \n",
      "=================================================================\n",
      "Total params: 13,401\n",
      "Trainable params: 13,401\n",
      "Non-trainable params: 0\n",
      "_________________________________________________________________\n"
     ]
    }
   ],
   "source": [
    "np.random.seed(42)\n",
    "tf.random.set_seed(42)\n",
    "\n",
    "embedding_dim = 50\n",
    "batch_size = 8\n",
    "timesteps = X_concat.shape[1]\n",
    "features = X_concat.shape[2]\n",
    "criterion = tf.keras.losses.CategoricalCrossentropy()\n",
    "\n",
    "# design network\n",
    "model = tf.keras.models.Sequential()\n",
    "model.add(tf.keras.layers.Input(batch_shape=(batch_size, timesteps, features)))\n",
    "model.add(LSTM(embedding_dim))\n",
    "model.add(Dense(embedding_dim))\n",
    "model.add(Dense(1, activation='softmax'))\n",
    "\n",
    "model.summary()"
   ]
  },
  {
   "cell_type": "code",
   "execution_count": 25,
   "id": "hired-relation",
   "metadata": {},
   "outputs": [
    {
     "ename": "ValueError",
     "evalue": "in user code:\n\n    /home/jakidxav/anaconda3/envs/avalanche_ml/lib/python3.7/site-packages/tensorflow/python/keras/engine/training.py:571 train_function  *\n        outputs = self.distribute_strategy.run(\n    /home/jakidxav/anaconda3/envs/avalanche_ml/lib/python3.7/site-packages/tensorflow/python/distribute/distribute_lib.py:951 run  **\n        return self._extended.call_for_each_replica(fn, args=args, kwargs=kwargs)\n    /home/jakidxav/anaconda3/envs/avalanche_ml/lib/python3.7/site-packages/tensorflow/python/distribute/distribute_lib.py:2290 call_for_each_replica\n        return self._call_for_each_replica(fn, args, kwargs)\n    /home/jakidxav/anaconda3/envs/avalanche_ml/lib/python3.7/site-packages/tensorflow/python/distribute/distribute_lib.py:2649 _call_for_each_replica\n        return fn(*args, **kwargs)\n    /home/jakidxav/anaconda3/envs/avalanche_ml/lib/python3.7/site-packages/tensorflow/python/keras/engine/training.py:533 train_step  **\n        y, y_pred, sample_weight, regularization_losses=self.losses)\n    /home/jakidxav/anaconda3/envs/avalanche_ml/lib/python3.7/site-packages/tensorflow/python/keras/engine/compile_utils.py:205 __call__\n        loss_value = loss_obj(y_t, y_p, sample_weight=sw)\n    /home/jakidxav/anaconda3/envs/avalanche_ml/lib/python3.7/site-packages/tensorflow/python/keras/losses.py:143 __call__\n        losses = self.call(y_true, y_pred)\n    /home/jakidxav/anaconda3/envs/avalanche_ml/lib/python3.7/site-packages/tensorflow/python/keras/losses.py:246 call\n        return self.fn(y_true, y_pred, **self._fn_kwargs)\n    /home/jakidxav/anaconda3/envs/avalanche_ml/lib/python3.7/site-packages/tensorflow/python/keras/losses.py:1527 categorical_crossentropy\n        return K.categorical_crossentropy(y_true, y_pred, from_logits=from_logits)\n    /home/jakidxav/anaconda3/envs/avalanche_ml/lib/python3.7/site-packages/tensorflow/python/keras/backend.py:4561 categorical_crossentropy\n        target.shape.assert_is_compatible_with(output.shape)\n    /home/jakidxav/anaconda3/envs/avalanche_ml/lib/python3.7/site-packages/tensorflow/python/framework/tensor_shape.py:1117 assert_is_compatible_with\n        raise ValueError(\"Shapes %s and %s are incompatible\" % (self, other))\n\n    ValueError: Shapes (None, 8) and (8, 1) are incompatible\n",
     "output_type": "error",
     "traceback": [
      "\u001b[0;31m---------------------------------------------------------------------------\u001b[0m",
      "\u001b[0;31mValueError\u001b[0m                                Traceback (most recent call last)",
      "\u001b[0;32m<ipython-input-25-b7ce198530df>\u001b[0m in \u001b[0;36m<module>\u001b[0;34m\u001b[0m\n\u001b[1;32m      1\u001b[0m \u001b[0;31m# compile and fit model\u001b[0m\u001b[0;34m\u001b[0m\u001b[0;34m\u001b[0m\u001b[0;34m\u001b[0m\u001b[0m\n\u001b[1;32m      2\u001b[0m \u001b[0mmodel\u001b[0m\u001b[0;34m.\u001b[0m\u001b[0mcompile\u001b[0m\u001b[0;34m(\u001b[0m\u001b[0mloss\u001b[0m\u001b[0;34m=\u001b[0m\u001b[0mcriterion\u001b[0m\u001b[0;34m,\u001b[0m \u001b[0moptimizer\u001b[0m\u001b[0;34m=\u001b[0m\u001b[0;34m'adam'\u001b[0m\u001b[0;34m,\u001b[0m \u001b[0mmetrics\u001b[0m\u001b[0;34m=\u001b[0m\u001b[0;34m[\u001b[0m\u001b[0;34m'accuracy'\u001b[0m\u001b[0;34m]\u001b[0m\u001b[0;34m)\u001b[0m\u001b[0;34m\u001b[0m\u001b[0;34m\u001b[0m\u001b[0m\n\u001b[0;32m----> 3\u001b[0;31m \u001b[0mhistory\u001b[0m \u001b[0;34m=\u001b[0m \u001b[0mmodel\u001b[0m\u001b[0;34m.\u001b[0m\u001b[0mfit\u001b[0m\u001b[0;34m(\u001b[0m\u001b[0mX_concat\u001b[0m\u001b[0;34m,\u001b[0m \u001b[0my_concat\u001b[0m\u001b[0;34m,\u001b[0m \u001b[0mepochs\u001b[0m\u001b[0;34m=\u001b[0m\u001b[0;36m1\u001b[0m\u001b[0;34m,\u001b[0m \u001b[0mverbose\u001b[0m\u001b[0;34m=\u001b[0m\u001b[0;36m2\u001b[0m\u001b[0;34m,\u001b[0m \u001b[0mshuffle\u001b[0m\u001b[0;34m=\u001b[0m\u001b[0;32mFalse\u001b[0m\u001b[0;34m)\u001b[0m\u001b[0;34m\u001b[0m\u001b[0;34m\u001b[0m\u001b[0m\n\u001b[0m",
      "\u001b[0;32m~/anaconda3/envs/avalanche_ml/lib/python3.7/site-packages/tensorflow/python/keras/engine/training.py\u001b[0m in \u001b[0;36m_method_wrapper\u001b[0;34m(self, *args, **kwargs)\u001b[0m\n\u001b[1;32m     64\u001b[0m   \u001b[0;32mdef\u001b[0m \u001b[0m_method_wrapper\u001b[0m\u001b[0;34m(\u001b[0m\u001b[0mself\u001b[0m\u001b[0;34m,\u001b[0m \u001b[0;34m*\u001b[0m\u001b[0margs\u001b[0m\u001b[0;34m,\u001b[0m \u001b[0;34m**\u001b[0m\u001b[0mkwargs\u001b[0m\u001b[0;34m)\u001b[0m\u001b[0;34m:\u001b[0m\u001b[0;34m\u001b[0m\u001b[0;34m\u001b[0m\u001b[0m\n\u001b[1;32m     65\u001b[0m     \u001b[0;32mif\u001b[0m \u001b[0;32mnot\u001b[0m \u001b[0mself\u001b[0m\u001b[0;34m.\u001b[0m\u001b[0m_in_multi_worker_mode\u001b[0m\u001b[0;34m(\u001b[0m\u001b[0;34m)\u001b[0m\u001b[0;34m:\u001b[0m  \u001b[0;31m# pylint: disable=protected-access\u001b[0m\u001b[0;34m\u001b[0m\u001b[0;34m\u001b[0m\u001b[0m\n\u001b[0;32m---> 66\u001b[0;31m       \u001b[0;32mreturn\u001b[0m \u001b[0mmethod\u001b[0m\u001b[0;34m(\u001b[0m\u001b[0mself\u001b[0m\u001b[0;34m,\u001b[0m \u001b[0;34m*\u001b[0m\u001b[0margs\u001b[0m\u001b[0;34m,\u001b[0m \u001b[0;34m**\u001b[0m\u001b[0mkwargs\u001b[0m\u001b[0;34m)\u001b[0m\u001b[0;34m\u001b[0m\u001b[0;34m\u001b[0m\u001b[0m\n\u001b[0m\u001b[1;32m     67\u001b[0m \u001b[0;34m\u001b[0m\u001b[0m\n\u001b[1;32m     68\u001b[0m     \u001b[0;31m# Running inside `run_distribute_coordinator` already.\u001b[0m\u001b[0;34m\u001b[0m\u001b[0;34m\u001b[0m\u001b[0;34m\u001b[0m\u001b[0m\n",
      "\u001b[0;32m~/anaconda3/envs/avalanche_ml/lib/python3.7/site-packages/tensorflow/python/keras/engine/training.py\u001b[0m in \u001b[0;36mfit\u001b[0;34m(self, x, y, batch_size, epochs, verbose, callbacks, validation_split, validation_data, shuffle, class_weight, sample_weight, initial_epoch, steps_per_epoch, validation_steps, validation_batch_size, validation_freq, max_queue_size, workers, use_multiprocessing)\u001b[0m\n\u001b[1;32m    846\u001b[0m                 batch_size=batch_size):\n\u001b[1;32m    847\u001b[0m               \u001b[0mcallbacks\u001b[0m\u001b[0;34m.\u001b[0m\u001b[0mon_train_batch_begin\u001b[0m\u001b[0;34m(\u001b[0m\u001b[0mstep\u001b[0m\u001b[0;34m)\u001b[0m\u001b[0;34m\u001b[0m\u001b[0;34m\u001b[0m\u001b[0m\n\u001b[0;32m--> 848\u001b[0;31m               \u001b[0mtmp_logs\u001b[0m \u001b[0;34m=\u001b[0m \u001b[0mtrain_function\u001b[0m\u001b[0;34m(\u001b[0m\u001b[0miterator\u001b[0m\u001b[0;34m)\u001b[0m\u001b[0;34m\u001b[0m\u001b[0;34m\u001b[0m\u001b[0m\n\u001b[0m\u001b[1;32m    849\u001b[0m               \u001b[0;31m# Catch OutOfRangeError for Datasets of unknown size.\u001b[0m\u001b[0;34m\u001b[0m\u001b[0;34m\u001b[0m\u001b[0;34m\u001b[0m\u001b[0m\n\u001b[1;32m    850\u001b[0m               \u001b[0;31m# This blocks until the batch has finished executing.\u001b[0m\u001b[0;34m\u001b[0m\u001b[0;34m\u001b[0m\u001b[0;34m\u001b[0m\u001b[0m\n",
      "\u001b[0;32m~/anaconda3/envs/avalanche_ml/lib/python3.7/site-packages/tensorflow/python/eager/def_function.py\u001b[0m in \u001b[0;36m__call__\u001b[0;34m(self, *args, **kwds)\u001b[0m\n\u001b[1;32m    578\u001b[0m         \u001b[0mxla_context\u001b[0m\u001b[0;34m.\u001b[0m\u001b[0mExit\u001b[0m\u001b[0;34m(\u001b[0m\u001b[0;34m)\u001b[0m\u001b[0;34m\u001b[0m\u001b[0;34m\u001b[0m\u001b[0m\n\u001b[1;32m    579\u001b[0m     \u001b[0;32melse\u001b[0m\u001b[0;34m:\u001b[0m\u001b[0;34m\u001b[0m\u001b[0;34m\u001b[0m\u001b[0m\n\u001b[0;32m--> 580\u001b[0;31m       \u001b[0mresult\u001b[0m \u001b[0;34m=\u001b[0m \u001b[0mself\u001b[0m\u001b[0;34m.\u001b[0m\u001b[0m_call\u001b[0m\u001b[0;34m(\u001b[0m\u001b[0;34m*\u001b[0m\u001b[0margs\u001b[0m\u001b[0;34m,\u001b[0m \u001b[0;34m**\u001b[0m\u001b[0mkwds\u001b[0m\u001b[0;34m)\u001b[0m\u001b[0;34m\u001b[0m\u001b[0;34m\u001b[0m\u001b[0m\n\u001b[0m\u001b[1;32m    581\u001b[0m \u001b[0;34m\u001b[0m\u001b[0m\n\u001b[1;32m    582\u001b[0m     \u001b[0;32mif\u001b[0m \u001b[0mtracing_count\u001b[0m \u001b[0;34m==\u001b[0m \u001b[0mself\u001b[0m\u001b[0;34m.\u001b[0m\u001b[0m_get_tracing_count\u001b[0m\u001b[0;34m(\u001b[0m\u001b[0;34m)\u001b[0m\u001b[0;34m:\u001b[0m\u001b[0;34m\u001b[0m\u001b[0;34m\u001b[0m\u001b[0m\n",
      "\u001b[0;32m~/anaconda3/envs/avalanche_ml/lib/python3.7/site-packages/tensorflow/python/eager/def_function.py\u001b[0m in \u001b[0;36m_call\u001b[0;34m(self, *args, **kwds)\u001b[0m\n\u001b[1;32m    625\u001b[0m       \u001b[0;31m# This is the first call of __call__, so we have to initialize.\u001b[0m\u001b[0;34m\u001b[0m\u001b[0;34m\u001b[0m\u001b[0;34m\u001b[0m\u001b[0m\n\u001b[1;32m    626\u001b[0m       \u001b[0minitializers\u001b[0m \u001b[0;34m=\u001b[0m \u001b[0;34m[\u001b[0m\u001b[0;34m]\u001b[0m\u001b[0;34m\u001b[0m\u001b[0;34m\u001b[0m\u001b[0m\n\u001b[0;32m--> 627\u001b[0;31m       \u001b[0mself\u001b[0m\u001b[0;34m.\u001b[0m\u001b[0m_initialize\u001b[0m\u001b[0;34m(\u001b[0m\u001b[0margs\u001b[0m\u001b[0;34m,\u001b[0m \u001b[0mkwds\u001b[0m\u001b[0;34m,\u001b[0m \u001b[0madd_initializers_to\u001b[0m\u001b[0;34m=\u001b[0m\u001b[0minitializers\u001b[0m\u001b[0;34m)\u001b[0m\u001b[0;34m\u001b[0m\u001b[0;34m\u001b[0m\u001b[0m\n\u001b[0m\u001b[1;32m    628\u001b[0m     \u001b[0;32mfinally\u001b[0m\u001b[0;34m:\u001b[0m\u001b[0;34m\u001b[0m\u001b[0;34m\u001b[0m\u001b[0m\n\u001b[1;32m    629\u001b[0m       \u001b[0;31m# At this point we know that the initialization is complete (or less\u001b[0m\u001b[0;34m\u001b[0m\u001b[0;34m\u001b[0m\u001b[0;34m\u001b[0m\u001b[0m\n",
      "\u001b[0;32m~/anaconda3/envs/avalanche_ml/lib/python3.7/site-packages/tensorflow/python/eager/def_function.py\u001b[0m in \u001b[0;36m_initialize\u001b[0;34m(self, args, kwds, add_initializers_to)\u001b[0m\n\u001b[1;32m    504\u001b[0m     self._concrete_stateful_fn = (\n\u001b[1;32m    505\u001b[0m         self._stateful_fn._get_concrete_function_internal_garbage_collected(  # pylint: disable=protected-access\n\u001b[0;32m--> 506\u001b[0;31m             *args, **kwds))\n\u001b[0m\u001b[1;32m    507\u001b[0m \u001b[0;34m\u001b[0m\u001b[0m\n\u001b[1;32m    508\u001b[0m     \u001b[0;32mdef\u001b[0m \u001b[0minvalid_creator_scope\u001b[0m\u001b[0;34m(\u001b[0m\u001b[0;34m*\u001b[0m\u001b[0munused_args\u001b[0m\u001b[0;34m,\u001b[0m \u001b[0;34m**\u001b[0m\u001b[0munused_kwds\u001b[0m\u001b[0;34m)\u001b[0m\u001b[0;34m:\u001b[0m\u001b[0;34m\u001b[0m\u001b[0;34m\u001b[0m\u001b[0m\n",
      "\u001b[0;32m~/anaconda3/envs/avalanche_ml/lib/python3.7/site-packages/tensorflow/python/eager/function.py\u001b[0m in \u001b[0;36m_get_concrete_function_internal_garbage_collected\u001b[0;34m(self, *args, **kwargs)\u001b[0m\n\u001b[1;32m   2444\u001b[0m       \u001b[0margs\u001b[0m\u001b[0;34m,\u001b[0m \u001b[0mkwargs\u001b[0m \u001b[0;34m=\u001b[0m \u001b[0;32mNone\u001b[0m\u001b[0;34m,\u001b[0m \u001b[0;32mNone\u001b[0m\u001b[0;34m\u001b[0m\u001b[0;34m\u001b[0m\u001b[0m\n\u001b[1;32m   2445\u001b[0m     \u001b[0;32mwith\u001b[0m \u001b[0mself\u001b[0m\u001b[0;34m.\u001b[0m\u001b[0m_lock\u001b[0m\u001b[0;34m:\u001b[0m\u001b[0;34m\u001b[0m\u001b[0;34m\u001b[0m\u001b[0m\n\u001b[0;32m-> 2446\u001b[0;31m       \u001b[0mgraph_function\u001b[0m\u001b[0;34m,\u001b[0m \u001b[0m_\u001b[0m\u001b[0;34m,\u001b[0m \u001b[0m_\u001b[0m \u001b[0;34m=\u001b[0m \u001b[0mself\u001b[0m\u001b[0;34m.\u001b[0m\u001b[0m_maybe_define_function\u001b[0m\u001b[0;34m(\u001b[0m\u001b[0margs\u001b[0m\u001b[0;34m,\u001b[0m \u001b[0mkwargs\u001b[0m\u001b[0;34m)\u001b[0m\u001b[0;34m\u001b[0m\u001b[0;34m\u001b[0m\u001b[0m\n\u001b[0m\u001b[1;32m   2447\u001b[0m     \u001b[0;32mreturn\u001b[0m \u001b[0mgraph_function\u001b[0m\u001b[0;34m\u001b[0m\u001b[0;34m\u001b[0m\u001b[0m\n\u001b[1;32m   2448\u001b[0m \u001b[0;34m\u001b[0m\u001b[0m\n",
      "\u001b[0;32m~/anaconda3/envs/avalanche_ml/lib/python3.7/site-packages/tensorflow/python/eager/function.py\u001b[0m in \u001b[0;36m_maybe_define_function\u001b[0;34m(self, args, kwargs)\u001b[0m\n\u001b[1;32m   2775\u001b[0m \u001b[0;34m\u001b[0m\u001b[0m\n\u001b[1;32m   2776\u001b[0m       \u001b[0mself\u001b[0m\u001b[0;34m.\u001b[0m\u001b[0m_function_cache\u001b[0m\u001b[0;34m.\u001b[0m\u001b[0mmissed\u001b[0m\u001b[0;34m.\u001b[0m\u001b[0madd\u001b[0m\u001b[0;34m(\u001b[0m\u001b[0mcall_context_key\u001b[0m\u001b[0;34m)\u001b[0m\u001b[0;34m\u001b[0m\u001b[0;34m\u001b[0m\u001b[0m\n\u001b[0;32m-> 2777\u001b[0;31m       \u001b[0mgraph_function\u001b[0m \u001b[0;34m=\u001b[0m \u001b[0mself\u001b[0m\u001b[0;34m.\u001b[0m\u001b[0m_create_graph_function\u001b[0m\u001b[0;34m(\u001b[0m\u001b[0margs\u001b[0m\u001b[0;34m,\u001b[0m \u001b[0mkwargs\u001b[0m\u001b[0;34m)\u001b[0m\u001b[0;34m\u001b[0m\u001b[0;34m\u001b[0m\u001b[0m\n\u001b[0m\u001b[1;32m   2778\u001b[0m       \u001b[0mself\u001b[0m\u001b[0;34m.\u001b[0m\u001b[0m_function_cache\u001b[0m\u001b[0;34m.\u001b[0m\u001b[0mprimary\u001b[0m\u001b[0;34m[\u001b[0m\u001b[0mcache_key\u001b[0m\u001b[0;34m]\u001b[0m \u001b[0;34m=\u001b[0m \u001b[0mgraph_function\u001b[0m\u001b[0;34m\u001b[0m\u001b[0;34m\u001b[0m\u001b[0m\n\u001b[1;32m   2779\u001b[0m       \u001b[0;32mreturn\u001b[0m \u001b[0mgraph_function\u001b[0m\u001b[0;34m,\u001b[0m \u001b[0margs\u001b[0m\u001b[0;34m,\u001b[0m \u001b[0mkwargs\u001b[0m\u001b[0;34m\u001b[0m\u001b[0;34m\u001b[0m\u001b[0m\n",
      "\u001b[0;32m~/anaconda3/envs/avalanche_ml/lib/python3.7/site-packages/tensorflow/python/eager/function.py\u001b[0m in \u001b[0;36m_create_graph_function\u001b[0;34m(self, args, kwargs, override_flat_arg_shapes)\u001b[0m\n\u001b[1;32m   2665\u001b[0m             \u001b[0marg_names\u001b[0m\u001b[0;34m=\u001b[0m\u001b[0marg_names\u001b[0m\u001b[0;34m,\u001b[0m\u001b[0;34m\u001b[0m\u001b[0;34m\u001b[0m\u001b[0m\n\u001b[1;32m   2666\u001b[0m             \u001b[0moverride_flat_arg_shapes\u001b[0m\u001b[0;34m=\u001b[0m\u001b[0moverride_flat_arg_shapes\u001b[0m\u001b[0;34m,\u001b[0m\u001b[0;34m\u001b[0m\u001b[0;34m\u001b[0m\u001b[0m\n\u001b[0;32m-> 2667\u001b[0;31m             capture_by_value=self._capture_by_value),\n\u001b[0m\u001b[1;32m   2668\u001b[0m         \u001b[0mself\u001b[0m\u001b[0;34m.\u001b[0m\u001b[0m_function_attributes\u001b[0m\u001b[0;34m,\u001b[0m\u001b[0;34m\u001b[0m\u001b[0;34m\u001b[0m\u001b[0m\n\u001b[1;32m   2669\u001b[0m         \u001b[0;31m# Tell the ConcreteFunction to clean up its graph once it goes out of\u001b[0m\u001b[0;34m\u001b[0m\u001b[0;34m\u001b[0m\u001b[0;34m\u001b[0m\u001b[0m\n",
      "\u001b[0;32m~/anaconda3/envs/avalanche_ml/lib/python3.7/site-packages/tensorflow/python/framework/func_graph.py\u001b[0m in \u001b[0;36mfunc_graph_from_py_func\u001b[0;34m(name, python_func, args, kwargs, signature, func_graph, autograph, autograph_options, add_control_dependencies, arg_names, op_return_value, collections, capture_by_value, override_flat_arg_shapes)\u001b[0m\n\u001b[1;32m    979\u001b[0m         \u001b[0m_\u001b[0m\u001b[0;34m,\u001b[0m \u001b[0moriginal_func\u001b[0m \u001b[0;34m=\u001b[0m \u001b[0mtf_decorator\u001b[0m\u001b[0;34m.\u001b[0m\u001b[0munwrap\u001b[0m\u001b[0;34m(\u001b[0m\u001b[0mpython_func\u001b[0m\u001b[0;34m)\u001b[0m\u001b[0;34m\u001b[0m\u001b[0;34m\u001b[0m\u001b[0m\n\u001b[1;32m    980\u001b[0m \u001b[0;34m\u001b[0m\u001b[0m\n\u001b[0;32m--> 981\u001b[0;31m       \u001b[0mfunc_outputs\u001b[0m \u001b[0;34m=\u001b[0m \u001b[0mpython_func\u001b[0m\u001b[0;34m(\u001b[0m\u001b[0;34m*\u001b[0m\u001b[0mfunc_args\u001b[0m\u001b[0;34m,\u001b[0m \u001b[0;34m**\u001b[0m\u001b[0mfunc_kwargs\u001b[0m\u001b[0;34m)\u001b[0m\u001b[0;34m\u001b[0m\u001b[0;34m\u001b[0m\u001b[0m\n\u001b[0m\u001b[1;32m    982\u001b[0m \u001b[0;34m\u001b[0m\u001b[0m\n\u001b[1;32m    983\u001b[0m       \u001b[0;31m# invariant: `func_outputs` contains only Tensors, CompositeTensors,\u001b[0m\u001b[0;34m\u001b[0m\u001b[0;34m\u001b[0m\u001b[0;34m\u001b[0m\u001b[0m\n",
      "\u001b[0;32m~/anaconda3/envs/avalanche_ml/lib/python3.7/site-packages/tensorflow/python/eager/def_function.py\u001b[0m in \u001b[0;36mwrapped_fn\u001b[0;34m(*args, **kwds)\u001b[0m\n\u001b[1;32m    439\u001b[0m         \u001b[0;31m# __wrapped__ allows AutoGraph to swap in a converted function. We give\u001b[0m\u001b[0;34m\u001b[0m\u001b[0;34m\u001b[0m\u001b[0;34m\u001b[0m\u001b[0m\n\u001b[1;32m    440\u001b[0m         \u001b[0;31m# the function a weak reference to itself to avoid a reference cycle.\u001b[0m\u001b[0;34m\u001b[0m\u001b[0;34m\u001b[0m\u001b[0;34m\u001b[0m\u001b[0m\n\u001b[0;32m--> 441\u001b[0;31m         \u001b[0;32mreturn\u001b[0m \u001b[0mweak_wrapped_fn\u001b[0m\u001b[0;34m(\u001b[0m\u001b[0;34m)\u001b[0m\u001b[0;34m.\u001b[0m\u001b[0m__wrapped__\u001b[0m\u001b[0;34m(\u001b[0m\u001b[0;34m*\u001b[0m\u001b[0margs\u001b[0m\u001b[0;34m,\u001b[0m \u001b[0;34m**\u001b[0m\u001b[0mkwds\u001b[0m\u001b[0;34m)\u001b[0m\u001b[0;34m\u001b[0m\u001b[0;34m\u001b[0m\u001b[0m\n\u001b[0m\u001b[1;32m    442\u001b[0m     \u001b[0mweak_wrapped_fn\u001b[0m \u001b[0;34m=\u001b[0m \u001b[0mweakref\u001b[0m\u001b[0;34m.\u001b[0m\u001b[0mref\u001b[0m\u001b[0;34m(\u001b[0m\u001b[0mwrapped_fn\u001b[0m\u001b[0;34m)\u001b[0m\u001b[0;34m\u001b[0m\u001b[0;34m\u001b[0m\u001b[0m\n\u001b[1;32m    443\u001b[0m \u001b[0;34m\u001b[0m\u001b[0m\n",
      "\u001b[0;32m~/anaconda3/envs/avalanche_ml/lib/python3.7/site-packages/tensorflow/python/framework/func_graph.py\u001b[0m in \u001b[0;36mwrapper\u001b[0;34m(*args, **kwargs)\u001b[0m\n\u001b[1;32m    966\u001b[0m           \u001b[0;32mexcept\u001b[0m \u001b[0mException\u001b[0m \u001b[0;32mas\u001b[0m \u001b[0me\u001b[0m\u001b[0;34m:\u001b[0m  \u001b[0;31m# pylint:disable=broad-except\u001b[0m\u001b[0;34m\u001b[0m\u001b[0;34m\u001b[0m\u001b[0m\n\u001b[1;32m    967\u001b[0m             \u001b[0;32mif\u001b[0m \u001b[0mhasattr\u001b[0m\u001b[0;34m(\u001b[0m\u001b[0me\u001b[0m\u001b[0;34m,\u001b[0m \u001b[0;34m\"ag_error_metadata\"\u001b[0m\u001b[0;34m)\u001b[0m\u001b[0;34m:\u001b[0m\u001b[0;34m\u001b[0m\u001b[0;34m\u001b[0m\u001b[0m\n\u001b[0;32m--> 968\u001b[0;31m               \u001b[0;32mraise\u001b[0m \u001b[0me\u001b[0m\u001b[0;34m.\u001b[0m\u001b[0mag_error_metadata\u001b[0m\u001b[0;34m.\u001b[0m\u001b[0mto_exception\u001b[0m\u001b[0;34m(\u001b[0m\u001b[0me\u001b[0m\u001b[0;34m)\u001b[0m\u001b[0;34m\u001b[0m\u001b[0;34m\u001b[0m\u001b[0m\n\u001b[0m\u001b[1;32m    969\u001b[0m             \u001b[0;32melse\u001b[0m\u001b[0;34m:\u001b[0m\u001b[0;34m\u001b[0m\u001b[0;34m\u001b[0m\u001b[0m\n\u001b[1;32m    970\u001b[0m               \u001b[0;32mraise\u001b[0m\u001b[0;34m\u001b[0m\u001b[0;34m\u001b[0m\u001b[0m\n",
      "\u001b[0;31mValueError\u001b[0m: in user code:\n\n    /home/jakidxav/anaconda3/envs/avalanche_ml/lib/python3.7/site-packages/tensorflow/python/keras/engine/training.py:571 train_function  *\n        outputs = self.distribute_strategy.run(\n    /home/jakidxav/anaconda3/envs/avalanche_ml/lib/python3.7/site-packages/tensorflow/python/distribute/distribute_lib.py:951 run  **\n        return self._extended.call_for_each_replica(fn, args=args, kwargs=kwargs)\n    /home/jakidxav/anaconda3/envs/avalanche_ml/lib/python3.7/site-packages/tensorflow/python/distribute/distribute_lib.py:2290 call_for_each_replica\n        return self._call_for_each_replica(fn, args, kwargs)\n    /home/jakidxav/anaconda3/envs/avalanche_ml/lib/python3.7/site-packages/tensorflow/python/distribute/distribute_lib.py:2649 _call_for_each_replica\n        return fn(*args, **kwargs)\n    /home/jakidxav/anaconda3/envs/avalanche_ml/lib/python3.7/site-packages/tensorflow/python/keras/engine/training.py:533 train_step  **\n        y, y_pred, sample_weight, regularization_losses=self.losses)\n    /home/jakidxav/anaconda3/envs/avalanche_ml/lib/python3.7/site-packages/tensorflow/python/keras/engine/compile_utils.py:205 __call__\n        loss_value = loss_obj(y_t, y_p, sample_weight=sw)\n    /home/jakidxav/anaconda3/envs/avalanche_ml/lib/python3.7/site-packages/tensorflow/python/keras/losses.py:143 __call__\n        losses = self.call(y_true, y_pred)\n    /home/jakidxav/anaconda3/envs/avalanche_ml/lib/python3.7/site-packages/tensorflow/python/keras/losses.py:246 call\n        return self.fn(y_true, y_pred, **self._fn_kwargs)\n    /home/jakidxav/anaconda3/envs/avalanche_ml/lib/python3.7/site-packages/tensorflow/python/keras/losses.py:1527 categorical_crossentropy\n        return K.categorical_crossentropy(y_true, y_pred, from_logits=from_logits)\n    /home/jakidxav/anaconda3/envs/avalanche_ml/lib/python3.7/site-packages/tensorflow/python/keras/backend.py:4561 categorical_crossentropy\n        target.shape.assert_is_compatible_with(output.shape)\n    /home/jakidxav/anaconda3/envs/avalanche_ml/lib/python3.7/site-packages/tensorflow/python/framework/tensor_shape.py:1117 assert_is_compatible_with\n        raise ValueError(\"Shapes %s and %s are incompatible\" % (self, other))\n\n    ValueError: Shapes (None, 8) and (8, 1) are incompatible\n"
     ]
    }
   ],
   "source": [
    "# compile and fit model\n",
    "model.compile(loss=criterion, optimizer='adam', metrics=['accuracy'])\n",
    "history = model.fit(X_concat, y_concat, epochs=1, verbose=2, shuffle=False)"
   ]
  },
  {
   "cell_type": "code",
   "execution_count": null,
   "id": "pacific-investment",
   "metadata": {},
   "outputs": [],
   "source": []
  },
  {
   "cell_type": "code",
   "execution_count": null,
   "id": "administrative-seeker",
   "metadata": {},
   "outputs": [],
   "source": []
  }
 ],
 "metadata": {
  "kernelspec": {
   "display_name": "Python 3",
   "language": "python",
   "name": "python3"
  },
  "language_info": {
   "codemirror_mode": {
    "name": "ipython",
    "version": 3
   },
   "file_extension": ".py",
   "mimetype": "text/x-python",
   "name": "python",
   "nbconvert_exporter": "python",
   "pygments_lexer": "ipython3",
   "version": "3.7.9"
  }
 },
 "nbformat": 4,
 "nbformat_minor": 5
}
