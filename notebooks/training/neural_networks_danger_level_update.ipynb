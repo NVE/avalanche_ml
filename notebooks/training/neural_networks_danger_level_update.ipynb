{
 "cells": [
  {
   "cell_type": "code",
   "execution_count": 1,
   "id": "static-night",
   "metadata": {},
   "outputs": [],
   "source": [
    "import os\n",
    "import pickle\n",
    "import time\n",
    "import numpy as np\n",
    "import pandas as pd\n",
    "\n",
    "import matplotlib as mpl\n",
    "import matplotlib.pyplot as plt\n",
    "import matplotlib.patheffects as PathEffects\n",
    "from mpl_toolkits.mplot3d import Axes3D\n",
    "%matplotlib inline\n",
    "import seaborn as sns\n",
    "\n",
    "from sklearn.utils import class_weight\n",
    "from sklearn.preprocessing import MinMaxScaler, OneHotEncoder\n",
    "from sklearn.metrics import confusion_matrix\n",
    "from sklearn.metrics import precision_recall_fscore_support as score\n",
    "\n",
    "import tensorflow as tf\n",
    "from tensorflow.keras.models import Sequential\n",
    "from tensorflow.keras.layers import Dense, Dropout, Flatten, LSTM, Bidirectional\n",
    "from tensorflow.keras.optimizers import SGD, Adam\n",
    "\n",
    "from avaml.aggregatedata import ForecastDataset, LabeledData, REG_ENG, CsvMissingError\n",
    "from utils.preprocess import *"
   ]
  },
  {
   "cell_type": "code",
   "execution_count": 2,
   "id": "competent-fleet",
   "metadata": {},
   "outputs": [
    {
     "name": "stdout",
     "output_type": "stream",
     "text": [
      "2.2.0\n",
      "[PhysicalDevice(name='/physical_device:GPU:0', device_type='GPU')]\n"
     ]
    }
   ],
   "source": [
    "print(tf.__version__)\n",
    "\n",
    "# we need to set up gpus for tensorflow-gpu and cudnn\n",
    "gpus = tf.config.experimental.list_physical_devices(device_type='GPU')\n",
    "print(gpus)\n",
    "\n",
    "tf.config.experimental.set_memory_growth(device=gpus[0], enable=True)"
   ]
  },
  {
   "cell_type": "code",
   "execution_count": 3,
   "id": "personalized-hamburg",
   "metadata": {},
   "outputs": [],
   "source": [
    "seed = 42\n",
    "np.random.seed(seed)\n",
    "tf.random.set_seed(seed)"
   ]
  },
  {
   "cell_type": "markdown",
   "id": "electrical-scholar",
   "metadata": {},
   "source": [
    "# Download, read in, preprocess data"
   ]
  },
  {
   "cell_type": "code",
   "execution_count": 4,
   "id": "resident-merchant",
   "metadata": {},
   "outputs": [
    {
     "name": "stdout",
     "output_type": "stream",
     "text": [
      "Reading csv\n"
     ]
    }
   ],
   "source": [
    "model_prefix = ''\n",
    "days = 7\n",
    "regobs_types = list(REG_ENG.keys())\n",
    "labeled_data = None\n",
    "try:\n",
    "    print(\"Reading csv\")\n",
    "    labeled_data = LabeledData.from_csv(days=days, regobs_types=regobs_types, with_varsom=True)\n",
    "except CsvMissingError:\n",
    "    print(\"Csv missing. Fetching online data. (This takes a long time.)\")\n",
    "    labeled_data = ForecastDataset(regobs_types=regobs_types).label(days=days, with_varsom=True)\n",
    "    labeled_data.to_csv()"
   ]
  },
  {
   "cell_type": "code",
   "execution_count": 5,
   "id": "composite-purple",
   "metadata": {},
   "outputs": [],
   "source": [
    "# read in data, extract data and labels\n",
    "labeled_data = preprocess(labeled_data)\n",
    "regions = labeled_data.data.reorder_levels([1, 0])\n",
    "labels = labeled_data.label.reorder_levels([1, 0])"
   ]
  },
  {
   "cell_type": "code",
   "execution_count": 6,
   "id": "acting-prevention",
   "metadata": {},
   "outputs": [
    {
     "data": {
      "text/html": [
       "<div>\n",
       "<style scoped>\n",
       "    .dataframe tbody tr th:only-of-type {\n",
       "        vertical-align: middle;\n",
       "    }\n",
       "\n",
       "    .dataframe tbody tr th {\n",
       "        vertical-align: top;\n",
       "    }\n",
       "\n",
       "    .dataframe thead th {\n",
       "        text-align: right;\n",
       "    }\n",
       "</style>\n",
       "<table border=\"1\" class=\"dataframe\">\n",
       "  <thead>\n",
       "    <tr style=\"text-align: right;\">\n",
       "      <th></th>\n",
       "      <th></th>\n",
       "      <th>danger_level_1</th>\n",
       "      <th>danger_level_2</th>\n",
       "      <th>danger_level_3</th>\n",
       "      <th>danger_level_4</th>\n",
       "      <th>danger_level_5</th>\n",
       "      <th>danger_level_6</th>\n",
       "      <th>emergency_warning_1</th>\n",
       "      <th>emergency_warning_2</th>\n",
       "      <th>emergency_warning_3</th>\n",
       "      <th>emergency_warning_4</th>\n",
       "      <th>...</th>\n",
       "      <th>regobs_snowprofile_t_min_4_4</th>\n",
       "      <th>regobs_snowprofile_t_min_4_5</th>\n",
       "      <th>regobs_snowprofile_t_min_4_6</th>\n",
       "      <th>regobs_snowprofile_t_min_4_7</th>\n",
       "      <th>accuracy_2</th>\n",
       "      <th>accuracy_3</th>\n",
       "      <th>accuracy_4</th>\n",
       "      <th>accuracy_5</th>\n",
       "      <th>accuracy_6</th>\n",
       "      <th>accuracy_7</th>\n",
       "    </tr>\n",
       "    <tr>\n",
       "      <th>region</th>\n",
       "      <th>date</th>\n",
       "      <th></th>\n",
       "      <th></th>\n",
       "      <th></th>\n",
       "      <th></th>\n",
       "      <th></th>\n",
       "      <th></th>\n",
       "      <th></th>\n",
       "      <th></th>\n",
       "      <th></th>\n",
       "      <th></th>\n",
       "      <th></th>\n",
       "      <th></th>\n",
       "      <th></th>\n",
       "      <th></th>\n",
       "      <th></th>\n",
       "      <th></th>\n",
       "      <th></th>\n",
       "      <th></th>\n",
       "      <th></th>\n",
       "      <th></th>\n",
       "      <th></th>\n",
       "    </tr>\n",
       "  </thead>\n",
       "  <tbody>\n",
       "    <tr>\n",
       "      <th>3003</th>\n",
       "      <th>2017-12-07</th>\n",
       "      <td>1.0</td>\n",
       "      <td>1.0</td>\n",
       "      <td>1.0</td>\n",
       "      <td>1.0</td>\n",
       "      <td>1.0</td>\n",
       "      <td>1.0</td>\n",
       "      <td>1.0</td>\n",
       "      <td>1.0</td>\n",
       "      <td>1.0</td>\n",
       "      <td>1.0</td>\n",
       "      <td>...</td>\n",
       "      <td>0.0</td>\n",
       "      <td>0.0</td>\n",
       "      <td>0.0</td>\n",
       "      <td>0.0</td>\n",
       "      <td>0.0</td>\n",
       "      <td>0.0</td>\n",
       "      <td>0.0</td>\n",
       "      <td>0.0</td>\n",
       "      <td>0.0</td>\n",
       "      <td>0.0</td>\n",
       "    </tr>\n",
       "    <tr>\n",
       "      <th>3007</th>\n",
       "      <th>2017-12-07</th>\n",
       "      <td>3.0</td>\n",
       "      <td>2.0</td>\n",
       "      <td>3.0</td>\n",
       "      <td>2.0</td>\n",
       "      <td>2.0</td>\n",
       "      <td>2.0</td>\n",
       "      <td>1.0</td>\n",
       "      <td>1.0</td>\n",
       "      <td>1.0</td>\n",
       "      <td>1.0</td>\n",
       "      <td>...</td>\n",
       "      <td>0.0</td>\n",
       "      <td>0.0</td>\n",
       "      <td>0.0</td>\n",
       "      <td>0.0</td>\n",
       "      <td>0.0</td>\n",
       "      <td>0.0</td>\n",
       "      <td>0.0</td>\n",
       "      <td>0.0</td>\n",
       "      <td>0.0</td>\n",
       "      <td>0.0</td>\n",
       "    </tr>\n",
       "    <tr>\n",
       "      <th>3009</th>\n",
       "      <th>2017-12-07</th>\n",
       "      <td>3.0</td>\n",
       "      <td>2.0</td>\n",
       "      <td>2.0</td>\n",
       "      <td>2.0</td>\n",
       "      <td>2.0</td>\n",
       "      <td>2.0</td>\n",
       "      <td>1.0</td>\n",
       "      <td>1.0</td>\n",
       "      <td>1.0</td>\n",
       "      <td>1.0</td>\n",
       "      <td>...</td>\n",
       "      <td>0.0</td>\n",
       "      <td>0.0</td>\n",
       "      <td>0.0</td>\n",
       "      <td>0.0</td>\n",
       "      <td>0.0</td>\n",
       "      <td>0.0</td>\n",
       "      <td>0.0</td>\n",
       "      <td>0.0</td>\n",
       "      <td>0.0</td>\n",
       "      <td>0.0</td>\n",
       "    </tr>\n",
       "    <tr>\n",
       "      <th>3010</th>\n",
       "      <th>2017-12-07</th>\n",
       "      <td>3.0</td>\n",
       "      <td>3.0</td>\n",
       "      <td>3.0</td>\n",
       "      <td>2.0</td>\n",
       "      <td>2.0</td>\n",
       "      <td>2.0</td>\n",
       "      <td>1.0</td>\n",
       "      <td>1.0</td>\n",
       "      <td>1.0</td>\n",
       "      <td>1.0</td>\n",
       "      <td>...</td>\n",
       "      <td>0.0</td>\n",
       "      <td>0.0</td>\n",
       "      <td>0.0</td>\n",
       "      <td>0.0</td>\n",
       "      <td>0.0</td>\n",
       "      <td>0.0</td>\n",
       "      <td>0.0</td>\n",
       "      <td>0.0</td>\n",
       "      <td>0.0</td>\n",
       "      <td>0.0</td>\n",
       "    </tr>\n",
       "    <tr>\n",
       "      <th>3011</th>\n",
       "      <th>2017-12-07</th>\n",
       "      <td>3.0</td>\n",
       "      <td>3.0</td>\n",
       "      <td>3.0</td>\n",
       "      <td>2.0</td>\n",
       "      <td>2.0</td>\n",
       "      <td>2.0</td>\n",
       "      <td>1.0</td>\n",
       "      <td>1.0</td>\n",
       "      <td>1.0</td>\n",
       "      <td>1.0</td>\n",
       "      <td>...</td>\n",
       "      <td>0.0</td>\n",
       "      <td>0.0</td>\n",
       "      <td>0.0</td>\n",
       "      <td>0.0</td>\n",
       "      <td>0.0</td>\n",
       "      <td>0.0</td>\n",
       "      <td>0.0</td>\n",
       "      <td>0.0</td>\n",
       "      <td>0.0</td>\n",
       "      <td>0.0</td>\n",
       "    </tr>\n",
       "    <tr>\n",
       "      <th>...</th>\n",
       "      <th>...</th>\n",
       "      <td>...</td>\n",
       "      <td>...</td>\n",
       "      <td>...</td>\n",
       "      <td>...</td>\n",
       "      <td>...</td>\n",
       "      <td>...</td>\n",
       "      <td>...</td>\n",
       "      <td>...</td>\n",
       "      <td>...</td>\n",
       "      <td>...</td>\n",
       "      <td>...</td>\n",
       "      <td>...</td>\n",
       "      <td>...</td>\n",
       "      <td>...</td>\n",
       "      <td>...</td>\n",
       "      <td>...</td>\n",
       "      <td>...</td>\n",
       "      <td>...</td>\n",
       "      <td>...</td>\n",
       "      <td>...</td>\n",
       "      <td>...</td>\n",
       "    </tr>\n",
       "    <tr>\n",
       "      <th>3031</th>\n",
       "      <th>2021-01-12</th>\n",
       "      <td>3.0</td>\n",
       "      <td>3.0</td>\n",
       "      <td>3.0</td>\n",
       "      <td>2.0</td>\n",
       "      <td>2.0</td>\n",
       "      <td>2.0</td>\n",
       "      <td>1.0</td>\n",
       "      <td>1.0</td>\n",
       "      <td>1.0</td>\n",
       "      <td>1.0</td>\n",
       "      <td>...</td>\n",
       "      <td>0.0</td>\n",
       "      <td>0.0</td>\n",
       "      <td>0.0</td>\n",
       "      <td>0.0</td>\n",
       "      <td>0.0</td>\n",
       "      <td>0.0</td>\n",
       "      <td>0.0</td>\n",
       "      <td>0.0</td>\n",
       "      <td>0.0</td>\n",
       "      <td>0.0</td>\n",
       "    </tr>\n",
       "    <tr>\n",
       "      <th>3032</th>\n",
       "      <th>2021-01-12</th>\n",
       "      <td>3.0</td>\n",
       "      <td>3.0</td>\n",
       "      <td>3.0</td>\n",
       "      <td>2.0</td>\n",
       "      <td>2.0</td>\n",
       "      <td>2.0</td>\n",
       "      <td>1.0</td>\n",
       "      <td>1.0</td>\n",
       "      <td>1.0</td>\n",
       "      <td>1.0</td>\n",
       "      <td>...</td>\n",
       "      <td>0.0</td>\n",
       "      <td>0.0</td>\n",
       "      <td>0.0</td>\n",
       "      <td>0.0</td>\n",
       "      <td>0.0</td>\n",
       "      <td>0.0</td>\n",
       "      <td>0.0</td>\n",
       "      <td>0.0</td>\n",
       "      <td>0.0</td>\n",
       "      <td>0.0</td>\n",
       "    </tr>\n",
       "    <tr>\n",
       "      <th>3034</th>\n",
       "      <th>2021-01-12</th>\n",
       "      <td>3.0</td>\n",
       "      <td>3.0</td>\n",
       "      <td>3.0</td>\n",
       "      <td>2.0</td>\n",
       "      <td>2.0</td>\n",
       "      <td>2.0</td>\n",
       "      <td>1.0</td>\n",
       "      <td>1.0</td>\n",
       "      <td>1.0</td>\n",
       "      <td>1.0</td>\n",
       "      <td>...</td>\n",
       "      <td>0.0</td>\n",
       "      <td>0.0</td>\n",
       "      <td>0.0</td>\n",
       "      <td>0.0</td>\n",
       "      <td>0.0</td>\n",
       "      <td>0.0</td>\n",
       "      <td>0.0</td>\n",
       "      <td>0.0</td>\n",
       "      <td>0.0</td>\n",
       "      <td>0.0</td>\n",
       "    </tr>\n",
       "    <tr>\n",
       "      <th>3035</th>\n",
       "      <th>2021-01-12</th>\n",
       "      <td>3.0</td>\n",
       "      <td>3.0</td>\n",
       "      <td>3.0</td>\n",
       "      <td>2.0</td>\n",
       "      <td>2.0</td>\n",
       "      <td>2.0</td>\n",
       "      <td>1.0</td>\n",
       "      <td>1.0</td>\n",
       "      <td>1.0</td>\n",
       "      <td>1.0</td>\n",
       "      <td>...</td>\n",
       "      <td>0.0</td>\n",
       "      <td>0.0</td>\n",
       "      <td>0.0</td>\n",
       "      <td>0.0</td>\n",
       "      <td>0.0</td>\n",
       "      <td>0.0</td>\n",
       "      <td>0.0</td>\n",
       "      <td>0.0</td>\n",
       "      <td>0.0</td>\n",
       "      <td>0.0</td>\n",
       "    </tr>\n",
       "    <tr>\n",
       "      <th>3037</th>\n",
       "      <th>2021-01-12</th>\n",
       "      <td>3.0</td>\n",
       "      <td>3.0</td>\n",
       "      <td>3.0</td>\n",
       "      <td>2.0</td>\n",
       "      <td>2.0</td>\n",
       "      <td>2.0</td>\n",
       "      <td>1.0</td>\n",
       "      <td>1.0</td>\n",
       "      <td>1.0</td>\n",
       "      <td>1.0</td>\n",
       "      <td>...</td>\n",
       "      <td>0.0</td>\n",
       "      <td>0.0</td>\n",
       "      <td>0.0</td>\n",
       "      <td>0.0</td>\n",
       "      <td>0.0</td>\n",
       "      <td>0.0</td>\n",
       "      <td>0.0</td>\n",
       "      <td>0.0</td>\n",
       "      <td>0.0</td>\n",
       "      <td>0.0</td>\n",
       "    </tr>\n",
       "  </tbody>\n",
       "</table>\n",
       "<p>12651 rows × 6516 columns</p>\n",
       "</div>"
      ],
      "text/plain": [
       "                   danger_level_1  danger_level_2  danger_level_3  \\\n",
       "region date                                                         \n",
       "3003   2017-12-07             1.0             1.0             1.0   \n",
       "3007   2017-12-07             3.0             2.0             3.0   \n",
       "3009   2017-12-07             3.0             2.0             2.0   \n",
       "3010   2017-12-07             3.0             3.0             3.0   \n",
       "3011   2017-12-07             3.0             3.0             3.0   \n",
       "...                           ...             ...             ...   \n",
       "3031   2021-01-12             3.0             3.0             3.0   \n",
       "3032   2021-01-12             3.0             3.0             3.0   \n",
       "3034   2021-01-12             3.0             3.0             3.0   \n",
       "3035   2021-01-12             3.0             3.0             3.0   \n",
       "3037   2021-01-12             3.0             3.0             3.0   \n",
       "\n",
       "                   danger_level_4  danger_level_5  danger_level_6  \\\n",
       "region date                                                         \n",
       "3003   2017-12-07             1.0             1.0             1.0   \n",
       "3007   2017-12-07             2.0             2.0             2.0   \n",
       "3009   2017-12-07             2.0             2.0             2.0   \n",
       "3010   2017-12-07             2.0             2.0             2.0   \n",
       "3011   2017-12-07             2.0             2.0             2.0   \n",
       "...                           ...             ...             ...   \n",
       "3031   2021-01-12             2.0             2.0             2.0   \n",
       "3032   2021-01-12             2.0             2.0             2.0   \n",
       "3034   2021-01-12             2.0             2.0             2.0   \n",
       "3035   2021-01-12             2.0             2.0             2.0   \n",
       "3037   2021-01-12             2.0             2.0             2.0   \n",
       "\n",
       "                   emergency_warning_1  emergency_warning_2  \\\n",
       "region date                                                   \n",
       "3003   2017-12-07                  1.0                  1.0   \n",
       "3007   2017-12-07                  1.0                  1.0   \n",
       "3009   2017-12-07                  1.0                  1.0   \n",
       "3010   2017-12-07                  1.0                  1.0   \n",
       "3011   2017-12-07                  1.0                  1.0   \n",
       "...                                ...                  ...   \n",
       "3031   2021-01-12                  1.0                  1.0   \n",
       "3032   2021-01-12                  1.0                  1.0   \n",
       "3034   2021-01-12                  1.0                  1.0   \n",
       "3035   2021-01-12                  1.0                  1.0   \n",
       "3037   2021-01-12                  1.0                  1.0   \n",
       "\n",
       "                   emergency_warning_3  emergency_warning_4  ...  \\\n",
       "region date                                                  ...   \n",
       "3003   2017-12-07                  1.0                  1.0  ...   \n",
       "3007   2017-12-07                  1.0                  1.0  ...   \n",
       "3009   2017-12-07                  1.0                  1.0  ...   \n",
       "3010   2017-12-07                  1.0                  1.0  ...   \n",
       "3011   2017-12-07                  1.0                  1.0  ...   \n",
       "...                                ...                  ...  ...   \n",
       "3031   2021-01-12                  1.0                  1.0  ...   \n",
       "3032   2021-01-12                  1.0                  1.0  ...   \n",
       "3034   2021-01-12                  1.0                  1.0  ...   \n",
       "3035   2021-01-12                  1.0                  1.0  ...   \n",
       "3037   2021-01-12                  1.0                  1.0  ...   \n",
       "\n",
       "                   regobs_snowprofile_t_min_4_4  regobs_snowprofile_t_min_4_5  \\\n",
       "region date                                                                     \n",
       "3003   2017-12-07                           0.0                           0.0   \n",
       "3007   2017-12-07                           0.0                           0.0   \n",
       "3009   2017-12-07                           0.0                           0.0   \n",
       "3010   2017-12-07                           0.0                           0.0   \n",
       "3011   2017-12-07                           0.0                           0.0   \n",
       "...                                         ...                           ...   \n",
       "3031   2021-01-12                           0.0                           0.0   \n",
       "3032   2021-01-12                           0.0                           0.0   \n",
       "3034   2021-01-12                           0.0                           0.0   \n",
       "3035   2021-01-12                           0.0                           0.0   \n",
       "3037   2021-01-12                           0.0                           0.0   \n",
       "\n",
       "                   regobs_snowprofile_t_min_4_6  regobs_snowprofile_t_min_4_7  \\\n",
       "region date                                                                     \n",
       "3003   2017-12-07                           0.0                           0.0   \n",
       "3007   2017-12-07                           0.0                           0.0   \n",
       "3009   2017-12-07                           0.0                           0.0   \n",
       "3010   2017-12-07                           0.0                           0.0   \n",
       "3011   2017-12-07                           0.0                           0.0   \n",
       "...                                         ...                           ...   \n",
       "3031   2021-01-12                           0.0                           0.0   \n",
       "3032   2021-01-12                           0.0                           0.0   \n",
       "3034   2021-01-12                           0.0                           0.0   \n",
       "3035   2021-01-12                           0.0                           0.0   \n",
       "3037   2021-01-12                           0.0                           0.0   \n",
       "\n",
       "                   accuracy_2  accuracy_3  accuracy_4  accuracy_5  accuracy_6  \\\n",
       "region date                                                                     \n",
       "3003   2017-12-07         0.0         0.0         0.0         0.0         0.0   \n",
       "3007   2017-12-07         0.0         0.0         0.0         0.0         0.0   \n",
       "3009   2017-12-07         0.0         0.0         0.0         0.0         0.0   \n",
       "3010   2017-12-07         0.0         0.0         0.0         0.0         0.0   \n",
       "3011   2017-12-07         0.0         0.0         0.0         0.0         0.0   \n",
       "...                       ...         ...         ...         ...         ...   \n",
       "3031   2021-01-12         0.0         0.0         0.0         0.0         0.0   \n",
       "3032   2021-01-12         0.0         0.0         0.0         0.0         0.0   \n",
       "3034   2021-01-12         0.0         0.0         0.0         0.0         0.0   \n",
       "3035   2021-01-12         0.0         0.0         0.0         0.0         0.0   \n",
       "3037   2021-01-12         0.0         0.0         0.0         0.0         0.0   \n",
       "\n",
       "                   accuracy_7  \n",
       "region date                    \n",
       "3003   2017-12-07         0.0  \n",
       "3007   2017-12-07         0.0  \n",
       "3009   2017-12-07         0.0  \n",
       "3010   2017-12-07         0.0  \n",
       "3011   2017-12-07         0.0  \n",
       "...                       ...  \n",
       "3031   2021-01-12         0.0  \n",
       "3032   2021-01-12         0.0  \n",
       "3034   2021-01-12         0.0  \n",
       "3035   2021-01-12         0.0  \n",
       "3037   2021-01-12         0.0  \n",
       "\n",
       "[12651 rows x 6516 columns]"
      ]
     },
     "execution_count": 6,
     "metadata": {},
     "output_type": "execute_result"
    }
   ],
   "source": [
    "regions"
   ]
  },
  {
   "cell_type": "markdown",
   "id": "existing-distinction",
   "metadata": {},
   "source": [
    "One of the first things we need to take care of is the precipitation column. There are some extremely high values throughout the dataset that we need to drop."
   ]
  },
  {
   "cell_type": "code",
   "execution_count": 7,
   "id": "artistic-scenario",
   "metadata": {},
   "outputs": [],
   "source": [
    "precip_cols = [col for col in regions.columns if 'precip' in col and 'exposed' not in col]\n",
    "regions_precip = regions.loc[:, precip_cols]"
   ]
  },
  {
   "cell_type": "markdown",
   "id": "rational-advocacy",
   "metadata": {},
   "source": [
    "There is a set of anomalously high precipitation values in this dataset that we need to be mindful of."
   ]
  },
  {
   "cell_type": "code",
   "execution_count": 8,
   "id": "lyric-supply",
   "metadata": {},
   "outputs": [],
   "source": [
    "precip_outliers = np.where(regions_precip > 100)[0]"
   ]
  },
  {
   "cell_type": "code",
   "execution_count": 9,
   "id": "aging-referral",
   "metadata": {},
   "outputs": [],
   "source": [
    "drop_idx = regions.index[precip_outliers]\n",
    "regions = regions.drop(drop_idx)"
   ]
  },
  {
   "cell_type": "code",
   "execution_count": 10,
   "id": "entire-sucking",
   "metadata": {},
   "outputs": [
    {
     "data": {
      "text/plain": [
       "precip_0    95.6\n",
       "precip_1    95.6\n",
       "precip_2    95.6\n",
       "precip_3    95.6\n",
       "precip_4    95.6\n",
       "precip_5    95.6\n",
       "dtype: float64"
      ]
     },
     "execution_count": 10,
     "metadata": {},
     "output_type": "execute_result"
    }
   ],
   "source": [
    "regions.loc[:, precip_cols].max()"
   ]
  },
  {
   "cell_type": "markdown",
   "id": "divided-litigation",
   "metadata": {},
   "source": [
    "These seem like more reasonable values. We need to do the same thing for the labels, though."
   ]
  },
  {
   "cell_type": "code",
   "execution_count": 11,
   "id": "mechanical-dallas",
   "metadata": {},
   "outputs": [],
   "source": [
    "labels = labels.drop(drop_idx)"
   ]
  },
  {
   "cell_type": "code",
   "execution_count": 12,
   "id": "orange-surrey",
   "metadata": {},
   "outputs": [
    {
     "name": "stdout",
     "output_type": "stream",
     "text": [
      "Shape of input data:  (12519, 6516)\n",
      "Shape of labels    :  (12519, 69)\n"
     ]
    }
   ],
   "source": [
    "print('Shape of input data:  {}'.format(regions.shape))\n",
    "print('Shape of labels    :  {}'.format(labels.shape))"
   ]
  },
  {
   "cell_type": "code",
   "execution_count": 13,
   "id": "commercial-montgomery",
   "metadata": {},
   "outputs": [],
   "source": [
    "# encode cause and aspect columns in labels\n",
    "labels = encode_causes(labels)\n",
    "labels = encode_aspects(labels)"
   ]
  },
  {
   "cell_type": "markdown",
   "id": "beautiful-puppy",
   "metadata": {},
   "source": [
    "In a previous Notebook analysis on the importance of different features, we say that different meteorological variables from RegObs are often more important than other fields included in the data. And what's more, combining variables to create custom features is even *more* important. We can create those features again below.\n",
    "\n",
    "**Why do we want to do feed in weather data to a neural network when other data is available?** This is a good question. Generally, we cannot send people everywhere to inspect avalanche conditions. That means that there are many places where the *only* data that we have available comes in the form of weather forecasts and observations. Thus, it is important to see if a model can predict danger level or the first avalanche problem given only weather data."
   ]
  },
  {
   "cell_type": "code",
   "execution_count": 14,
   "id": "subsequent-evans",
   "metadata": {},
   "outputs": [],
   "source": [
    "def wind_speed_max(df, col_list):\n",
    "    \"\"\"\n",
    "    Create wind_speed_max_# columns from wind_speed_# and wind_change_speed_#\n",
    "    input columns. This will drop the wind_speed_# and wind_change_speed_# columns.\n",
    "    \n",
    "    Arguments:\n",
    "        df(DataFrame): the input dataframe containing our RegObs observations\n",
    "        col_list(list): a list of columns for the wind_speed_# and wind_change_speed_# features\n",
    "    \n",
    "    Returns:\n",
    "        df(DataFrame): same input data frame with new wind_speed_max_# columns\n",
    "    \"\"\"\n",
    "    # so there is a wind_speed and wind_change_speed column for each day\n",
    "    # that means that there are len(col_list) / 2 unique days\n",
    "    for day in range(int(len(col_list) / 2)):\n",
    "        speed_col = 'wind_speed_' + str(day)\n",
    "        change_col = 'wind_change_speed_' + str(day)\n",
    "        max_col = 'wind_speed_max_' +str(day)\n",
    "        \n",
    "        # take the max over rows\n",
    "        df[max_col] = df.loc[:, [speed_col, change_col]].max(axis=1)\n",
    "        \n",
    "    # drop unwanted wind columns\n",
    "    #df.drop(col_list, axis=1, inplace=True)\n",
    "    return df"
   ]
  },
  {
   "cell_type": "code",
   "execution_count": 15,
   "id": "curious-resistance",
   "metadata": {},
   "outputs": [],
   "source": [
    "def sum_over_features(df, col_list, new_name, drop=False):\n",
    "    \"\"\"\n",
    "    Create column for maximum wind speed over the past 72 hours.\n",
    "    \n",
    "    Arguments:\n",
    "        df(DataFrame): the input dataframe containing our RegObs observations\n",
    "        col_list(list): a list of columns for a set of features; this could be wind, precip, etc.\n",
    "        new_name(str): what you want the new column name to be\n",
    "        drop(bool): whether to drop the columns in col_list before returning df\n",
    "        \n",
    "    NOTE: You need to make sure you pass in intelligible columns. For instance, it may not make sense to\n",
    "          sum over certain columns. Additionally, all of the input columns should follow the same\n",
    "          naming convection, i.e., `precip_0`, `precip_`, `precip_3`\n",
    "    \n",
    "    Returns:\n",
    "        df(DataFrame): same input dataframe with summed column, after dropping input columns\n",
    "    \"\"\"\n",
    "    # sum over rows, or each day\n",
    "    df[new_name] = df.loc[:, col_list].sum(axis=1)\n",
    "    \n",
    "    # drop unwanted columns\n",
    "    if drop == True:\n",
    "        df.drop(col_list, axis=1, inplace=True)\n",
    "    \n",
    "    return df"
   ]
  },
  {
   "cell_type": "code",
   "execution_count": 16,
   "id": "confirmed-execution",
   "metadata": {},
   "outputs": [],
   "source": [
    "def take_max(df, col_list, new_name, drop=False):\n",
    "    \"\"\"\n",
    "    Create a column for the max value given over the past 3 days (72 hours).\n",
    "    This will drop the input columns in col_list if drop is set to True.\n",
    "    \n",
    "    Arguments:\n",
    "        df(DataFrame): the input dataframe containing our RegObs observations\n",
    "        col_list(list): a list of columns for creating the max value\n",
    "        new_name(str): what you want the new column name to be\n",
    "        drop(bool): whether to drop the columns in col_list before returning df\n",
    "    \n",
    "    Returns:\n",
    "        df(DataFrame): same input data frame with new max value column\n",
    "    \"\"\"\n",
    "    # take the max over rows\n",
    "    df[new_name] = df.loc[:, col_list].max(axis=1)\n",
    "    \n",
    "    # drop unwanted columns\n",
    "    if drop == True:\n",
    "        df.drop(col_list, axis=1, inplace=True)\n",
    "    \n",
    "    return df"
   ]
  },
  {
   "cell_type": "code",
   "execution_count": 17,
   "id": "intended-question",
   "metadata": {},
   "outputs": [],
   "source": [
    "# drop wind speed columns\n",
    "wind_dir_cols = [col for col in regions.columns if 'wind_dir' in col]\n",
    "#regions.drop(wind_dir_cols, axis=1, inplace=True)\n",
    "\n",
    "# create 72 hour sum or max of wind speed, precip, and max temp\n",
    "wind_speed_cols = [col for col in regions.columns if 'wind' in col and 'speed' in col]\n",
    "regions = wind_speed_max(regions, wind_speed_cols)\n",
    "to_sum = ['wind_speed_max_0', 'wind_speed_max_1', 'wind_speed_max_2']\n",
    "regions = sum_over_features(regions, to_sum, 'wind_speed_72hr')\n",
    "\n",
    "to_sum = ['precip_0', 'precip_1', 'precip_2']\n",
    "regions = sum_over_features(regions, to_sum, 'precip_72hr')\n",
    "\n",
    "to_sum = ['temp_max_0', 'temp_max_1', 'temp_max_2']\n",
    "regions = take_max(regions, to_sum, 'temp_max_72hr')"
   ]
  },
  {
   "cell_type": "code",
   "execution_count": 18,
   "id": "burning-identity",
   "metadata": {},
   "outputs": [],
   "source": [
    "dont_include_list = ['acc', 'dir', 'fl_start', 'regobs', 'start']\n",
    "all_wx_cols = [col for col in regions.columns]\n",
    "\n",
    "for drop_col in dont_include_list:\n",
    "    all_wx_cols = [col for col in all_wx_cols if drop_col not in col]\n",
    "\n",
    "#all_wx_cols"
   ]
  },
  {
   "cell_type": "code",
   "execution_count": 19,
   "id": "nutritional-branch",
   "metadata": {},
   "outputs": [],
   "source": [
    "train = regions.loc[:, all_wx_cols]"
   ]
  },
  {
   "cell_type": "code",
   "execution_count": 20,
   "id": "least-cooler",
   "metadata": {},
   "outputs": [
    {
     "data": {
      "text/plain": [
       "region  date      \n",
       "3003    2017-12-07    1.0\n",
       "3007    2017-12-07    3.0\n",
       "3009    2017-12-07    3.0\n",
       "3010    2017-12-07    3.0\n",
       "3011    2017-12-07    3.0\n",
       "                     ... \n",
       "3031    2021-01-12    3.0\n",
       "3032    2021-01-12    3.0\n",
       "3034    2021-01-12    3.0\n",
       "3035    2021-01-12    3.0\n",
       "3037    2021-01-12    3.0\n",
       "Name: danger_level_1, Length: 12519, dtype: float64"
      ]
     },
     "execution_count": 20,
     "metadata": {},
     "output_type": "execute_result"
    }
   ],
   "source": [
    "train.loc[:, 'danger_level_1']"
   ]
  },
  {
   "cell_type": "code",
   "execution_count": 21,
   "id": "choice-function",
   "metadata": {},
   "outputs": [],
   "source": [
    "danger_cols = [col for col in train.columns if 'danger' in col]\n",
    "\n",
    "for col in danger_cols:\n",
    "    train.loc[:, col][train.loc[:, col].values == 1] = 0\n",
    "    train.loc[:, col][train.loc[:, col].values == 2] = 0\n",
    "    train.loc[:, col][train.loc[:, col].values == 3] = 0\n",
    "    train.loc[:, col][train.loc[:, col].values == 4] = 1"
   ]
  },
  {
   "cell_type": "code",
   "execution_count": 22,
   "id": "romantic-auditor",
   "metadata": {},
   "outputs": [
    {
     "data": {
      "text/plain": [
       "array([0., 1.])"
      ]
     },
     "execution_count": 22,
     "metadata": {},
     "output_type": "execute_result"
    }
   ],
   "source": [
    "np.unique(train[danger_cols])"
   ]
  },
  {
   "cell_type": "code",
   "execution_count": 23,
   "id": "liked-progressive",
   "metadata": {},
   "outputs": [],
   "source": [
    "def scale_input_data(X):\n",
    "    \"\"\"\n",
    "    Scale input features from [-1, 1] so that it is easier to\n",
    "    train a neural network.\n",
    "    \"\"\"\n",
    "    scaler = MinMaxScaler()\n",
    "    scaled = scaler.fit_transform(X)\n",
    "    return scaled"
   ]
  },
  {
   "cell_type": "code",
   "execution_count": 24,
   "id": "major-ethnic",
   "metadata": {},
   "outputs": [],
   "source": [
    "scaled_X = scale_input_data(train.values)\n",
    "train = pd.DataFrame(scaled_X, columns=train.columns, index=train.index)"
   ]
  },
  {
   "cell_type": "code",
   "execution_count": 25,
   "id": "dominant-conference",
   "metadata": {},
   "outputs": [],
   "source": [
    "# could use CLASS_danger_level or CLASS_problem_1\n",
    "train_labels = labels.loc[:, ['CLASS_danger_level']]"
   ]
  },
  {
   "cell_type": "code",
   "execution_count": 26,
   "id": "martial-stationery",
   "metadata": {},
   "outputs": [
    {
     "data": {
      "text/plain": [
       "CLASS_danger_level\n",
       "1                     18.82\n",
       "2                     52.81\n",
       "3                     26.48\n",
       "4                      1.89\n",
       "dtype: float64"
      ]
     },
     "execution_count": 26,
     "metadata": {},
     "output_type": "execute_result"
    }
   ],
   "source": [
    "class_occurrences = (train_labels.value_counts() / len(train_labels) * 100).sort_index()\n",
    "round(class_occurrences, 2)"
   ]
  },
  {
   "cell_type": "markdown",
   "id": "assured-observation",
   "metadata": {},
   "source": [
    "So we see that there is a heavy imbalance in the class weights that we are trying to predict. This is not ideal for our case, because more than anything we need to reliably be able to predict danger levels 3 and 4. Scikit-learn makes this easy to do for imbalanced classification tasks."
   ]
  },
  {
   "cell_type": "code",
   "execution_count": 27,
   "id": "balanced-guard",
   "metadata": {},
   "outputs": [
    {
     "data": {
      "image/png": "[encoded data removed]",
      "text/plain": [
       "<Figure size 504x360 with 1 Axes>"
      ]
     },
     "metadata": {
      "needs_background": "light"
     },
     "output_type": "display_data"
    }
   ],
   "source": [
    "fig, ax = plt.subplots(figsize=(7, 5))\n",
    "ax.hist(train_labels, align='mid', )#rwidth=0.85)\n",
    "plt.show()"
   ]
  },
  {
   "cell_type": "markdown",
   "id": "ranging-potato",
   "metadata": {},
   "source": [
    "### Outlier Detection\n",
    "\n",
    "Since the classes are so imbalanced, we could treat this like an outlier detection problem and only try to detect avalanche danger level 4's."
   ]
  },
  {
   "cell_type": "code",
   "execution_count": 28,
   "id": "lucky-broadway",
   "metadata": {},
   "outputs": [
    {
     "name": "stdout",
     "output_type": "stream",
     "text": [
      "[0 1]\n"
     ]
    }
   ],
   "source": [
    "train_labels[train_labels.values == 1] = 0\n",
    "train_labels[train_labels.values == 2] = 0\n",
    "train_labels[train_labels.values == 3] = 0\n",
    "train_labels[train_labels.values == 4] = 1\n",
    "\n",
    "print(np.unique(train_labels.values))"
   ]
  },
  {
   "cell_type": "code",
   "execution_count": 29,
   "id": "charming-millennium",
   "metadata": {},
   "outputs": [
    {
     "data": {
      "image/png": "[encoded data removed]",
      "text/plain": [
       "<Figure size 504x360 with 1 Axes>"
      ]
     },
     "metadata": {
      "needs_background": "light"
     },
     "output_type": "display_data"
    }
   ],
   "source": [
    "fig, ax = plt.subplots(figsize=(7, 5))\n",
    "ax.hist(train_labels.values)\n",
    "plt.show()"
   ]
  },
  {
   "cell_type": "code",
   "execution_count": 30,
   "id": "formed-species",
   "metadata": {},
   "outputs": [
    {
     "data": {
      "text/plain": [
       "CLASS_danger_level\n",
       "0                     98.11\n",
       "1                      1.89\n",
       "dtype: float64"
      ]
     },
     "execution_count": 30,
     "metadata": {},
     "output_type": "execute_result"
    }
   ],
   "source": [
    "class_occurrences = (train_labels.value_counts() / len(train_labels) * 100).sort_index()\n",
    "round(class_occurrences, 2)"
   ]
  },
  {
   "cell_type": "markdown",
   "id": "auburn-enough",
   "metadata": {},
   "source": [
    "We can set some class weights below so that the model we train prioritizes getting danger level 4's correct. Note: this can act as another form of regularization for the model.\n",
    "\n",
    "The weights are set to be about equal to what you would get with the [`compute_class_weight()`](https://scikit-learn.org/stable/modules/generated/sklearn.utils.class_weight.compute_class_weight.html) method in Scikit-Learn."
   ]
  },
  {
   "cell_type": "code",
   "execution_count": 31,
   "id": "historic-complaint",
   "metadata": {},
   "outputs": [
    {
     "data": {
      "text/plain": [
       "{0: 0.5, 1: 25}"
      ]
     },
     "execution_count": 31,
     "metadata": {},
     "output_type": "execute_result"
    }
   ],
   "source": [
    "weights = {\n",
    "    0: 0.5,\n",
    "    1: 25\n",
    "}\n",
    "\n",
    "weights"
   ]
  },
  {
   "cell_type": "markdown",
   "id": "social-young",
   "metadata": {},
   "source": [
    "# Split data"
   ]
  },
  {
   "cell_type": "code",
   "execution_count": 32,
   "id": "imperial-adventure",
   "metadata": {},
   "outputs": [],
   "source": [
    "train_idx = [3007, 3012, 3010, 3009, 3013, 3017, 3014, 3032, \n",
    "             3027, 3029, 3022, 3031, 3023, 3037, 3024, 3028]\n",
    "val_idx =   [3011, 3016, 3035]\n",
    "test_idx =  [3006, 3015, 3034]\n",
    "\n",
    "X_train = [train.loc[idx].values for idx in train_idx]\n",
    "y_train = [train_labels.loc[idx].values for idx in train_idx]\n",
    "\n",
    "X_val = [train.loc[idx].values for idx in val_idx]\n",
    "y_val = [train_labels.loc[idx].values for idx in val_idx]\n",
    "\n",
    "X_test = [train.loc[idx].values for idx in test_idx]\n",
    "y_test = [train_labels.loc[idx].values for idx in test_idx]"
   ]
  },
  {
   "cell_type": "code",
   "execution_count": 33,
   "id": "stone-macro",
   "metadata": {},
   "outputs": [],
   "source": [
    "def pad_sequence(arr, length):\n",
    "    \"\"\"\n",
    "    This method will pad a m x n array so that m is perfectly\n",
    "    divisible by length. That is, m % length == 0.\n",
    "    \n",
    "    Arguments:\n",
    "        arr(array): m x n array where there are n input features of length m\n",
    "        length(int): what we want the length of of arr to be divisible by\n",
    "        \n",
    "    Returns:\n",
    "        padded(array): new padded array\n",
    "    \"\"\"\n",
    "    n_features = arr.shape[1]\n",
    "    remainder = arr.shape[0] % length\n",
    "    if remainder == 0: # then nothing to pad\n",
    "        return arr\n",
    "    \n",
    "    pad_length = length - remainder\n",
    "    to_add = np.zeros((pad_length, n_features))\n",
    "    padded = np.concatenate([arr, to_add])\n",
    "    #padded = np.concatenate([to_add, arr])\n",
    "    \n",
    "    return padded"
   ]
  },
  {
   "cell_type": "code",
   "execution_count": 34,
   "id": "located-documentary",
   "metadata": {},
   "outputs": [],
   "source": [
    "sequence_length = 7 # this is an arbitrary choice, a hyperparameter\n",
    "X_train_pad = [pad_sequence(arr, sequence_length) for arr in X_train]\n",
    "y_train_pad = [pad_sequence(arr, sequence_length) for arr in y_train]\n",
    "\n",
    "X_val_pad = [pad_sequence(arr, sequence_length) for arr in X_val]\n",
    "y_val_pad = [pad_sequence(arr, sequence_length) for arr in y_val]\n",
    "\n",
    "X_test_pad = [pad_sequence(arr, sequence_length) for arr in X_test]\n",
    "y_test_pad = [pad_sequence(arr, sequence_length) for arr in y_test]"
   ]
  },
  {
   "cell_type": "code",
   "execution_count": 35,
   "id": "close-assignment",
   "metadata": {},
   "outputs": [
    {
     "name": "stdout",
     "output_type": "stream",
     "text": [
      "(8933, 1335)\n",
      "(8933, 1)\n",
      "(1722, 1335)\n",
      "(1722, 1)\n"
     ]
    }
   ],
   "source": [
    "# reshape data into (samples, timesteps, features)\n",
    "X_concat_train = np.concatenate(X_train)\n",
    "y_concat_train = np.concatenate(y_train)\n",
    "\n",
    "X_concat_val = np.concatenate(X_val)\n",
    "y_concat_val = np.concatenate(y_val)\n",
    "\n",
    "print(X_concat_train.shape)\n",
    "print(y_concat_train.shape)\n",
    "\n",
    "print(X_concat_val.shape)\n",
    "print(y_concat_val.shape)"
   ]
  },
  {
   "cell_type": "markdown",
   "id": "random-malta",
   "metadata": {},
   "source": [
    "In order to use the recall metric, you need to have your vector of binary values one-hot encoded as a 2D matrix. We can do that below."
   ]
  },
  {
   "cell_type": "code",
   "execution_count": 36,
   "id": "handed-taylor",
   "metadata": {},
   "outputs": [],
   "source": [
    "encoder = OneHotEncoder()\n",
    "y_concat_train = encoder.fit_transform(y_concat_train).toarray()\n",
    "y_concat_val = encoder.fit_transform(y_concat_val).toarray()"
   ]
  },
  {
   "cell_type": "code",
   "execution_count": 37,
   "id": "needed-dialogue",
   "metadata": {},
   "outputs": [],
   "source": [
    "def batch_data(x, y, length):\n",
    "    \"\"\"\n",
    "    Batch the neural network data, creating a shifting window of data at each time step.\n",
    "    \"\"\"    \n",
    "    #create empty lists to append to\n",
    "    X, Y = [], []\n",
    "    \n",
    "    #iterate over dataset, looking at moving window of 1 timestep\n",
    "    #need to length to prevent out of bounds errors\n",
    "    for i in range(0, len(x)-length):\n",
    "        x_batch = x[i:length+i]\n",
    "        y_batch = y[length+i]\n",
    "        \n",
    "        #append batches to lists\n",
    "        X.append(x_batch)\n",
    "        Y.append(y_batch)\n",
    "    \n",
    "    #convert lists to numpy arrays before turning into torch tensors\n",
    "    X = np.asarray(X)\n",
    "    Y = np.asarray(Y)\n",
    "    \n",
    "    print(X.shape, Y.shape)\n",
    "    return X, Y"
   ]
  },
  {
   "cell_type": "code",
   "execution_count": 38,
   "id": "professional-indonesia",
   "metadata": {},
   "outputs": [
    {
     "name": "stdout",
     "output_type": "stream",
     "text": [
      "(8926, 7, 1335) (8926, 2)\n",
      "(1715, 7, 1335) (1715, 2)\n"
     ]
    }
   ],
   "source": [
    "batchX_train, batchY_train = batch_data(X_concat_train, y_concat_train, sequence_length)\n",
    "batchX_val, batchY_val = batch_data(X_concat_val, y_concat_val, sequence_length)"
   ]
  },
  {
   "cell_type": "markdown",
   "id": "centered-store",
   "metadata": {},
   "source": [
    "# Training a neural network\n",
    "\n",
    "## DNN\n",
    "We can define our neural network below. This is a multiclass classification problem, meaning that we need as many output units in the last layer as there are unique labels in our training set. It also means that we should use a softmax activation in the last layer and some form of categorical crossentropy as the loss function."
   ]
  },
  {
   "cell_type": "code",
   "execution_count": 39,
   "id": "corporate-maintenance",
   "metadata": {},
   "outputs": [],
   "source": [
    "def create_dnn(X, n_input, dropout, n_output, add_reg=False):\n",
    "    \"\"\"\n",
    "    Create a DNN with or without regularization. Note: X should have\n",
    "    shape (samples, timesteps, features)\n",
    "    \"\"\"\n",
    "    timesteps = X.shape[1]\n",
    "    features = X.shape[2]\n",
    "    \n",
    "    # design network\n",
    "    dnn = tf.keras.models.Sequential()\n",
    "    if(add_reg == True):\n",
    "        reg = tf.keras.regularizers.l2(l=0.0001)\n",
    "        dnn.add(Dense(n_input, activation='elu', kernel_regularizer=reg, input_shape=(timesteps, features)))\n",
    "        dnn.add(Dropout(dropout))\n",
    "        \n",
    "        dnn.add(Dense(n_input, activation='elu', kernel_regularizer=reg))\n",
    "        dnn.add(Dropout(dropout))\n",
    "        \n",
    "        dnn.add(Dense(n_input, activation='elu', kernel_regularizer=reg))\n",
    "        \n",
    "    else:\n",
    "        dnn.add(Dense(n_input, activation='elu', input_shape=(timesteps, features)))\n",
    "        dnn.add(Dropout(dropout))\n",
    "        \n",
    "        dnn.add(Dense(n_input, activation='elu'))\n",
    "        dnn.add(Dropout(dropout))\n",
    "        \n",
    "        dnn.add(Dense(n_input, activation='elu'))\n",
    "    \n",
    "    dnn.add(Dropout(dropout))\n",
    "    dnn.add(tf.keras.layers.Flatten())\n",
    "    dnn.add(Dense(n_output, activation='sigmoid'))\n",
    "    \n",
    "    return dnn"
   ]
  },
  {
   "cell_type": "code",
   "execution_count": 40,
   "id": "intense-israeli",
   "metadata": {},
   "outputs": [],
   "source": [
    "def train(model, X, y, X_val, y_val, loss, opt, batch, e, w):\n",
    "    \"\"\"\n",
    "    Train a neural network with passed in hyperparameters.\n",
    "    \"\"\"\n",
    "    # compile and fit model\n",
    "    model.compile(loss=loss, \n",
    "                  optimizer=opt, \n",
    "                  metrics=['Recall'])\n",
    "\n",
    "    history = model.fit(X, y, validation_data=(X_val, y_val),\n",
    "                        batch_size=batch, epochs=e, verbose=0, \n",
    "                        shuffle=False, class_weight=w)\n",
    "    \n",
    "    return history"
   ]
  },
  {
   "cell_type": "code",
   "execution_count": 41,
   "id": "divine-nation",
   "metadata": {},
   "outputs": [],
   "source": [
    "def plot_history(history):\n",
    "    \"\"\"\n",
    "    Plot the loss function vs epochs and metric vs epochs after\n",
    "    training a neural network.\n",
    "    \"\"\"\n",
    "    fig, ax = plt.subplots(1, 2, figsize=(16, 8))\n",
    "\n",
    "    # plot loss over time\n",
    "    ax[0].plot(history.history['loss'], label='train')\n",
    "    ax[0].plot(history.history['val_loss'], label='val')\n",
    "    \n",
    "    # plot metric over time\n",
    "    ax[1].plot(history.history['recall'], label='train')\n",
    "    ax[1].plot(history.history['val_recall'], label='val')\n",
    "    \n",
    "    ax[0].set_title('Loss')\n",
    "    ax[1].set_title('recall')\n",
    "    \n",
    "    ax[0].legend()\n",
    "    ax[1].legend()\n",
    "    plt.show()"
   ]
  },
  {
   "cell_type": "code",
   "execution_count": 42,
   "id": "prescribed-metro",
   "metadata": {},
   "outputs": [],
   "source": [
    "def plot_confusion_matrix(model, X, y_true):\n",
    "    y_pred = np.argmax(model.predict(X), axis=1)\n",
    "    precision, recall, fscore, support = score(y_true, y_pred)\n",
    "    print('precision: {}'.format(precision))\n",
    "    print('recall:    {}'.format(recall))\n",
    "    print('fscore:    {}'.format(fscore))\n",
    "\n",
    "    #use seaborn's sns.heatmap() function for pretty plotting of confusion matrix\n",
    "    cm = confusion_matrix(y_true, y_pred)\n",
    "    ax = sns.heatmap(cm, annot=True, fmt='d', cbar=False)\n",
    "\n",
    "    #set x and y labels, as well as title\n",
    "    ax.set_xlabel('Predicted labels')\n",
    "    ax.set_ylabel('True labels')\n",
    "    ax.set_title('ROC Confusion Matrix')\n",
    "\n",
    "    plt.show()\n",
    "    \n",
    "    return y_pred"
   ]
  },
  {
   "cell_type": "code",
   "execution_count": 43,
   "id": "environmental-window",
   "metadata": {},
   "outputs": [],
   "source": [
    "# network params\n",
    "input_neurons = 100\n",
    "output_neurons = len(np.unique(y_concat_train))\n",
    "drop = 0.3\n",
    "\n",
    "# training params\n",
    "num_epochs = 1200\n",
    "alpha = 1e-4\n",
    "batch_size = len(batchX_train)\n",
    "criterion = tf.keras.losses.BinaryCrossentropy()\n",
    "optimizer = tf.keras.optimizers.Adam(lr=alpha)"
   ]
  },
  {
   "cell_type": "code",
   "execution_count": 44,
   "id": "first-treaty",
   "metadata": {},
   "outputs": [
    {
     "name": "stdout",
     "output_type": "stream",
     "text": [
      "8926\n"
     ]
    }
   ],
   "source": [
    "print(batch_size)"
   ]
  },
  {
   "cell_type": "code",
   "execution_count": 45,
   "id": "directed-chest",
   "metadata": {},
   "outputs": [
    {
     "name": "stdout",
     "output_type": "stream",
     "text": [
      "WARNING:tensorflow:From /home/jakidxav/anaconda3/envs/avalanche_ml/lib/python3.7/site-packages/tensorflow/python/ops/resource_variable_ops.py:1817: calling BaseResourceVariable.__init__ (from tensorflow.python.ops.resource_variable_ops) with constraint is deprecated and will be removed in a future version.\n",
      "Instructions for updating:\n",
      "If using Keras pass *_constraint arguments to layers.\n"
     ]
    }
   ],
   "source": [
    "window_dnn_reg = create_dnn(batchX_train, input_neurons, drop, output_neurons, True)\n",
    "\n",
    "window_dnn_reg_history = train(window_dnn_reg, batchX_train, batchY_train, \n",
    "                               batchX_val, batchY_val, criterion, optimizer, \n",
    "                               batch_size, num_epochs, weights)"
   ]
  },
  {
   "cell_type": "code",
   "execution_count": 46,
   "id": "israeli-consciousness",
   "metadata": {},
   "outputs": [
    {
     "data": {
      "image/png": "[encoded data removed]",
      "text/plain": [
       "<Figure size 1152x576 with 2 Axes>"
      ]
     },
     "metadata": {
      "needs_background": "light"
     },
     "output_type": "display_data"
    }
   ],
   "source": [
    "plot_history(window_dnn_reg_history)"
   ]
  },
  {
   "cell_type": "code",
   "execution_count": 47,
   "id": "complimentary-republic",
   "metadata": {},
   "outputs": [
    {
     "name": "stdout",
     "output_type": "stream",
     "text": [
      "precision: [0.99516616 0.41666667]\n",
      "recall:    [0.97919144 0.75757576]\n",
      "fscore:    [0.98711417 0.53763441]\n"
     ]
    },
    {
     "data": {
      "image/png": "[encoded data removed]",
      "text/plain": [
       "<Figure size 432x288 with 1 Axes>"
      ]
     },
     "metadata": {
      "needs_background": "light"
     },
     "output_type": "display_data"
    }
   ],
   "source": [
    "preds = plot_confusion_matrix(window_dnn_reg, batchX_val, np.argmax(batchY_val, axis=1))"
   ]
  },
  {
   "cell_type": "markdown",
   "id": "breeding-marine",
   "metadata": {},
   "source": [
    "This is looking fairly good, but, ideally that bottom left square would be 0 (no false negatives). We can play with the sensitivity to try and get that square to 0, and then use the same threshold value for the test set. I am interested in doing this because I believe there are many instances where the danger level is 4, but the model is not able to distinguish it from a danger level of 3.\n",
    "\n",
    "In plain text, this strategy would be something like:\n",
    "> \"We care most about predicting a danger level 4 when it is a danger level 4, and less about over-predicting danger level 4's.\"\n",
    "\n",
    "So ideally, we would have a precision greater than 50% and a recall score as close to 100% as possible. **It might be worth looking at why the Keras recall score says 95+% on the validation set while the scikit-learn version gets only 78%.**"
   ]
  },
  {
   "cell_type": "code",
   "execution_count": 48,
   "id": "democratic-alarm",
   "metadata": {},
   "outputs": [
    {
     "data": {
      "image/png": "[encoded data removed]",
      "text/plain": [
       "<Figure size 432x288 with 1 Axes>"
      ]
     },
     "metadata": {
      "needs_background": "light"
     },
     "output_type": "display_data"
    }
   ],
   "source": [
    "probs = window_dnn_reg.predict(batchX_val)\n",
    "to_save = []\n",
    "for proba_pair in probs:\n",
    "    if(proba_pair[1] > 0.05):\n",
    "        to_save.append(1)\n",
    "    else: \n",
    "        to_save.append(0)\n",
    "\n",
    "#use seaborn's sns.heatmap() function for pretty plotting of confusion matrix\n",
    "cm = confusion_matrix(np.argmax(batchY_val, axis=1), to_save)\n",
    "ax = sns.heatmap(cm, annot=True, fmt='d', cbar=False)\n",
    "\n",
    "#set x and y labels, as well as title\n",
    "ax.set_xlabel('Predicted labels')\n",
    "ax.set_ylabel('True labels')\n",
    "ax.set_title('ROC Confusion Matrix')\n",
    "\n",
    "plt.show()"
   ]
  },
  {
   "cell_type": "markdown",
   "id": "laughing-seafood",
   "metadata": {},
   "source": [
    "When we do this, we can limit the number of false negatives, but at the cost of predicting danger level 4 *much* more often. This makes me a little uncomfortable, because I don't want to over-optimize for the validation set and have it not generalize to the test set."
   ]
  },
  {
   "cell_type": "markdown",
   "id": "engaging-injury",
   "metadata": {},
   "source": [
    "Maybe we should use some sort of early stopping?\n",
    "- - https://www.tensorflow.org/api_docs/python/tf/keras/callbacks/EarlyStopping\n",
    "\n",
    "Or perhaps we could save the model each time we improve on recall?"
   ]
  },
  {
   "cell_type": "code",
   "execution_count": 49,
   "id": "becoming-wedding",
   "metadata": {},
   "outputs": [],
   "source": [
    "# recall\n",
    "greater_than = np.where(np.array(window_dnn_reg_history.history['val_recall']) > 0.99)[0]\n",
    "for val in greater_than:\n",
    "    print('Recall:', window_dnn_reg_history.history['val_recall'][val])\n",
    "    \n",
    "# loss\n",
    "less_than = np.where(np.array(window_dnn_reg_history.history['val_loss']) < 0.05)[0] #it never reaches that low\n",
    "for val in less_than:\n",
    "    print('Loss:', window_dnn_reg_history.history['val_loss'][val])"
   ]
  },
  {
   "cell_type": "markdown",
   "id": "precise-administration",
   "metadata": {},
   "source": [
    "# Summary so far:\n",
    "- batching data works better than non-batching, although after trying several values for the window size, most perform the same\n",
    "- regularization definitely helps\n",
    "- DNNs perform the best overall, RNNs perform okay when only using the RegObs data\n",
    "- using both regobs and varsom data improves performance\n",
    "- class weights work well\n",
    "- classifying danger level 4 as an outlier works better than trying to classify danger levels 1-4\n",
    "- I am no longer optimizing for accuracy, only loss and recall\n",
    "- I am not sure of the effect of shuffling when using DNNs. Performance seems comparable.\n",
    "- 2 vs 3 layer DNNs perform similarly, although I received my best results so far with a 2 layer DNN. This might be worth looking at in hyperopt.\n",
    "\n",
    "I believe that I am reaching unreducible error in the validation set. I believe that there are some danger level 4's that look like 3's, and have never reached lower than 3 false negatives after training (and before playing with the prediction sensitivity). I think I have found a batch size, learning rate, epoch number, regularization parameter, and several other optimal hyperparameters, so it may be time to predict on the test set after running a bunch of models and saving the best one. I need to find a way to do this with the recall metric."
   ]
  },
  {
   "cell_type": "code",
   "execution_count": null,
   "id": "interior-image",
   "metadata": {},
   "outputs": [],
   "source": []
  }
 ],
 "metadata": {
  "kernelspec": {
   "display_name": "Python 3",
   "language": "python",
   "name": "python3"
  },
  "language_info": {
   "codemirror_mode": {
    "name": "ipython",
    "version": 3
   },
   "file_extension": ".py",
   "mimetype": "text/x-python",
   "name": "python",
   "nbconvert_exporter": "python",
   "pygments_lexer": "ipython3",
   "version": "3.7.9"
  }
 },
 "nbformat": 4,
 "nbformat_minor": 5
}
