{
 "cells": [
  {
   "cell_type": "code",
   "execution_count": 1,
   "metadata": {
    "collapsed": true
   },
   "outputs": [],
   "source": [
    "from aggregatedata import ForecastDataset, LabeledData, REG_ENG, CsvMissingError"
   ]
  },
  {
   "cell_type": "code",
   "execution_count": 3,
   "outputs": [
    {
     "name": "stdout",
     "output_type": "stream",
     "text": [
      "Reading csv\n"
     ]
    }
   ],
   "source": [
    "# varsomdata/localstorage/data_v19_days_7_regobs_dangersign_tests_activity_event_snowpack_problem_danger_snowprofile.csv\n",
    "days = 7\n",
    "regobs_types = list(REG_ENG.keys())\n",
    "labeled_data = None\n",
    "try:\n",
    "    print(\"Reading csv\")\n",
    "    labeled_data = LabeledData.from_csv(days=days, regobs_types=regobs_types)\n",
    "except CsvMissingError:\n",
    "    print(\"Csv missing.\")"
   ],
   "metadata": {
    "collapsed": false,
    "pycharm": {
     "name": "#%%\n"
    }
   }
  },
  {
   "cell_type": "code",
   "execution_count": 4,
   "outputs": [
    {
     "data": {
      "text/plain": "                region_id_3001 region_id_3002 region_id_3003 region_id_3004  \\\n                             0              0              0              0   \n2017-12-08 3003            0.0            0.0            1.0            0.0   \n           3007            0.0            0.0            0.0            0.0   \n           3009            0.0            0.0            0.0            0.0   \n           3010            0.0            0.0            0.0            0.0   \n           3011            0.0            0.0            0.0            0.0   \n...                        ...            ...            ...            ...   \n2020-05-31 3015            0.0            0.0            0.0            0.0   \n           3016            0.0            0.0            0.0            0.0   \n           3017            0.0            0.0            0.0            0.0   \n           3022            0.0            0.0            0.0            0.0   \n           3023            0.0            0.0            0.0            0.0   \n\n                region_id_3005 region_id_3006 region_id_3007 region_id_3008  \\\n                             0              0              0              0   \n2017-12-08 3003            0.0            0.0            0.0            0.0   \n           3007            0.0            0.0            1.0            0.0   \n           3009            0.0            0.0            0.0            0.0   \n           3010            0.0            0.0            0.0            0.0   \n           3011            0.0            0.0            0.0            0.0   \n...                        ...            ...            ...            ...   \n2020-05-31 3015            0.0            0.0            0.0            0.0   \n           3016            0.0            0.0            0.0            0.0   \n           3017            0.0            0.0            0.0            0.0   \n           3022            0.0            0.0            0.0            0.0   \n           3023            0.0            0.0            0.0            0.0   \n\n                region_id_3009 region_id_3010  ...  \\\n                             0              0  ...   \n2017-12-08 3003            0.0            0.0  ...   \n           3007            0.0            0.0  ...   \n           3009            1.0            0.0  ...   \n           3010            0.0            1.0  ...   \n           3011            0.0            0.0  ...   \n...                        ...            ...  ...   \n2020-05-31 3015            0.0            0.0  ...   \n           3016            0.0            0.0  ...   \n           3017            0.0            0.0  ...   \n           3022            0.0            0.0  ...   \n           3023            0.0            0.0  ...   \n\n                regobs_snowprofile_t_mean_4                 \\\n                                          4    5    6    7   \n2017-12-08 3003                         0.0  0.0  0.0  0.0   \n           3007                         0.0  0.0  0.0  0.0   \n           3009                         0.0  0.0  0.0  0.0   \n           3010                         0.0  0.0  0.0  0.0   \n           3011                         0.0  0.0  0.0  0.0   \n...                                     ...  ...  ...  ...   \n2020-05-31 3015                         0.0  0.0  0.0  0.0   \n           3016                         0.0  0.0  0.0  0.0   \n           3017                         0.0  0.0  0.0  0.0   \n           3022                         0.0  0.0  0.0  0.0   \n           3023                         0.0  0.0  0.0  0.0   \n\n                regobs_snowprofile_t_min_4                           \n                                         2    3    4    5    6    7  \n2017-12-08 3003                        0.0  0.0  0.0  0.0  0.0  0.0  \n           3007                        0.0  0.0  0.0  0.0  0.0  0.0  \n           3009                        0.0  0.0  0.0  0.0  0.0  0.0  \n           3010                        0.0  0.0  0.0  0.0  0.0  0.0  \n           3011                        0.0  0.0  0.0  0.0  0.0  0.0  \n...                                    ...  ...  ...  ...  ...  ...  \n2020-05-31 3015                        0.0  0.0  0.0  0.0  0.0  0.0  \n           3016                        0.0  0.0  0.0  0.0  0.0  0.0  \n           3017                        0.0  0.0  0.0  0.0  0.0  0.0  \n           3022                        0.0  0.0  0.0  0.0  0.0  0.0  \n           3023                        0.0  0.0  0.0  0.0  0.0  0.0  \n\n[11366 rows x 6556 columns]",
      "text/html": "<div>\n<style scoped>\n    .dataframe tbody tr th:only-of-type {\n        vertical-align: middle;\n    }\n\n    .dataframe tbody tr th {\n        vertical-align: top;\n    }\n\n    .dataframe thead tr th {\n        text-align: left;\n    }\n</style>\n<table border=\"1\" class=\"dataframe\">\n  <thead>\n    <tr>\n      <th></th>\n      <th></th>\n      <th>region_id_3001</th>\n      <th>region_id_3002</th>\n      <th>region_id_3003</th>\n      <th>region_id_3004</th>\n      <th>region_id_3005</th>\n      <th>region_id_3006</th>\n      <th>region_id_3007</th>\n      <th>region_id_3008</th>\n      <th>region_id_3009</th>\n      <th>region_id_3010</th>\n      <th>...</th>\n      <th colspan=\"4\" halign=\"left\">regobs_snowprofile_t_mean_4</th>\n      <th colspan=\"6\" halign=\"left\">regobs_snowprofile_t_min_4</th>\n    </tr>\n    <tr>\n      <th></th>\n      <th></th>\n      <th>0</th>\n      <th>0</th>\n      <th>0</th>\n      <th>0</th>\n      <th>0</th>\n      <th>0</th>\n      <th>0</th>\n      <th>0</th>\n      <th>0</th>\n      <th>0</th>\n      <th>...</th>\n      <th>4</th>\n      <th>5</th>\n      <th>6</th>\n      <th>7</th>\n      <th>2</th>\n      <th>3</th>\n      <th>4</th>\n      <th>5</th>\n      <th>6</th>\n      <th>7</th>\n    </tr>\n  </thead>\n  <tbody>\n    <tr>\n      <th rowspan=\"5\" valign=\"top\">2017-12-08</th>\n      <th>3003</th>\n      <td>0.0</td>\n      <td>0.0</td>\n      <td>1.0</td>\n      <td>0.0</td>\n      <td>0.0</td>\n      <td>0.0</td>\n      <td>0.0</td>\n      <td>0.0</td>\n      <td>0.0</td>\n      <td>0.0</td>\n      <td>...</td>\n      <td>0.0</td>\n      <td>0.0</td>\n      <td>0.0</td>\n      <td>0.0</td>\n      <td>0.0</td>\n      <td>0.0</td>\n      <td>0.0</td>\n      <td>0.0</td>\n      <td>0.0</td>\n      <td>0.0</td>\n    </tr>\n    <tr>\n      <th>3007</th>\n      <td>0.0</td>\n      <td>0.0</td>\n      <td>0.0</td>\n      <td>0.0</td>\n      <td>0.0</td>\n      <td>0.0</td>\n      <td>1.0</td>\n      <td>0.0</td>\n      <td>0.0</td>\n      <td>0.0</td>\n      <td>...</td>\n      <td>0.0</td>\n      <td>0.0</td>\n      <td>0.0</td>\n      <td>0.0</td>\n      <td>0.0</td>\n      <td>0.0</td>\n      <td>0.0</td>\n      <td>0.0</td>\n      <td>0.0</td>\n      <td>0.0</td>\n    </tr>\n    <tr>\n      <th>3009</th>\n      <td>0.0</td>\n      <td>0.0</td>\n      <td>0.0</td>\n      <td>0.0</td>\n      <td>0.0</td>\n      <td>0.0</td>\n      <td>0.0</td>\n      <td>0.0</td>\n      <td>1.0</td>\n      <td>0.0</td>\n      <td>...</td>\n      <td>0.0</td>\n      <td>0.0</td>\n      <td>0.0</td>\n      <td>0.0</td>\n      <td>0.0</td>\n      <td>0.0</td>\n      <td>0.0</td>\n      <td>0.0</td>\n      <td>0.0</td>\n      <td>0.0</td>\n    </tr>\n    <tr>\n      <th>3010</th>\n      <td>0.0</td>\n      <td>0.0</td>\n      <td>0.0</td>\n      <td>0.0</td>\n      <td>0.0</td>\n      <td>0.0</td>\n      <td>0.0</td>\n      <td>0.0</td>\n      <td>0.0</td>\n      <td>1.0</td>\n      <td>...</td>\n      <td>0.0</td>\n      <td>0.0</td>\n      <td>0.0</td>\n      <td>0.0</td>\n      <td>0.0</td>\n      <td>0.0</td>\n      <td>0.0</td>\n      <td>0.0</td>\n      <td>0.0</td>\n      <td>0.0</td>\n    </tr>\n    <tr>\n      <th>3011</th>\n      <td>0.0</td>\n      <td>0.0</td>\n      <td>0.0</td>\n      <td>0.0</td>\n      <td>0.0</td>\n      <td>0.0</td>\n      <td>0.0</td>\n      <td>0.0</td>\n      <td>0.0</td>\n      <td>0.0</td>\n      <td>...</td>\n      <td>0.0</td>\n      <td>0.0</td>\n      <td>0.0</td>\n      <td>0.0</td>\n      <td>0.0</td>\n      <td>0.0</td>\n      <td>0.0</td>\n      <td>0.0</td>\n      <td>0.0</td>\n      <td>0.0</td>\n    </tr>\n    <tr>\n      <th>...</th>\n      <th>...</th>\n      <td>...</td>\n      <td>...</td>\n      <td>...</td>\n      <td>...</td>\n      <td>...</td>\n      <td>...</td>\n      <td>...</td>\n      <td>...</td>\n      <td>...</td>\n      <td>...</td>\n      <td>...</td>\n      <td>...</td>\n      <td>...</td>\n      <td>...</td>\n      <td>...</td>\n      <td>...</td>\n      <td>...</td>\n      <td>...</td>\n      <td>...</td>\n      <td>...</td>\n      <td>...</td>\n    </tr>\n    <tr>\n      <th rowspan=\"5\" valign=\"top\">2020-05-31</th>\n      <th>3015</th>\n      <td>0.0</td>\n      <td>0.0</td>\n      <td>0.0</td>\n      <td>0.0</td>\n      <td>0.0</td>\n      <td>0.0</td>\n      <td>0.0</td>\n      <td>0.0</td>\n      <td>0.0</td>\n      <td>0.0</td>\n      <td>...</td>\n      <td>0.0</td>\n      <td>0.0</td>\n      <td>0.0</td>\n      <td>0.0</td>\n      <td>0.0</td>\n      <td>0.0</td>\n      <td>0.0</td>\n      <td>0.0</td>\n      <td>0.0</td>\n      <td>0.0</td>\n    </tr>\n    <tr>\n      <th>3016</th>\n      <td>0.0</td>\n      <td>0.0</td>\n      <td>0.0</td>\n      <td>0.0</td>\n      <td>0.0</td>\n      <td>0.0</td>\n      <td>0.0</td>\n      <td>0.0</td>\n      <td>0.0</td>\n      <td>0.0</td>\n      <td>...</td>\n      <td>0.0</td>\n      <td>0.0</td>\n      <td>0.0</td>\n      <td>0.0</td>\n      <td>0.0</td>\n      <td>0.0</td>\n      <td>0.0</td>\n      <td>0.0</td>\n      <td>0.0</td>\n      <td>0.0</td>\n    </tr>\n    <tr>\n      <th>3017</th>\n      <td>0.0</td>\n      <td>0.0</td>\n      <td>0.0</td>\n      <td>0.0</td>\n      <td>0.0</td>\n      <td>0.0</td>\n      <td>0.0</td>\n      <td>0.0</td>\n      <td>0.0</td>\n      <td>0.0</td>\n      <td>...</td>\n      <td>0.0</td>\n      <td>0.0</td>\n      <td>0.0</td>\n      <td>0.0</td>\n      <td>0.0</td>\n      <td>0.0</td>\n      <td>0.0</td>\n      <td>0.0</td>\n      <td>0.0</td>\n      <td>0.0</td>\n    </tr>\n    <tr>\n      <th>3022</th>\n      <td>0.0</td>\n      <td>0.0</td>\n      <td>0.0</td>\n      <td>0.0</td>\n      <td>0.0</td>\n      <td>0.0</td>\n      <td>0.0</td>\n      <td>0.0</td>\n      <td>0.0</td>\n      <td>0.0</td>\n      <td>...</td>\n      <td>0.0</td>\n      <td>0.0</td>\n      <td>0.0</td>\n      <td>0.0</td>\n      <td>0.0</td>\n      <td>0.0</td>\n      <td>0.0</td>\n      <td>0.0</td>\n      <td>0.0</td>\n      <td>0.0</td>\n    </tr>\n    <tr>\n      <th>3023</th>\n      <td>0.0</td>\n      <td>0.0</td>\n      <td>0.0</td>\n      <td>0.0</td>\n      <td>0.0</td>\n      <td>0.0</td>\n      <td>0.0</td>\n      <td>0.0</td>\n      <td>0.0</td>\n      <td>0.0</td>\n      <td>...</td>\n      <td>0.0</td>\n      <td>0.0</td>\n      <td>0.0</td>\n      <td>0.0</td>\n      <td>0.0</td>\n      <td>0.0</td>\n      <td>0.0</td>\n      <td>0.0</td>\n      <td>0.0</td>\n      <td>0.0</td>\n    </tr>\n  </tbody>\n</table>\n<p>11366 rows × 6556 columns</p>\n</div>"
     },
     "execution_count": 4,
     "metadata": {},
     "output_type": "execute_result"
    }
   ],
   "source": [
    "labeled_data.data"
   ],
   "metadata": {
    "collapsed": false,
    "pycharm": {
     "name": "#%%\n"
    }
   }
  },
  {
   "cell_type": "code",
   "execution_count": null,
   "outputs": [],
   "source": [],
   "metadata": {
    "collapsed": false,
    "pycharm": {
     "name": "#%%\n"
    }
   }
  }
 ],
 "metadata": {
  "kernelspec": {
   "display_name": "Python 3",
   "language": "python",
   "name": "python3"
  },
  "language_info": {
   "codemirror_mode": {
    "name": "ipython",
    "version": 2
   },
   "file_extension": ".py",
   "mimetype": "text/x-python",
   "name": "python",
   "nbconvert_exporter": "python",
   "pygments_lexer": "ipython2",
   "version": "2.7.6"
  }
 },
 "nbformat": 4,
 "nbformat_minor": 0
}